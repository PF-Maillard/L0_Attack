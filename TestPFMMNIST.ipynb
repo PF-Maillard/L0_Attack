{
  "cells": [
    {
      "cell_type": "code",
      "execution_count": 94,
      "metadata": {},
      "outputs": [
        {
          "name": "stdout",
          "output_type": "stream",
          "text": [
            "Requirement already satisfied: torchattacks in c:\\sources\\python311\\lib\\site-packages (3.5.1)\n",
            "Requirement already satisfied: torch>=1.7.1 in c:\\sources\\python311\\lib\\site-packages (from torchattacks) (2.0.1+cu118)\n",
            "Requirement already satisfied: torchvision>=0.8.2 in c:\\sources\\python311\\lib\\site-packages (from torchattacks) (0.15.2+cu118)\n",
            "Requirement already satisfied: scipy>=0.14.0 in c:\\sources\\python311\\lib\\site-packages (from torchattacks) (1.11.2)\n",
            "Requirement already satisfied: tqdm>=4.56.1 in c:\\sources\\python311\\lib\\site-packages (from torchattacks) (4.66.1)\n",
            "Requirement already satisfied: requests~=2.25.1 in c:\\sources\\python311\\lib\\site-packages (from torchattacks) (2.25.1)\n",
            "Requirement already satisfied: numpy>=1.19.4 in c:\\sources\\python311\\lib\\site-packages (from torchattacks) (1.24.1)\n",
            "Requirement already satisfied: chardet<5,>=3.0.2 in c:\\sources\\python311\\lib\\site-packages (from requests~=2.25.1->torchattacks) (4.0.0)\n",
            "Requirement already satisfied: idna<3,>=2.5 in c:\\sources\\python311\\lib\\site-packages (from requests~=2.25.1->torchattacks) (2.10)\n",
            "Requirement already satisfied: urllib3<1.27,>=1.21.1 in c:\\sources\\python311\\lib\\site-packages (from requests~=2.25.1->torchattacks) (1.26.13)\n",
            "Requirement already satisfied: certifi>=2017.4.17 in c:\\sources\\python311\\lib\\site-packages (from requests~=2.25.1->torchattacks) (2022.12.7)\n",
            "Requirement already satisfied: filelock in c:\\sources\\python311\\lib\\site-packages (from torch>=1.7.1->torchattacks) (3.9.0)\n",
            "Requirement already satisfied: typing-extensions in c:\\sources\\python311\\lib\\site-packages (from torch>=1.7.1->torchattacks) (4.4.0)\n",
            "Requirement already satisfied: sympy in c:\\sources\\python311\\lib\\site-packages (from torch>=1.7.1->torchattacks) (1.11.1)\n",
            "Requirement already satisfied: networkx in c:\\sources\\python311\\lib\\site-packages (from torch>=1.7.1->torchattacks) (3.0)\n",
            "Requirement already satisfied: jinja2 in c:\\sources\\python311\\lib\\site-packages (from torch>=1.7.1->torchattacks) (3.1.2)\n",
            "Requirement already satisfied: pillow!=8.3.*,>=5.3.0 in c:\\sources\\python311\\lib\\site-packages (from torchvision>=0.8.2->torchattacks) (9.3.0)\n",
            "Requirement already satisfied: colorama in c:\\sources\\python311\\lib\\site-packages (from tqdm>=4.56.1->torchattacks) (0.4.6)\n",
            "Requirement already satisfied: MarkupSafe>=2.0 in c:\\sources\\python311\\lib\\site-packages (from jinja2->torch>=1.7.1->torchattacks) (2.1.2)\n",
            "Requirement already satisfied: mpmath>=0.19 in c:\\sources\\python311\\lib\\site-packages (from sympy->torch>=1.7.1->torchattacks) (1.2.1)\n"
          ]
        },
        {
          "name": "stderr",
          "output_type": "stream",
          "text": [
            "\n",
            "[notice] A new release of pip is available: 23.3.2 -> 24.0\n",
            "[notice] To update, run: python.exe -m pip install --upgrade pip\n"
          ]
        },
        {
          "name": "stdout",
          "output_type": "stream",
          "text": [
            "Requirement already satisfied: pandas in c:\\sources\\python311\\lib\\site-packages (2.0.3)\n",
            "Requirement already satisfied: python-dateutil>=2.8.2 in c:\\sources\\python311\\lib\\site-packages (from pandas) (2.8.2)\n",
            "Requirement already satisfied: pytz>=2020.1 in c:\\sources\\python311\\lib\\site-packages (from pandas) (2023.3)\n",
            "Requirement already satisfied: tzdata>=2022.1 in c:\\sources\\python311\\lib\\site-packages (from pandas) (2023.3)\n",
            "Requirement already satisfied: numpy>=1.21.0 in c:\\sources\\python311\\lib\\site-packages (from pandas) (1.24.1)\n",
            "Requirement already satisfied: six>=1.5 in c:\\sources\\python311\\lib\\site-packages (from python-dateutil>=2.8.2->pandas) (1.16.0)\n"
          ]
        },
        {
          "name": "stderr",
          "output_type": "stream",
          "text": [
            "\n",
            "[notice] A new release of pip is available: 23.3.2 -> 24.0\n",
            "[notice] To update, run: python.exe -m pip install --upgrade pip\n"
          ]
        },
        {
          "name": "stdout",
          "output_type": "stream",
          "text": [
            "Requirement already satisfied: openpyxl in c:\\sources\\python311\\lib\\site-packages (3.1.2)\n",
            "Requirement already satisfied: et-xmlfile in c:\\sources\\python311\\lib\\site-packages (from openpyxl) (1.1.0)\n"
          ]
        },
        {
          "name": "stderr",
          "output_type": "stream",
          "text": [
            "\n",
            "[notice] A new release of pip is available: 23.3.2 -> 24.0\n",
            "[notice] To update, run: python.exe -m pip install --upgrade pip\n"
          ]
        },
        {
          "name": "stdout",
          "output_type": "stream",
          "text": [
            "Requirement already satisfied: numpy in c:\\sources\\python311\\lib\\site-packages (1.24.1)\n"
          ]
        },
        {
          "name": "stderr",
          "output_type": "stream",
          "text": [
            "\n",
            "[notice] A new release of pip is available: 23.3.2 -> 24.0\n",
            "[notice] To update, run: python.exe -m pip install --upgrade pip\n"
          ]
        },
        {
          "name": "stdout",
          "output_type": "stream",
          "text": [
            "Requirement already satisfied: plot in c:\\sources\\python311\\lib\\site-packages (0.6.5)\n",
            "Requirement already satisfied: matplotlib in c:\\sources\\python311\\lib\\site-packages (from plot) (3.7.2)\n",
            "Requirement already satisfied: typing in c:\\sources\\python311\\lib\\site-packages (from plot) (3.7.4.3)\n",
            "Requirement already satisfied: numpy in c:\\sources\\python311\\lib\\site-packages (from plot) (1.24.1)\n",
            "Requirement already satisfied: scipy in c:\\sources\\python311\\lib\\site-packages (from plot) (1.11.2)\n",
            "Requirement already satisfied: pyyaml in c:\\sources\\python311\\lib\\site-packages (from plot) (6.0.1)\n",
            "Requirement already satisfied: contourpy>=1.0.1 in c:\\sources\\python311\\lib\\site-packages (from matplotlib->plot) (1.1.0)\n",
            "Requirement already satisfied: cycler>=0.10 in c:\\sources\\python311\\lib\\site-packages (from matplotlib->plot) (0.11.0)\n",
            "Requirement already satisfied: fonttools>=4.22.0 in c:\\sources\\python311\\lib\\site-packages (from matplotlib->plot) (4.41.1)\n",
            "Requirement already satisfied: kiwisolver>=1.0.1 in c:\\sources\\python311\\lib\\site-packages (from matplotlib->plot) (1.4.4)\n",
            "Requirement already satisfied: packaging>=20.0 in c:\\sources\\python311\\lib\\site-packages (from matplotlib->plot) (23.1)\n",
            "Requirement already satisfied: pillow>=6.2.0 in c:\\sources\\python311\\lib\\site-packages (from matplotlib->plot) (9.3.0)\n",
            "Requirement already satisfied: pyparsing<3.1,>=2.3.1 in c:\\sources\\python311\\lib\\site-packages (from matplotlib->plot) (3.0.9)\n",
            "Requirement already satisfied: python-dateutil>=2.7 in c:\\sources\\python311\\lib\\site-packages (from matplotlib->plot) (2.8.2)\n",
            "Requirement already satisfied: six>=1.5 in c:\\sources\\python311\\lib\\site-packages (from python-dateutil>=2.7->matplotlib->plot) (1.16.0)\n"
          ]
        },
        {
          "name": "stderr",
          "output_type": "stream",
          "text": [
            "\n",
            "[notice] A new release of pip is available: 23.3.2 -> 24.0\n",
            "[notice] To update, run: python.exe -m pip install --upgrade pip\n"
          ]
        },
        {
          "name": "stdout",
          "output_type": "stream",
          "text": [
            "Requirement already satisfied: numpy in c:\\sources\\python311\\lib\\site-packages (1.24.1)"
          ]
        },
        {
          "name": "stderr",
          "output_type": "stream",
          "text": [
            "\n",
            "[notice] A new release of pip is available: 23.3.2 -> 24.0\n",
            "[notice] To update, run: python.exe -m pip install --upgrade pip\n"
          ]
        },
        {
          "name": "stdout",
          "output_type": "stream",
          "text": [
            "\n"
          ]
        }
      ],
      "source": [
        "!pip install torchattacks\n",
        "!pip install pandas\n",
        "!pip install openpyxl\n",
        "!pip install numpy\n",
        "!pip install plot \n",
        "!pip install numpy"
      ]
    },
    {
      "cell_type": "code",
      "execution_count": 95,
      "metadata": {
        "id": "7TSKaIVFvIoy"
      },
      "outputs": [],
      "source": [
        "import torch\n",
        "import torch.nn as nn\n",
        "import time\n",
        "import pandas as pd"
      ]
    },
    {
      "cell_type": "code",
      "execution_count": 96,
      "metadata": {},
      "outputs": [
        {
          "name": "stdout",
          "output_type": "stream",
          "text": [
            "['AddSecurity', 'CalculateNorms', 'HardwareIdentification', 'TestLoop', 'Trainloop', '__builtins__', '__cached__', '__doc__', '__file__', '__loader__', '__name__', '__package__', '__spec__', 'datasets', 'get_pred', 'imshow', 'np', 'plt', 'torch', 'torchvision', 'transforms']\n",
            "['ConvNeuralNet', 'ImportData', '__builtins__', '__cached__', '__doc__', '__file__', '__loader__', '__name__', '__package__', '__spec__', 'datasets', 'nn', 'torch', 'transforms']\n"
          ]
        }
      ],
      "source": [
        "import DefaultModel as Util\n",
        "import MnistModel as MnistModel\n",
        "\n",
        "import Maillard\n",
        "import CW_L0\n",
        "import TestUtils\n",
        "\n",
        "print(dir(Util))\n",
        "print(dir(MnistModel))\n"
      ]
    },
    {
      "cell_type": "code",
      "execution_count": 97,
      "metadata": {},
      "outputs": [
        {
          "name": "stdout",
          "output_type": "stream",
          "text": [
            "cuda\n",
            "60000\n",
            "10000\n"
          ]
        }
      ],
      "source": [
        "Device = Util.HardwareIdentification()\n",
        "TrainDataLoaderMNIST,TestDataLoaderMNIST = MnistModel.ImportData(1)"
      ]
    },
    {
      "cell_type": "code",
      "execution_count": 98,
      "metadata": {
        "id": "hvTwOOQOvIo0"
      },
      "outputs": [],
      "source": [
        "Model = MnistModel.ConvNeuralNet(10)\n",
        "Model = Model.to(Device)\n",
        "Epochs = 40\n",
        "Loss = nn.CrossEntropyLoss()\n",
        "LearningRate = 0.001\n",
        "Optimizer = torch.optim.Adam(Model.parameters(), lr=LearningRate)"
      ]
    },
    {
      "cell_type": "code",
      "execution_count": 99,
      "metadata": {
        "colab": {
          "base_uri": "https://localhost:8080/"
        },
        "id": "JCwDziPOvIo0",
        "outputId": "f88975a0-7ad0-423a-f419-bf1849612466"
      },
      "outputs": [
        {
          "name": "stdout",
          "output_type": "stream",
          "text": [
            "Couldn't find program: 'false'\n"
          ]
        }
      ],
      "source": [
        "%%script false --no-raise-error\n",
        "for Epoch in range(Epochs):\n",
        "    ReturnLoss = Util.Trainloop(TrainDataLoaderMNIST, Model, Loss, Optimizer, Device)\n",
        "    print('{:.4f}'.format(ReturnLoss))\n",
        "ModelPath = 'Models\\\\ModelMNIST.torch'\n",
        "torch.save(Model.state_dict(), ModelPath)"
      ]
    },
    {
      "cell_type": "code",
      "execution_count": 100,
      "metadata": {},
      "outputs": [
        {
          "data": {
            "text/plain": [
              "<All keys matched successfully>"
            ]
          },
          "execution_count": 100,
          "metadata": {},
          "output_type": "execute_result"
        }
      ],
      "source": [
        "Model.load_state_dict(torch.load('Models\\\\ModelMNIST.torch'))"
      ]
    },
    {
      "cell_type": "code",
      "execution_count": 101,
      "metadata": {},
      "outputs": [
        {
          "name": "stdout",
          "output_type": "stream",
          "text": [
            "Accuracy: 99.38%\n"
          ]
        }
      ],
      "source": [
        "Util.TestLoop(TestDataLoaderMNIST, Model, Device)\n",
        "X, y = next(iter(TestDataLoaderMNIST))"
      ]
    },
    {
      "cell_type": "code",
      "execution_count": 103,
      "metadata": {
        "id": "Wyz9BcjKvIo2"
      },
      "outputs": [
        {
          "name": "stdout",
          "output_type": "stream",
          "text": [
            "19 2.5714548 0.9960542 3 5 10 4 0.2 7 7 3 7\n",
            "22 3.4603353 0.9960173 4 5 10 4 0.2 7 7 3 7\n",
            "25 2.9804819 0.9960618 3 5 100 4 0.2 7 7 2 7\n",
            "19 3.8604977 0.9954567 4 5 100 4 0.2 7 7 3 7\n"
          ]
        }
      ],
      "source": [
        "ActivationList = [3, 4]\n",
        "CoefList = [5]\n",
        "CList = [10, 100]\n",
        "ProbList = [4]\n",
        "SimilarityList = [0.2]\n",
        "Init = 0\n",
        "lr = 0.2\n",
        "Steps = 10000\n",
        "\n",
        "data = []\n",
        "for S in SimilarityList:\n",
        "  for P in ProbList:\n",
        "    for C in CList:\n",
        "      for Coef in CoefList:\n",
        "        for Activation in ActivationList:\n",
        "          DataResult, _ = TestUtils.AttackNorms(Model, C, Steps, lr,  Coef, Activation, P, S, Init, X, y, Device)\n",
        "          data += DataResult\n",
        "\n",
        "df = pd.DataFrame(data, columns=['L0 Norm', 'L2 Norm', 'Linf Norm', 'Activation', 'Coef', 'Prob', 'c', 'Similarity', 'Pre', 'Ppred', 'Apred', 'Spre'])\n",
        "df.to_excel(\"Results\\\\Parameters\\\\Parameters.xlsx\")"
      ]
    },
    {
      "cell_type": "code",
      "execution_count": 104,
      "metadata": {},
      "outputs": [
        {
          "name": "stdout",
          "output_type": "stream",
          "text": [
            "107 10.021993 0.99999976 4 5 1000 2 0.2 7 7 9 7\n",
            "199 13.668716 0.9999783 4 5 666.6666666666666 2 0.2 7 7 5 7\n",
            "230 14.669749 0.9998118 4 5 444.4444444444444 2 0.2 7 7 2 7\n",
            "145 11.489879 0.99999404 4 5 296.29629629629625 2 0.2 7 7 2 7\n",
            "120 10.33758 0.9999993 4 5 197.53086419753083 2 0.2 7 7 8 7\n",
            "75 8.458763 0.99999774 4 5 131.68724279835388 2 0.2 7 7 8 7\n",
            "112 10.051012 0.99997973 4 5 87.79149519890258 2 0.2 7 7 8 7\n",
            "74 8.4252615 0.9999869 4 5 58.527663465935056 2 0.2 7 7 8 7\n",
            "89 9.243114 0.99997526 4 5 39.01844231062337 2 0.2 7 7 2 7\n",
            "50 6.4718556 0.99999875 4 5 26.012294873748914 2 0.2 7 7 1 7\n",
            "72 8.269733 0.9996739 4 5 17.34152991583261 2 0.2 7 7 2 7\n"
          ]
        },
        {
          "ename": "KeyboardInterrupt",
          "evalue": "",
          "output_type": "error",
          "traceback": [
            "\u001b[1;31m---------------------------------------------------------------------------\u001b[0m",
            "\u001b[1;31mKeyboardInterrupt\u001b[0m                         Traceback (most recent call last)",
            "Cell \u001b[1;32mIn[104], line 12\u001b[0m\n\u001b[0;32m     10\u001b[0m data \u001b[38;5;241m=\u001b[39m []\n\u001b[0;32m     11\u001b[0m start_time \u001b[38;5;241m=\u001b[39m time\u001b[38;5;241m.\u001b[39mtime()\n\u001b[1;32m---> 12\u001b[0m data \u001b[38;5;241m=\u001b[39m \u001b[43mTestUtils\u001b[49m\u001b[38;5;241;43m.\u001b[39;49m\u001b[43mTestLoopC\u001b[49m\u001b[43m(\u001b[49m\u001b[43mModel\u001b[49m\u001b[43m,\u001b[49m\u001b[43m \u001b[49m\u001b[43mSteps\u001b[49m\u001b[43m,\u001b[49m\u001b[43m \u001b[49m\u001b[43mlr\u001b[49m\u001b[43m,\u001b[49m\u001b[43m \u001b[49m\u001b[43mCoef\u001b[49m\u001b[43m,\u001b[49m\u001b[43m \u001b[49m\u001b[43mActivation\u001b[49m\u001b[43m,\u001b[49m\u001b[43m \u001b[49m\u001b[43mProb\u001b[49m\u001b[43m,\u001b[49m\u001b[43m \u001b[49m\u001b[43mSimilarity\u001b[49m\u001b[43m,\u001b[49m\u001b[43m \u001b[49m\u001b[43mInit\u001b[49m\u001b[43m,\u001b[49m\u001b[43m \u001b[49m\u001b[43mX\u001b[49m\u001b[43m,\u001b[49m\u001b[43m \u001b[49m\u001b[43my\u001b[49m\u001b[43m,\u001b[49m\u001b[43m \u001b[49m\u001b[43mDevice\u001b[49m\u001b[43m,\u001b[49m\u001b[43m \u001b[49m\u001b[38;5;241;43m1000\u001b[39;49m\u001b[43m,\u001b[49m\u001b[43m \u001b[49m\u001b[38;5;241;43m0.1\u001b[39;49m\u001b[43m,\u001b[49m\u001b[43m \u001b[49m\u001b[38;5;241;43m1.5\u001b[39;49m\u001b[43m)\u001b[49m\n\u001b[0;32m     13\u001b[0m end_time \u001b[38;5;241m=\u001b[39m time\u001b[38;5;241m.\u001b[39mtime()\n\u001b[0;32m     15\u001b[0m TestUtils\u001b[38;5;241m.\u001b[39mSaveTime(start_time, end_time, \u001b[38;5;124m\"\u001b[39m\u001b[38;5;124mResults\u001b[39m\u001b[38;5;130;01m\\\\\u001b[39;00m\u001b[38;5;124mMNIST\u001b[39m\u001b[38;5;130;01m\\\\\u001b[39;00m\u001b[38;5;124mComputationTimeResults.txt\u001b[39m\u001b[38;5;124m\"\u001b[39m)\n",
            "File \u001b[1;32mc:\\Users\\pfmai\\Desktop\\L0_Attack\\TestUtils.py:72\u001b[0m, in \u001b[0;36mTestLoopC\u001b[1;34m(Model, steps, lr, Coef, Activation, P, S, Init, X, y, Device, Start, End, Factor)\u001b[0m\n\u001b[0;32m     70\u001b[0m C \u001b[38;5;241m=\u001b[39m Start\n\u001b[0;32m     71\u001b[0m \u001b[38;5;28;01mwhile\u001b[39;00m(C \u001b[38;5;241m>\u001b[39m End):\n\u001b[1;32m---> 72\u001b[0m     DataResult, _ \u001b[38;5;241m=\u001b[39m \u001b[43mAttackNorms\u001b[49m\u001b[43m(\u001b[49m\u001b[43mModel\u001b[49m\u001b[43m,\u001b[49m\u001b[43m \u001b[49m\u001b[43mC\u001b[49m\u001b[43m,\u001b[49m\u001b[43m \u001b[49m\u001b[43msteps\u001b[49m\u001b[43m,\u001b[49m\u001b[43m \u001b[49m\u001b[43mlr\u001b[49m\u001b[43m,\u001b[49m\u001b[43m \u001b[49m\u001b[43mCoef\u001b[49m\u001b[43m,\u001b[49m\u001b[43m \u001b[49m\u001b[43mActivation\u001b[49m\u001b[43m,\u001b[49m\u001b[43m \u001b[49m\u001b[43mP\u001b[49m\u001b[43m,\u001b[49m\u001b[43m \u001b[49m\u001b[43mS\u001b[49m\u001b[43m,\u001b[49m\u001b[43m \u001b[49m\u001b[43mInit\u001b[49m\u001b[43m,\u001b[49m\u001b[43m \u001b[49m\u001b[43mX\u001b[49m\u001b[43m,\u001b[49m\u001b[43m \u001b[49m\u001b[43my\u001b[49m\u001b[43m,\u001b[49m\u001b[43m \u001b[49m\u001b[43mDevice\u001b[49m\u001b[43m)\u001b[49m\n\u001b[0;32m     73\u001b[0m     data\u001b[38;5;241m.\u001b[39mappend(DataResult)\n\u001b[0;32m     74\u001b[0m     C\u001b[38;5;241m/\u001b[39m\u001b[38;5;241m=\u001b[39mFactor\n",
            "File \u001b[1;32mc:\\Users\\pfmai\\Desktop\\L0_Attack\\TestUtils.py:35\u001b[0m, in \u001b[0;36mAttackNorms\u001b[1;34m(Model, C, steps, lr, Coef, Activation, P, S, Init, X, y, Device)\u001b[0m\n\u001b[0;32m     33\u001b[0m Images \u001b[38;5;241m=\u001b[39m []\n\u001b[0;32m     34\u001b[0m atk \u001b[38;5;241m=\u001b[39m Maillard\u001b[38;5;241m.\u001b[39mPFM(Model, c\u001b[38;5;241m=\u001b[39mC, steps\u001b[38;5;241m=\u001b[39msteps, lr\u001b[38;5;241m=\u001b[39mlr, Coef\u001b[38;5;241m=\u001b[39mCoef, Activation\u001b[38;5;241m=\u001b[39mActivation, Prob \u001b[38;5;241m=\u001b[39m P, Similarity \u001b[38;5;241m=\u001b[39m S, Init\u001b[38;5;241m=\u001b[39mInit)\n\u001b[1;32m---> 35\u001b[0m AdvPFM \u001b[38;5;241m=\u001b[39m \u001b[43matk\u001b[49m\u001b[43m(\u001b[49m\u001b[43mX\u001b[49m\u001b[43m,\u001b[49m\u001b[43m \u001b[49m\u001b[43my\u001b[49m\u001b[43m)\u001b[49m\n\u001b[0;32m     36\u001b[0m \u001b[38;5;28;01mfor\u001b[39;00m idx \u001b[38;5;129;01min\u001b[39;00m \u001b[38;5;28mrange\u001b[39m(\u001b[38;5;28mlen\u001b[39m(X)):\n\u001b[0;32m     37\u001b[0m     TPred \u001b[38;5;241m=\u001b[39m y[idx:idx\u001b[38;5;241m+\u001b[39m\u001b[38;5;241m1\u001b[39m]\n",
            "File \u001b[1;32mc:\\Users\\pfmai\\Desktop\\L0_Attack\\Maillard.py:474\u001b[0m, in \u001b[0;36mAttack.__call__\u001b[1;34m(self, images, labels, *args, **kwargs)\u001b[0m\n\u001b[0;32m    472\u001b[0m \u001b[38;5;28mself\u001b[39m\u001b[38;5;241m.\u001b[39m_change_model_mode(given_training)\n\u001b[0;32m    473\u001b[0m images \u001b[38;5;241m=\u001b[39m \u001b[38;5;28mself\u001b[39m\u001b[38;5;241m.\u001b[39m_check_inputs(images)\n\u001b[1;32m--> 474\u001b[0m adv_images \u001b[38;5;241m=\u001b[39m \u001b[38;5;28;43mself\u001b[39;49m\u001b[38;5;241;43m.\u001b[39;49m\u001b[43mforward\u001b[49m\u001b[43m(\u001b[49m\u001b[43mimages\u001b[49m\u001b[43m,\u001b[49m\u001b[43m \u001b[49m\u001b[43mlabels\u001b[49m\u001b[43m,\u001b[49m\u001b[43m \u001b[49m\u001b[38;5;241;43m*\u001b[39;49m\u001b[43margs\u001b[49m\u001b[43m,\u001b[49m\u001b[43m \u001b[49m\u001b[38;5;241;43m*\u001b[39;49m\u001b[38;5;241;43m*\u001b[39;49m\u001b[43mkwargs\u001b[49m\u001b[43m)\u001b[49m\n\u001b[0;32m    475\u001b[0m adv_images \u001b[38;5;241m=\u001b[39m \u001b[38;5;28mself\u001b[39m\u001b[38;5;241m.\u001b[39m_check_outputs(adv_images)\n\u001b[0;32m    476\u001b[0m \u001b[38;5;28mself\u001b[39m\u001b[38;5;241m.\u001b[39m_recover_model_mode(given_training)\n",
            "File \u001b[1;32mc:\\Users\\pfmai\\Desktop\\L0_Attack\\Maillard.py:661\u001b[0m, in \u001b[0;36mPFM.forward\u001b[1;34m(self, images, labels)\u001b[0m\n\u001b[0;32m    658\u001b[0m cost \u001b[38;5;241m=\u001b[39m L2_loss \u001b[38;5;241m+\u001b[39m \u001b[38;5;28mself\u001b[39m\u001b[38;5;241m.\u001b[39mc\u001b[38;5;241m*\u001b[39mf_loss\n\u001b[0;32m    660\u001b[0m optimizer\u001b[38;5;241m.\u001b[39mzero_grad()\n\u001b[1;32m--> 661\u001b[0m \u001b[43mcost\u001b[49m\u001b[38;5;241;43m.\u001b[39;49m\u001b[43mbackward\u001b[49m\u001b[43m(\u001b[49m\u001b[43m)\u001b[49m\n\u001b[0;32m    662\u001b[0m optimizer\u001b[38;5;241m.\u001b[39mstep()\n\u001b[0;32m    664\u001b[0m \u001b[38;5;66;03m# Update adversarial images\u001b[39;00m\n",
            "File \u001b[1;32mc:\\Sources\\Python311\\Lib\\site-packages\\torch\\_tensor.py:487\u001b[0m, in \u001b[0;36mTensor.backward\u001b[1;34m(self, gradient, retain_graph, create_graph, inputs)\u001b[0m\n\u001b[0;32m    477\u001b[0m \u001b[38;5;28;01mif\u001b[39;00m has_torch_function_unary(\u001b[38;5;28mself\u001b[39m):\n\u001b[0;32m    478\u001b[0m     \u001b[38;5;28;01mreturn\u001b[39;00m handle_torch_function(\n\u001b[0;32m    479\u001b[0m         Tensor\u001b[38;5;241m.\u001b[39mbackward,\n\u001b[0;32m    480\u001b[0m         (\u001b[38;5;28mself\u001b[39m,),\n\u001b[1;32m   (...)\u001b[0m\n\u001b[0;32m    485\u001b[0m         inputs\u001b[38;5;241m=\u001b[39minputs,\n\u001b[0;32m    486\u001b[0m     )\n\u001b[1;32m--> 487\u001b[0m \u001b[43mtorch\u001b[49m\u001b[38;5;241;43m.\u001b[39;49m\u001b[43mautograd\u001b[49m\u001b[38;5;241;43m.\u001b[39;49m\u001b[43mbackward\u001b[49m\u001b[43m(\u001b[49m\n\u001b[0;32m    488\u001b[0m \u001b[43m    \u001b[49m\u001b[38;5;28;43mself\u001b[39;49m\u001b[43m,\u001b[49m\u001b[43m \u001b[49m\u001b[43mgradient\u001b[49m\u001b[43m,\u001b[49m\u001b[43m \u001b[49m\u001b[43mretain_graph\u001b[49m\u001b[43m,\u001b[49m\u001b[43m \u001b[49m\u001b[43mcreate_graph\u001b[49m\u001b[43m,\u001b[49m\u001b[43m \u001b[49m\u001b[43minputs\u001b[49m\u001b[38;5;241;43m=\u001b[39;49m\u001b[43minputs\u001b[49m\n\u001b[0;32m    489\u001b[0m \u001b[43m\u001b[49m\u001b[43m)\u001b[49m\n",
            "File \u001b[1;32mc:\\Sources\\Python311\\Lib\\site-packages\\torch\\autograd\\__init__.py:200\u001b[0m, in \u001b[0;36mbackward\u001b[1;34m(tensors, grad_tensors, retain_graph, create_graph, grad_variables, inputs)\u001b[0m\n\u001b[0;32m    195\u001b[0m     retain_graph \u001b[38;5;241m=\u001b[39m create_graph\n\u001b[0;32m    197\u001b[0m \u001b[38;5;66;03m# The reason we repeat same the comment below is that\u001b[39;00m\n\u001b[0;32m    198\u001b[0m \u001b[38;5;66;03m# some Python versions print out the first line of a multi-line function\u001b[39;00m\n\u001b[0;32m    199\u001b[0m \u001b[38;5;66;03m# calls in the traceback and some print out the last line\u001b[39;00m\n\u001b[1;32m--> 200\u001b[0m \u001b[43mVariable\u001b[49m\u001b[38;5;241;43m.\u001b[39;49m\u001b[43m_execution_engine\u001b[49m\u001b[38;5;241;43m.\u001b[39;49m\u001b[43mrun_backward\u001b[49m\u001b[43m(\u001b[49m\u001b[43m  \u001b[49m\u001b[38;5;66;43;03m# Calls into the C++ engine to run the backward pass\u001b[39;49;00m\n\u001b[0;32m    201\u001b[0m \u001b[43m    \u001b[49m\u001b[43mtensors\u001b[49m\u001b[43m,\u001b[49m\u001b[43m \u001b[49m\u001b[43mgrad_tensors_\u001b[49m\u001b[43m,\u001b[49m\u001b[43m \u001b[49m\u001b[43mretain_graph\u001b[49m\u001b[43m,\u001b[49m\u001b[43m \u001b[49m\u001b[43mcreate_graph\u001b[49m\u001b[43m,\u001b[49m\u001b[43m \u001b[49m\u001b[43minputs\u001b[49m\u001b[43m,\u001b[49m\n\u001b[0;32m    202\u001b[0m \u001b[43m    \u001b[49m\u001b[43mallow_unreachable\u001b[49m\u001b[38;5;241;43m=\u001b[39;49m\u001b[38;5;28;43;01mTrue\u001b[39;49;00m\u001b[43m,\u001b[49m\u001b[43m \u001b[49m\u001b[43maccumulate_grad\u001b[49m\u001b[38;5;241;43m=\u001b[39;49m\u001b[38;5;28;43;01mTrue\u001b[39;49;00m\u001b[43m)\u001b[49m\n",
            "\u001b[1;31mKeyboardInterrupt\u001b[0m: "
          ]
        }
      ],
      "source": [
        "Activation = 4\n",
        "Coef = 5\n",
        "Prob = 2\n",
        "Similarity = 0.2\n",
        "Init=1\n",
        "lr = 0.2\n",
        "Steps = 10000\n",
        "\n",
        "\n",
        "data = []\n",
        "start_time = time.time()\n",
        "data = TestUtils.TestLoopC(Model, Steps, lr, Coef, Activation, Prob, Similarity, Init, X, y, Device, 1000, 0.1, 1.5)\n",
        "end_time = time.time()\n",
        "\n",
        "TestUtils.SaveTime(start_time, end_time, \"Results\\\\MNIST\\\\ComputationTimeResults.txt\")\n",
        "TestUtils.SaveData(data, \"Results\\\\MNIST\\\\Results.xlsx\")"
      ]
    },
    {
      "cell_type": "code",
      "execution_count": null,
      "metadata": {},
      "outputs": [
        {
          "name": "stdout",
          "output_type": "stream",
          "text": [
            "0 0.0 0.0 4 5 1000 2 0.2 7 7 7 7\n",
            "0 0.0 0.0 4 5 666.6666666666666 2 0.2 7 7 7 7\n",
            "0 0.0 0.0 4 5 444.4444444444444 2 0.2 7 7 7 7\n",
            "0 0.0 0.0 4 5 296.29629629629625 2 0.2 7 7 7 7\n",
            "0 0.0 0.0 4 5 197.53086419753083 2 0.2 7 7 7 7\n",
            "0 0.0 0.0 4 5 131.68724279835388 2 0.2 7 7 7 7\n",
            "0 0.0 0.0 4 5 87.79149519890258 2 0.2 7 7 7 7\n",
            "0 0.0 0.0 4 5 58.527663465935056 2 0.2 7 7 7 7\n",
            "0 0.0 0.0 4 5 39.01844231062337 2 0.2 7 7 7 7\n",
            "0 0.0 0.0 4 5 26.012294873748914 2 0.2 7 7 7 7\n",
            "0 0.0 0.0 4 5 17.34152991583261 2 0.2 7 7 7 7\n",
            "0 0.0 0.0 4 5 11.561019943888406 2 0.2 7 7 7 7\n",
            "0 0.0 0.0 4 5 7.707346629258937 2 0.2 7 7 7 7\n",
            "0 0.0 0.0 4 5 5.138231086172625 2 0.2 7 7 7 7\n",
            "0 0.0 0.0 4 5 3.42548739078175 2 0.2 7 7 7 7\n",
            "0 0.0 0.0 4 5 2.283658260521167 2 0.2 7 7 7 7\n",
            "0 0.0 0.0 4 5 1.5224388403474445 2 0.2 7 7 7 7\n",
            "0 0.0 0.0 4 5 1.0149592268982963 2 0.2 7 7 7 7\n",
            "0 0.0 0.0 4 5 0.6766394845988642 2 0.2 7 7 7 7\n",
            "0 0.0 0.0 4 5 0.45109298973257617 2 0.2 7 7 7 7\n",
            "0 0.0 0.0 4 5 0.3007286598217174 2 0.2 7 7 7 7\n",
            "0 0.0 0.0 4 5 0.20048577321447827 2 0.2 7 7 7 7\n",
            "0 0.0 0.0 4 5 0.13365718214298553 2 0.2 7 7 7 7\n",
            "[[0, array(0., dtype=float32), array(0., dtype=float32), 4, 5, 2, 1000, 0.2, 7, 7, 7, 7]]\n",
            "48 4.0342116 0.8540018 4 5 1000 2 0.2 7 7 3 7\n",
            "59 4.2389402 0.8893756 4 5 666.6666666666666 2 0.2 7 7 2 7\n",
            "56 4.3405485 0.9771811 4 5 444.4444444444444 2 0.2 7 7 2 7\n",
            "55 4.206083 0.9595579 4 5 296.29629629629625 2 0.2 7 7 2 7\n",
            "57 4.459245 0.97971946 4 5 197.53086419753083 2 0.2 7 7 2 7\n",
            "60 4.1318803 0.874522 4 5 131.68724279835388 2 0.2 7 7 3 7\n",
            "51 4.527623 0.9947746 4 5 87.79149519890258 2 0.2 7 7 2 7\n",
            "55 4.781342 0.97792137 4 5 58.527663465935056 2 0.2 7 7 3 7\n",
            "50 4.112816 0.98373616 4 5 39.01844231062337 2 0.2 7 7 2 7\n",
            "46 4.5811505 0.99408066 4 5 26.012294873748914 2 0.2 7 7 2 7\n",
            "51 4.693239 0.9914184 4 5 17.34152991583261 2 0.2 7 7 3 7\n",
            "42 4.393579 0.9941267 4 5 11.561019943888406 2 0.2 7 7 2 7\n",
            "45 4.253942 0.99405944 4 5 7.707346629258937 2 0.2 7 7 2 7\n",
            "31 3.9803567 0.99505115 4 5 5.138231086172625 2 0.2 7 7 2 7\n",
            "29 3.866554 0.9939653 4 5 3.42548739078175 2 0.2 7 7 2 7\n",
            "36 3.7778118 0.980886 4 5 2.283658260521167 2 0.2 7 7 2 7\n",
            "22 3.2001102 0.97876835 4 5 1.5224388403474445 2 0.2 7 7 3 7\n",
            "0 0.0 0.0 4 5 1.0149592268982963 2 0.2 7 7 7 7\n",
            "0 0.0 0.0 4 5 0.6766394845988642 2 0.2 7 7 7 7\n",
            "0 0.0 0.0 4 5 0.45109298973257617 2 0.2 7 7 7 7\n",
            "0 0.0 0.0 4 5 0.3007286598217174 2 0.2 7 7 7 7\n",
            "0 0.0 0.0 4 5 0.20048577321447827 2 0.2 7 7 7 7\n",
            "0 0.0 0.0 4 5 0.13365718214298553 2 0.2 7 7 7 7\n",
            "[[22, array(3.2001102, dtype=float32), array(0.97876835, dtype=float32), 4, 5, 2, 1.5224388403474445, 0.2, 7, 7, 3, 7]]\n"
          ]
        }
      ],
      "source": [
        "Coef=5\n",
        "Activation=4\n",
        "Prob = 2\n",
        "Similarity = 0.2\n",
        "Init=0\n",
        "lr = 0.2\n",
        "\n",
        "TestedIterations = [1000, 10000]\n",
        "\n",
        "for i in range((len(TestedIterations))):\n",
        "    data = []\n",
        "    start_time = time.time()\n",
        "    data = TestUtils.TestLoopC(Model, TestedIterations[i], lr, Coef, Activation, Prob, Similarity, Init, X, y, Device, 1000, 0.1, 1.5)\n",
        "    end_time = time.time()\n",
        "\n",
        "    TestUtils.SaveTime(start_time, end_time, \"Results\\\\MNIST\\\\TimeXM\" + str(TestedIterations[i]) +\".txt\")\n",
        "    TestUtils.SaveData(data, \"Results\\\\MNIST\\\\ResultXM\" + str(TestedIterations[i]) + \".xlsx\")\n",
        "    "
      ]
    },
    {
      "cell_type": "code",
      "execution_count": null,
      "metadata": {},
      "outputs": [
        {
          "name": "stdout",
          "output_type": "stream",
          "text": [
            "56 4.415674 0.9801501 4 5 1000 2 0.2 7 7 2 7\n",
            "52 3.8050418 0.8648511 4 5 666.6666666666666 2 0.2 7 7 3 7\n",
            "57 4.139681 0.8481667 4 5 444.4444444444444 2 0.2 7 7 3 7\n",
            "62 5.072357 0.9948833 4 5 296.29629629629625 2 0.2 7 7 2 7\n",
            "47 3.9065259 0.9054772 4 5 197.53086419753083 2 0.2 7 7 3 7\n",
            "59 4.555554 0.95062244 4 5 131.68724279835388 2 0.2 7 7 2 7\n",
            "49 4.5479255 0.9953063 4 5 87.79149519890258 2 0.2 7 7 2 7\n",
            "0 0.0 0.0 4 5 58.527663465935056 2 0.2 7 7 7 7\n",
            "53 4.533733 0.9940121 4 5 39.01844231062337 2 0.2 7 7 2 7\n",
            "51 4.185346 0.9381098 4 5 26.012294873748914 2 0.2 7 7 3 7\n",
            "44 4.494392 0.99365276 4 5 17.34152991583261 2 0.2 7 7 2 7\n",
            "47 4.3612146 0.98620605 4 5 11.561019943888406 2 0.2 7 7 3 7\n",
            "39 3.9767928 0.9931184 4 5 7.707346629258937 2 0.2 7 7 3 7\n",
            "37 3.9639113 0.99317986 4 5 5.138231086172625 2 0.2 7 7 3 7\n",
            "30 3.8962336 0.9949205 4 5 3.42548739078175 2 0.2 7 7 2 7\n",
            "30 3.3972101 0.9923221 4 5 2.283658260521167 2 0.2 7 7 3 7\n",
            "0 0.0 0.0 4 5 1.5224388403474445 2 0.2 7 7 7 7\n",
            "0 0.0 0.0 4 5 1.0149592268982963 2 0.2 7 7 7 7\n",
            "0 0.0 0.0 4 5 0.6766394845988642 2 0.2 7 7 7 7\n",
            "0 0.0 0.0 4 5 0.45109298973257617 2 0.2 7 7 7 7\n",
            "0 0.0 0.0 4 5 0.3007286598217174 2 0.2 7 7 7 7\n",
            "0 0.0 0.0 4 5 0.20048577321447827 2 0.2 7 7 7 7\n",
            "0 0.0 0.0 4 5 0.13365718214298553 2 0.2 7 7 7 7\n"
          ]
        }
      ],
      "source": [
        "Coef=5\n",
        "Activation=4\n",
        "Prob = 2\n",
        "Similarity = 0.2\n",
        "Init=0\n",
        "lr = 0.2\n",
        "Steps = 10000\n",
        "\n",
        "TestUtils.SaveLoopC(Model, Steps, lr, Coef, Activation, Prob, Similarity, Init, X, y, Device, 1000, 0.1, 1.5, \"Results\\\\MNIST\\\\Images\\\\\")"
      ]
    },
    {
      "cell_type": "code",
      "execution_count": null,
      "metadata": {},
      "outputs": [
        {
          "name": "stdout",
          "output_type": "stream",
          "text": [
            "66 7.831178 1.0 0 0 0 0 0 7 7 8 7\n",
            "[[66, array(7.831178, dtype=float32), array(1., dtype=float32), 0, 0, 0, 0, 0, 7, 7, 8, 7]]\n"
          ]
        }
      ],
      "source": [
        "dataJSMA = []\n",
        "\n",
        "start_time = time.time()\n",
        "Data = TestUtils.TestJSMA(1,1, Model, X, y, Device)\n",
        "end_time = time.time()\n",
        "\n",
        "TestUtils.SaveTime(start_time, end_time, \"Results\\\\MNIST\\\\TimeJSMAM.txt\")\n",
        "TestUtils.SaveData(Data, \"Results\\\\MNIST\\\\BestJSMAM.xlsx\")"
      ]
    },
    {
      "cell_type": "code",
      "execution_count": null,
      "metadata": {},
      "outputs": [
        {
          "name": "stdout",
          "output_type": "stream",
          "text": [
            "10\n",
            "Attack iteration 0\n",
            "Attack iteration 1\n",
            "0 0.0 0.0 0 0 0 0 0 7 7 7 7\n",
            "0 0.0 0.0 0 0 0 0 0 2 2 2 2\n",
            "[[0, array(0., dtype=float32), array(0., dtype=float32), 0, 0, 0, 0, 0, 7, 7, 7, 7], [0, array(0., dtype=float32), array(0., dtype=float32), 0, 0, 0, 0, 0, 2, 2, 2, 2]]\n"
          ]
        }
      ],
      "source": [
        "Count=0\n",
        "dataCW = []\n",
        "\n",
        "start_time = time.time()\n",
        "Data, AX = TestUtils.TestCW(100, 1, 10, Model, X, y, Device)\n",
        "end_time = time.time()\n",
        "\n",
        "TestUtils.SaveTime(start_time, end_time, \"Results\\\\MNIST\\\\TimeCWM.txt\")\n",
        "TestUtils.SaveData([Data], \"Results\\\\MNIST\\\\BestCWM.xlsx\")"
      ]
    }
  ],
  "metadata": {
    "accelerator": "GPU",
    "colab": {
      "gpuType": "T4",
      "provenance": []
    },
    "kernelspec": {
      "display_name": "Python 3 (ipykernel)",
      "language": "python",
      "name": "python3"
    },
    "language_info": {
      "codemirror_mode": {
        "name": "ipython",
        "version": 3
      },
      "file_extension": ".py",
      "mimetype": "text/x-python",
      "name": "python",
      "nbconvert_exporter": "python",
      "pygments_lexer": "ipython3",
      "version": "3.11.4"
    },
    "orig_nbformat": 4
  },
  "nbformat": 4,
  "nbformat_minor": 0
}
