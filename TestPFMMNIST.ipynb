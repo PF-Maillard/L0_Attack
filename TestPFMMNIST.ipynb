{
  "cells": [
    {
      "cell_type": "code",
      "execution_count": 1,
      "metadata": {},
      "outputs": [
        {
          "name": "stdout",
          "output_type": "stream",
          "text": [
            "Requirement already satisfied: torchattacks in c:\\sources\\python311\\lib\\site-packages (3.5.1)\n",
            "Requirement already satisfied: torch>=1.7.1 in c:\\sources\\python311\\lib\\site-packages (from torchattacks) (2.0.1+cu118)\n",
            "Requirement already satisfied: torchvision>=0.8.2 in c:\\sources\\python311\\lib\\site-packages (from torchattacks) (0.15.2+cu118)\n",
            "Requirement already satisfied: scipy>=0.14.0 in c:\\sources\\python311\\lib\\site-packages (from torchattacks) (1.11.2)\n",
            "Requirement already satisfied: tqdm>=4.56.1 in c:\\sources\\python311\\lib\\site-packages (from torchattacks) (4.66.1)\n",
            "Requirement already satisfied: requests~=2.25.1 in c:\\sources\\python311\\lib\\site-packages (from torchattacks) (2.25.1)\n",
            "Requirement already satisfied: numpy>=1.19.4 in c:\\sources\\python311\\lib\\site-packages (from torchattacks) (1.24.1)\n",
            "Requirement already satisfied: chardet<5,>=3.0.2 in c:\\sources\\python311\\lib\\site-packages (from requests~=2.25.1->torchattacks) (4.0.0)\n",
            "Requirement already satisfied: idna<3,>=2.5 in c:\\sources\\python311\\lib\\site-packages (from requests~=2.25.1->torchattacks) (2.10)\n",
            "Requirement already satisfied: urllib3<1.27,>=1.21.1 in c:\\sources\\python311\\lib\\site-packages (from requests~=2.25.1->torchattacks) (1.26.13)\n",
            "Requirement already satisfied: certifi>=2017.4.17 in c:\\sources\\python311\\lib\\site-packages (from requests~=2.25.1->torchattacks) (2022.12.7)\n",
            "Requirement already satisfied: filelock in c:\\sources\\python311\\lib\\site-packages (from torch>=1.7.1->torchattacks) (3.9.0)\n",
            "Requirement already satisfied: typing-extensions in c:\\sources\\python311\\lib\\site-packages (from torch>=1.7.1->torchattacks) (4.4.0)\n",
            "Requirement already satisfied: sympy in c:\\sources\\python311\\lib\\site-packages (from torch>=1.7.1->torchattacks) (1.11.1)\n",
            "Requirement already satisfied: networkx in c:\\sources\\python311\\lib\\site-packages (from torch>=1.7.1->torchattacks) (3.0)\n",
            "Requirement already satisfied: jinja2 in c:\\sources\\python311\\lib\\site-packages (from torch>=1.7.1->torchattacks) (3.1.2)\n",
            "Requirement already satisfied: pillow!=8.3.*,>=5.3.0 in c:\\sources\\python311\\lib\\site-packages (from torchvision>=0.8.2->torchattacks) (9.3.0)\n",
            "Requirement already satisfied: colorama in c:\\sources\\python311\\lib\\site-packages (from tqdm>=4.56.1->torchattacks) (0.4.6)\n",
            "Requirement already satisfied: MarkupSafe>=2.0 in c:\\sources\\python311\\lib\\site-packages (from jinja2->torch>=1.7.1->torchattacks) (2.1.2)\n",
            "Requirement already satisfied: mpmath>=0.19 in c:\\sources\\python311\\lib\\site-packages (from sympy->torch>=1.7.1->torchattacks) (1.2.1)\n"
          ]
        },
        {
          "name": "stderr",
          "output_type": "stream",
          "text": [
            "\n",
            "[notice] A new release of pip is available: 23.3.2 -> 24.0\n",
            "[notice] To update, run: python.exe -m pip install --upgrade pip\n"
          ]
        },
        {
          "name": "stdout",
          "output_type": "stream",
          "text": [
            "Requirement already satisfied: pandas in c:\\sources\\python311\\lib\\site-packages (2.0.3)\n",
            "Requirement already satisfied: python-dateutil>=2.8.2 in c:\\sources\\python311\\lib\\site-packages (from pandas) (2.8.2)\n",
            "Requirement already satisfied: pytz>=2020.1 in c:\\sources\\python311\\lib\\site-packages (from pandas) (2023.3)\n",
            "Requirement already satisfied: tzdata>=2022.1 in c:\\sources\\python311\\lib\\site-packages (from pandas) (2023.3)\n",
            "Requirement already satisfied: numpy>=1.21.0 in c:\\sources\\python311\\lib\\site-packages (from pandas) (1.24.1)\n",
            "Requirement already satisfied: six>=1.5 in c:\\sources\\python311\\lib\\site-packages (from python-dateutil>=2.8.2->pandas) (1.16.0)\n"
          ]
        },
        {
          "name": "stderr",
          "output_type": "stream",
          "text": [
            "\n",
            "[notice] A new release of pip is available: 23.3.2 -> 24.0\n",
            "[notice] To update, run: python.exe -m pip install --upgrade pip\n"
          ]
        },
        {
          "name": "stdout",
          "output_type": "stream",
          "text": [
            "Requirement already satisfied: openpyxl in c:\\sources\\python311\\lib\\site-packages (3.1.2)\n",
            "Requirement already satisfied: et-xmlfile in c:\\sources\\python311\\lib\\site-packages (from openpyxl) (1.1.0)\n"
          ]
        },
        {
          "name": "stderr",
          "output_type": "stream",
          "text": [
            "\n",
            "[notice] A new release of pip is available: 23.3.2 -> 24.0\n",
            "[notice] To update, run: python.exe -m pip install --upgrade pip\n"
          ]
        },
        {
          "name": "stdout",
          "output_type": "stream",
          "text": [
            "Requirement already satisfied: numpy in c:\\sources\\python311\\lib\\site-packages (1.24.1)\n"
          ]
        },
        {
          "name": "stderr",
          "output_type": "stream",
          "text": [
            "\n",
            "[notice] A new release of pip is available: 23.3.2 -> 24.0\n",
            "[notice] To update, run: python.exe -m pip install --upgrade pip\n"
          ]
        },
        {
          "name": "stdout",
          "output_type": "stream",
          "text": [
            "Requirement already satisfied: plot in c:\\sources\\python311\\lib\\site-packages (0.6.5)\n",
            "Requirement already satisfied: matplotlib in c:\\sources\\python311\\lib\\site-packages (from plot) (3.7.2)\n",
            "Requirement already satisfied: typing in c:\\sources\\python311\\lib\\site-packages (from plot) (3.7.4.3)\n",
            "Requirement already satisfied: numpy in c:\\sources\\python311\\lib\\site-packages (from plot) (1.24.1)\n",
            "Requirement already satisfied: scipy in c:\\sources\\python311\\lib\\site-packages (from plot) (1.11.2)\n",
            "Requirement already satisfied: pyyaml in c:\\sources\\python311\\lib\\site-packages (from plot) (6.0.1)\n",
            "Requirement already satisfied: contourpy>=1.0.1 in c:\\sources\\python311\\lib\\site-packages (from matplotlib->plot) (1.1.0)\n",
            "Requirement already satisfied: cycler>=0.10 in c:\\sources\\python311\\lib\\site-packages (from matplotlib->plot) (0.11.0)\n",
            "Requirement already satisfied: fonttools>=4.22.0 in c:\\sources\\python311\\lib\\site-packages (from matplotlib->plot) (4.41.1)\n",
            "Requirement already satisfied: kiwisolver>=1.0.1 in c:\\sources\\python311\\lib\\site-packages (from matplotlib->plot) (1.4.4)\n",
            "Requirement already satisfied: packaging>=20.0 in c:\\sources\\python311\\lib\\site-packages (from matplotlib->plot) (23.1)\n",
            "Requirement already satisfied: pillow>=6.2.0 in c:\\sources\\python311\\lib\\site-packages (from matplotlib->plot) (9.3.0)\n",
            "Requirement already satisfied: pyparsing<3.1,>=2.3.1 in c:\\sources\\python311\\lib\\site-packages (from matplotlib->plot) (3.0.9)\n",
            "Requirement already satisfied: python-dateutil>=2.7 in c:\\sources\\python311\\lib\\site-packages (from matplotlib->plot) (2.8.2)\n",
            "Requirement already satisfied: six>=1.5 in c:\\sources\\python311\\lib\\site-packages (from python-dateutil>=2.7->matplotlib->plot) (1.16.0)\n"
          ]
        },
        {
          "name": "stderr",
          "output_type": "stream",
          "text": [
            "\n",
            "[notice] A new release of pip is available: 23.3.2 -> 24.0\n",
            "[notice] To update, run: python.exe -m pip install --upgrade pip\n"
          ]
        },
        {
          "name": "stdout",
          "output_type": "stream",
          "text": [
            "Requirement already satisfied: numpy in c:\\sources\\python311\\lib\\site-packages (1.24.1)\n"
          ]
        },
        {
          "name": "stderr",
          "output_type": "stream",
          "text": [
            "\n",
            "[notice] A new release of pip is available: 23.3.2 -> 24.0\n",
            "[notice] To update, run: python.exe -m pip install --upgrade pip\n"
          ]
        }
      ],
      "source": [
        "!pip install torchattacks\n",
        "!pip install pandas\n",
        "!pip install openpyxl\n",
        "!pip install numpy\n",
        "!pip install plot \n",
        "!pip install numpy"
      ]
    },
    {
      "cell_type": "code",
      "execution_count": 2,
      "metadata": {
        "id": "7TSKaIVFvIoy"
      },
      "outputs": [],
      "source": [
        "import torch\n",
        "import torch.nn as nn\n",
        "import time\n",
        "import pandas as pd"
      ]
    },
    {
      "cell_type": "code",
      "execution_count": 3,
      "metadata": {},
      "outputs": [],
      "source": [
        "import Sources.DefaultModel as Util\n",
        "import Sources.MnistModel as MnistModel\n",
        "import Sources.TestUtils as TestUtils"
      ]
    },
    {
      "cell_type": "code",
      "execution_count": 4,
      "metadata": {},
      "outputs": [
        {
          "name": "stdout",
          "output_type": "stream",
          "text": [
            "cuda\n",
            "Downloading http://yann.lecun.com/exdb/mnist/train-images-idx3-ubyte.gz\n",
            "Downloading http://yann.lecun.com/exdb/mnist/train-images-idx3-ubyte.gz to ./data\\MNIST\\raw\\train-images-idx3-ubyte.gz\n"
          ]
        },
        {
          "name": "stderr",
          "output_type": "stream",
          "text": [
            "100%|██████████| 9912422/9912422 [00:16<00:00, 605340.80it/s]\n"
          ]
        },
        {
          "name": "stdout",
          "output_type": "stream",
          "text": [
            "Extracting ./data\\MNIST\\raw\\train-images-idx3-ubyte.gz to ./data\\MNIST\\raw\n",
            "\n",
            "Downloading http://yann.lecun.com/exdb/mnist/train-labels-idx1-ubyte.gz\n",
            "Downloading http://yann.lecun.com/exdb/mnist/train-labels-idx1-ubyte.gz to ./data\\MNIST\\raw\\train-labels-idx1-ubyte.gz\n"
          ]
        },
        {
          "name": "stderr",
          "output_type": "stream",
          "text": [
            "100%|██████████| 28881/28881 [00:00<00:00, 4771751.90it/s]\n"
          ]
        },
        {
          "name": "stdout",
          "output_type": "stream",
          "text": [
            "Extracting ./data\\MNIST\\raw\\train-labels-idx1-ubyte.gz to ./data\\MNIST\\raw\n",
            "\n",
            "Downloading http://yann.lecun.com/exdb/mnist/t10k-images-idx3-ubyte.gz\n",
            "Downloading http://yann.lecun.com/exdb/mnist/t10k-images-idx3-ubyte.gz to ./data\\MNIST\\raw\\t10k-images-idx3-ubyte.gz\n"
          ]
        },
        {
          "name": "stderr",
          "output_type": "stream",
          "text": [
            "100%|██████████| 1648877/1648877 [00:02<00:00, 611071.76it/s]\n"
          ]
        },
        {
          "name": "stdout",
          "output_type": "stream",
          "text": [
            "Extracting ./data\\MNIST\\raw\\t10k-images-idx3-ubyte.gz to ./data\\MNIST\\raw\n",
            "\n",
            "Downloading http://yann.lecun.com/exdb/mnist/t10k-labels-idx1-ubyte.gz\n",
            "Downloading http://yann.lecun.com/exdb/mnist/t10k-labels-idx1-ubyte.gz to ./data\\MNIST\\raw\\t10k-labels-idx1-ubyte.gz\n"
          ]
        },
        {
          "name": "stderr",
          "output_type": "stream",
          "text": [
            "100%|██████████| 4542/4542 [00:00<?, ?it/s]"
          ]
        },
        {
          "name": "stdout",
          "output_type": "stream",
          "text": [
            "Extracting ./data\\MNIST\\raw\\t10k-labels-idx1-ubyte.gz to ./data\\MNIST\\raw\n",
            "\n",
            "60000\n",
            "10000\n"
          ]
        },
        {
          "name": "stderr",
          "output_type": "stream",
          "text": [
            "\n"
          ]
        }
      ],
      "source": [
        "Device = Util.HardwareIdentification()\n",
        "TrainDataLoaderMNIST,TestDataLoaderMNIST = MnistModel.ImportData(1)"
      ]
    },
    {
      "cell_type": "code",
      "execution_count": null,
      "metadata": {
        "id": "hvTwOOQOvIo0"
      },
      "outputs": [],
      "source": [
        "Model = MnistModel.ConvNeuralNet(10)\n",
        "Model = Model.to(Device)\n",
        "Epochs = 40\n",
        "Loss = nn.CrossEntropyLoss()\n",
        "LearningRate = 0.001\n",
        "Optimizer = torch.optim.Adam(Model.parameters(), lr=LearningRate)"
      ]
    },
    {
      "cell_type": "code",
      "execution_count": null,
      "metadata": {
        "colab": {
          "base_uri": "https://localhost:8080/"
        },
        "id": "JCwDziPOvIo0",
        "outputId": "f88975a0-7ad0-423a-f419-bf1849612466"
      },
      "outputs": [],
      "source": [
        "%%script false --no-raise-error\n",
        "for Epoch in range(Epochs):\n",
        "    ReturnLoss = Util.Trainloop(TrainDataLoaderMNIST, Model, Loss, Optimizer, Device)\n",
        "    print('{:.4f}'.format(ReturnLoss))\n",
        "ModelPath = 'Models\\\\ModelMNIST.torch'\n",
        "torch.save(Model.state_dict(), ModelPath)"
      ]
    },
    {
      "cell_type": "code",
      "execution_count": null,
      "metadata": {},
      "outputs": [],
      "source": [
        "Model.load_state_dict(torch.load('Models\\\\ModelMNIST.torch'))"
      ]
    },
    {
      "cell_type": "code",
      "execution_count": null,
      "metadata": {},
      "outputs": [],
      "source": [
        "Util.TestLoop(TestDataLoaderMNIST, Model, Device)\n",
        "X, y = next(iter(TestDataLoaderMNIST))"
      ]
    },
    {
      "cell_type": "code",
      "execution_count": null,
      "metadata": {
        "id": "Wyz9BcjKvIo2"
      },
      "outputs": [],
      "source": [
        "ActivationList = [3, 4]\n",
        "CoefList = [5]\n",
        "CList = [10, 100]\n",
        "ProbList = [4]\n",
        "SimilarityList = [0.2]\n",
        "Init = 0\n",
        "lr = 0.2\n",
        "Steps = 10000\n",
        "\n",
        "data = []\n",
        "for S in SimilarityList:\n",
        "  for P in ProbList:\n",
        "    for C in CList:\n",
        "      for Coef in CoefList:\n",
        "        for Activation in ActivationList:\n",
        "          DataResult, _ = TestUtils.AttackNorms(Model, C, Steps, lr,  Coef, Activation, P, S, Init, X, y, Device)\n",
        "          data += DataResult\n",
        "\n",
        "df = pd.DataFrame(data, columns=['L0 Norm', 'L2 Norm', 'Linf Norm', 'Activation', 'Coef', 'Prob', 'c', 'Similarity', 'Pre', 'Ppred', 'Apred', 'Spre'])\n",
        "df.to_excel(\"Results\\\\Parameters\\\\Parameters.xlsx\")"
      ]
    },
    {
      "cell_type": "code",
      "execution_count": null,
      "metadata": {},
      "outputs": [],
      "source": [
        "Activation = 4\n",
        "Coef = 5\n",
        "Prob = 2\n",
        "Similarity = 0.2\n",
        "Init=1\n",
        "lr = 0.2\n",
        "Steps = 10000\n",
        "\n",
        "\n",
        "data = []\n",
        "start_time = time.time()\n",
        "data = TestUtils.TestLoopC(Model, Steps, lr, Coef, Activation, Prob, Similarity, Init, X, y, Device, 1000, 0.1, 1.5)\n",
        "end_time = time.time()\n",
        "\n",
        "TestUtils.SaveTime(start_time, end_time, \"Results\\\\MNIST\\\\ComputationTimeResults.txt\")\n",
        "TestUtils.SaveData(data, \"Results\\\\MNIST\\\\Results.xlsx\")"
      ]
    },
    {
      "cell_type": "code",
      "execution_count": null,
      "metadata": {},
      "outputs": [],
      "source": [
        "Coef=5\n",
        "Activation=4\n",
        "Prob = 2\n",
        "Similarity = 0.2\n",
        "Init=0\n",
        "lr = 0.2\n",
        "\n",
        "TestedIterations = [1000, 10000]\n",
        "\n",
        "for i in range((len(TestedIterations))):\n",
        "    data = []\n",
        "    start_time = time.time()\n",
        "    data = TestUtils.TestLoopC(Model, TestedIterations[i], lr, Coef, Activation, Prob, Similarity, Init, X, y, Device, 1000, 0.1, 1.5)\n",
        "    end_time = time.time()\n",
        "\n",
        "    TestUtils.SaveTime(start_time, end_time, \"Results\\\\MNIST\\\\TimeXM\" + str(TestedIterations[i]) +\".txt\")\n",
        "    TestUtils.SaveData(data, \"Results\\\\MNIST\\\\ResultXM\" + str(TestedIterations[i]) + \".xlsx\")\n",
        "    "
      ]
    },
    {
      "cell_type": "code",
      "execution_count": null,
      "metadata": {},
      "outputs": [],
      "source": [
        "Coef=5\n",
        "Activation=4\n",
        "Prob = 2\n",
        "Similarity = 0.2\n",
        "Init=0\n",
        "lr = 0.2\n",
        "Steps = 10000\n",
        "\n",
        "TestUtils.SaveLoopC(Model, Steps, lr, Coef, Activation, Prob, Similarity, Init, X, y, Device, 1000, 0.1, 1.5, \"Results\\\\MNIST\\\\Images\\\\\")"
      ]
    },
    {
      "cell_type": "code",
      "execution_count": null,
      "metadata": {},
      "outputs": [],
      "source": [
        "dataJSMA = []\n",
        "\n",
        "start_time = time.time()\n",
        "Data = TestUtils.TestJSMA(1,1, Model, X, y, Device)\n",
        "end_time = time.time()\n",
        "\n",
        "TestUtils.SaveTime(start_time, end_time, \"Results\\\\MNIST\\\\TimeJSMAM.txt\")\n",
        "TestUtils.SaveData(Data, \"Results\\\\MNIST\\\\BestJSMAM.xlsx\")"
      ]
    },
    {
      "cell_type": "code",
      "execution_count": null,
      "metadata": {},
      "outputs": [],
      "source": [
        "Count=0\n",
        "dataCW = []\n",
        "\n",
        "start_time = time.time()\n",
        "Data, AX = TestUtils.TestCW(100, 1, 10, Model, X, y, Device)\n",
        "end_time = time.time()\n",
        "\n",
        "TestUtils.SaveTime(start_time, end_time, \"Results\\\\MNIST\\\\TimeCWM.txt\")\n",
        "TestUtils.SaveData([Data], \"Results\\\\MNIST\\\\BestCWM.xlsx\")"
      ]
    }
  ],
  "metadata": {
    "accelerator": "GPU",
    "colab": {
      "gpuType": "T4",
      "provenance": []
    },
    "kernelspec": {
      "display_name": "Python 3 (ipykernel)",
      "language": "python",
      "name": "python3"
    },
    "language_info": {
      "codemirror_mode": {
        "name": "ipython",
        "version": 3
      },
      "file_extension": ".py",
      "mimetype": "text/x-python",
      "name": "python",
      "nbconvert_exporter": "python",
      "pygments_lexer": "ipython3",
      "version": "3.11.4"
    },
    "orig_nbformat": 4
  },
  "nbformat": 4,
  "nbformat_minor": 0
}
