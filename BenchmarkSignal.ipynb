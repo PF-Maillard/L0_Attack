{
  "cells": [
    {
      "cell_type": "code",
      "execution_count": null,
      "metadata": {},
      "outputs": [],
      "source": [
        "!pip install torchattacks\n",
        "!pip install pandas\n",
        "!pip install openpyxl\n",
        "!pip install numpy\n",
        "!pip install plot \n",
        "!pip install numpy"
      ]
    },
    {
      "cell_type": "code",
      "execution_count": null,
      "metadata": {
        "id": "7TSKaIVFvIoy"
      },
      "outputs": [],
      "source": [
        "import torch\n",
        "import torch.nn as nn\n",
        "import torchvision\n",
        "import torchattacks\n",
        "from torch.optim import lr_scheduler\n",
        "import time"
      ]
    },
    {
      "cell_type": "code",
      "execution_count": null,
      "metadata": {},
      "outputs": [],
      "source": [
        "import Sources.DefaultModel as Util\n",
        "import Sources.GTSRBModel as GTSRBModel\n",
        "import Sources.TestUtils as TestUtils"
      ]
    },
    {
      "cell_type": "code",
      "execution_count": null,
      "metadata": {},
      "outputs": [],
      "source": [
        "Device = Util.HardwareIdentification()\n",
        "DimImage = 50\n",
        "TrainLoader,ValidationLoader, TestLoader = GTSRBModel.ImportData(1, DimImage)\n",
        "print(len(TrainLoader.dataset), len(ValidationLoader.dataset), len(TestLoader.dataset))"
      ]
    },
    {
      "cell_type": "code",
      "execution_count": null,
      "metadata": {
        "id": "hvTwOOQOvIo0"
      },
      "outputs": [],
      "source": [
        "EPOCHS = 5\n",
        "LEARNING_RATE = 0.0008\n",
        "INPUT_DIM = 3*DimImage*DimImage\n",
        "OUTPUT_DIM = 43\n",
        "Model = GTSRBModel.GTSRB_MODEL(INPUT_DIM,OUTPUT_DIM, Device).to(Device)\n",
        "\n",
        "optimizer = torch.optim.Adam(params=Model.parameters(),lr=LEARNING_RATE)\n",
        "lr_s = lr_scheduler.LinearLR(optimizer,start_factor=1.0,end_factor=0.5,total_iters=10)\n",
        "loss = nn.CrossEntropyLoss()"
      ]
    },
    {
      "cell_type": "code",
      "execution_count": null,
      "metadata": {
        "colab": {
          "base_uri": "https://localhost:8080/"
        },
        "id": "JCwDziPOvIo0",
        "outputId": "f88975a0-7ad0-423a-f419-bf1849612466"
      },
      "outputs": [],
      "source": [
        "%%script false --no-raise-error\n",
        "Model.compile(train_data=TrainLoader,validation_data=ValidationLoader,epochs=EPOCHS,loss_function=loss,optimizer=optimizer,learning_rate_scheduler=lr_s)\n",
        "ModelPath = 'Models/ModelSignal.torch'\n",
        "torch.save(Model.state_dict(), ModelPath)"
      ]
    },
    {
      "cell_type": "code",
      "execution_count": null,
      "metadata": {},
      "outputs": [],
      "source": [
        "Model.load_state_dict(torch.load('Models/ModelSignal.torch'))"
      ]
    },
    {
      "cell_type": "code",
      "execution_count": null,
      "metadata": {},
      "outputs": [],
      "source": [
        "Util.TestLoop(TestLoader, Model, Device)\n",
        "X, y = next(iter(TestLoader))"
      ]
    },
    {
      "cell_type": "code",
      "execution_count": null,
      "metadata": {},
      "outputs": [],
      "source": [
        "Coef=5\n",
        "Activation=4\n",
        "Prob = 2\n",
        "Similarity = 0.2\n",
        "Init=0\n",
        "lr = 0.2\n",
        "Steps = 1000\n",
        "\n",
        "data = []\n",
        "start_time = time.time()\n",
        "data = TestUtils.TestLoopC(Model, Steps, lr, Coef, Activation, Prob, Similarity, Init, X, y, Device, 1000, 0.1, 1.5)\n",
        "end_time = time.time()\n",
        "\n",
        "TestUtils.SaveTime(start_time, end_time, \"Results/GTSRB/ComputationTimeResults.txt\")\n",
        "TestUtils.SaveData(data, \"Results/GTSRB/Results.xlsx\")"
      ]
    },
    {
      "cell_type": "code",
      "execution_count": null,
      "metadata": {},
      "outputs": [],
      "source": [
        "TestUtils.SaveImages(\"Results/GTSRB/InitialImages/\", X, y)"
      ]
    },
    {
      "cell_type": "code",
      "execution_count": null,
      "metadata": {},
      "outputs": [],
      "source": [
        "Coef=5\n",
        "Activation=4\n",
        "Prob = 2\n",
        "Similarity = 0.2\n",
        "Init=0\n",
        "lr = 0.2\n",
        "Steps = 10000\n",
        "\n",
        "TestUtils.SaveLoopC(Model, Steps, lr, Coef, Activation, Prob, Similarity, Init, X, y, Device, 1000, 0.1, 1.5, \"Results/GTSRB/Images/\")"
      ]
    },
    {
      "cell_type": "code",
      "execution_count": null,
      "metadata": {},
      "outputs": [],
      "source": [
        "Coef=5\n",
        "Activation=4\n",
        "Prob = 2\n",
        "Similarity = 0.2\n",
        "Init=0\n",
        "lr = 0.2\n",
        "\n",
        "TestedIterations = [100, 1000]\n",
        "\n",
        "for i in range((len(TestedIterations))):\n",
        "    data = []\n",
        "    start_time = time.time()\n",
        "    data = TestUtils.TestLoopC(Model, TestedIterations[i], lr, Coef, Activation, Prob, Similarity, Init, X, y, Device, 1000, 0.1, 1.5)\n",
        "    end_time = time.time()\n",
        "\n",
        "    TestUtils.SaveTime(start_time, end_time, \"Results/GTSRB/TimeXS\" + str(TestedIterations[i]) +\".txt\")\n",
        "    TestUtils.SaveData(data, \"Results/GTSRB/BestXS\" + str(TestedIterations[i]) + \".xlsx\")\n",
        "    "
      ]
    },
    {
      "cell_type": "code",
      "execution_count": null,
      "metadata": {},
      "outputs": [],
      "source": [
        "dataJSMA = []\n",
        "\n",
        "start_time = time.time()\n",
        "Data = TestUtils.TestJSMA(1,1, Model, X, y, Device)\n",
        "end_time = time.time()\n",
        "\n",
        "TestUtils.SaveTime(start_time, end_time, \"Results/GTSRB/TimeJSMAS.txt\")\n",
        "TestUtils.SaveData(Data, \"Results/GTSRB/BestJSMAS.xlsx\")"
      ]
    },
    {
      "cell_type": "code",
      "execution_count": null,
      "metadata": {},
      "outputs": [],
      "source": [
        "TestUtils.SaveJSMA(1,1, Model, X, y, Device, \"Results/GTSRB/JSMAImages/\")"
      ]
    }
  ],
  "metadata": {
    "accelerator": "GPU",
    "colab": {
      "gpuType": "T4",
      "provenance": []
    },
    "kernelspec": {
      "display_name": "Python 3 (ipykernel)",
      "language": "python",
      "name": "python3"
    },
    "language_info": {
      "codemirror_mode": {
        "name": "ipython",
        "version": 3
      },
      "file_extension": ".py",
      "mimetype": "text/x-python",
      "name": "python",
      "nbconvert_exporter": "python",
      "pygments_lexer": "ipython3",
      "version": "3.10.12"
    },
    "orig_nbformat": 4
  },
  "nbformat": 4,
  "nbformat_minor": 0
}
