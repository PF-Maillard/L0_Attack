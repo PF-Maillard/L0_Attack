{
  "cells": [
    {
      "cell_type": "code",
      "execution_count": 1,
      "metadata": {},
      "outputs": [
        {
          "name": "stdout",
          "output_type": "stream",
          "text": [
            "Requirement already satisfied: torchattacks in c:\\sources\\python311\\lib\\site-packages (3.5.1)\n",
            "Requirement already satisfied: torch>=1.7.1 in c:\\sources\\python311\\lib\\site-packages (from torchattacks) (2.0.1+cu118)\n",
            "Requirement already satisfied: torchvision>=0.8.2 in c:\\sources\\python311\\lib\\site-packages (from torchattacks) (0.15.2+cu118)\n",
            "Requirement already satisfied: scipy>=0.14.0 in c:\\sources\\python311\\lib\\site-packages (from torchattacks) (1.11.2)\n",
            "Requirement already satisfied: tqdm>=4.56.1 in c:\\sources\\python311\\lib\\site-packages (from torchattacks) (4.66.1)\n",
            "Requirement already satisfied: requests~=2.25.1 in c:\\sources\\python311\\lib\\site-packages (from torchattacks) (2.25.1)\n",
            "Requirement already satisfied: numpy>=1.19.4 in c:\\sources\\python311\\lib\\site-packages (from torchattacks) (1.24.1)\n",
            "Requirement already satisfied: chardet<5,>=3.0.2 in c:\\sources\\python311\\lib\\site-packages (from requests~=2.25.1->torchattacks) (4.0.0)\n",
            "Requirement already satisfied: idna<3,>=2.5 in c:\\sources\\python311\\lib\\site-packages (from requests~=2.25.1->torchattacks) (2.10)\n",
            "Requirement already satisfied: urllib3<1.27,>=1.21.1 in c:\\sources\\python311\\lib\\site-packages (from requests~=2.25.1->torchattacks) (1.26.13)\n",
            "Requirement already satisfied: certifi>=2017.4.17 in c:\\sources\\python311\\lib\\site-packages (from requests~=2.25.1->torchattacks) (2022.12.7)\n",
            "Requirement already satisfied: filelock in c:\\sources\\python311\\lib\\site-packages (from torch>=1.7.1->torchattacks) (3.9.0)\n",
            "Requirement already satisfied: typing-extensions in c:\\sources\\python311\\lib\\site-packages (from torch>=1.7.1->torchattacks) (4.4.0)\n",
            "Requirement already satisfied: sympy in c:\\sources\\python311\\lib\\site-packages (from torch>=1.7.1->torchattacks) (1.11.1)\n",
            "Requirement already satisfied: networkx in c:\\sources\\python311\\lib\\site-packages (from torch>=1.7.1->torchattacks) (3.0)\n",
            "Requirement already satisfied: jinja2 in c:\\sources\\python311\\lib\\site-packages (from torch>=1.7.1->torchattacks) (3.1.2)\n",
            "Requirement already satisfied: pillow!=8.3.*,>=5.3.0 in c:\\sources\\python311\\lib\\site-packages (from torchvision>=0.8.2->torchattacks) (9.3.0)\n",
            "Requirement already satisfied: colorama in c:\\sources\\python311\\lib\\site-packages (from tqdm>=4.56.1->torchattacks) (0.4.6)\n",
            "Requirement already satisfied: MarkupSafe>=2.0 in c:\\sources\\python311\\lib\\site-packages (from jinja2->torch>=1.7.1->torchattacks) (2.1.2)\n",
            "Requirement already satisfied: mpmath>=0.19 in c:\\sources\\python311\\lib\\site-packages (from sympy->torch>=1.7.1->torchattacks) (1.2.1)\n"
          ]
        },
        {
          "name": "stderr",
          "output_type": "stream",
          "text": [
            "\n",
            "[notice] A new release of pip is available: 23.3.2 -> 24.0\n",
            "[notice] To update, run: python.exe -m pip install --upgrade pip\n"
          ]
        },
        {
          "name": "stdout",
          "output_type": "stream",
          "text": [
            "Requirement already satisfied: pandas in c:\\sources\\python311\\lib\\site-packages (2.0.3)\n",
            "Requirement already satisfied: python-dateutil>=2.8.2 in c:\\sources\\python311\\lib\\site-packages (from pandas) (2.8.2)\n",
            "Requirement already satisfied: pytz>=2020.1 in c:\\sources\\python311\\lib\\site-packages (from pandas) (2023.3)\n",
            "Requirement already satisfied: tzdata>=2022.1 in c:\\sources\\python311\\lib\\site-packages (from pandas) (2023.3)\n",
            "Requirement already satisfied: numpy>=1.21.0 in c:\\sources\\python311\\lib\\site-packages (from pandas) (1.24.1)\n",
            "Requirement already satisfied: six>=1.5 in c:\\sources\\python311\\lib\\site-packages (from python-dateutil>=2.8.2->pandas) (1.16.0)\n"
          ]
        },
        {
          "name": "stderr",
          "output_type": "stream",
          "text": [
            "\n",
            "[notice] A new release of pip is available: 23.3.2 -> 24.0\n",
            "[notice] To update, run: python.exe -m pip install --upgrade pip\n"
          ]
        },
        {
          "name": "stdout",
          "output_type": "stream",
          "text": [
            "Requirement already satisfied: openpyxl in c:\\sources\\python311\\lib\\site-packages (3.1.2)\n",
            "Requirement already satisfied: et-xmlfile in c:\\sources\\python311\\lib\\site-packages (from openpyxl) (1.1.0)\n"
          ]
        },
        {
          "name": "stderr",
          "output_type": "stream",
          "text": [
            "\n",
            "[notice] A new release of pip is available: 23.3.2 -> 24.0\n",
            "[notice] To update, run: python.exe -m pip install --upgrade pip\n"
          ]
        },
        {
          "name": "stdout",
          "output_type": "stream",
          "text": [
            "Requirement already satisfied: numpy in c:\\sources\\python311\\lib\\site-packages (1.24.1)\n"
          ]
        },
        {
          "name": "stderr",
          "output_type": "stream",
          "text": [
            "\n",
            "[notice] A new release of pip is available: 23.3.2 -> 24.0\n",
            "[notice] To update, run: python.exe -m pip install --upgrade pip\n"
          ]
        },
        {
          "name": "stdout",
          "output_type": "stream",
          "text": [
            "Requirement already satisfied: plot in c:\\sources\\python311\\lib\\site-packages (0.6.5)\n",
            "Requirement already satisfied: matplotlib in c:\\sources\\python311\\lib\\site-packages (from plot) (3.7.2)\n",
            "Requirement already satisfied: typing in c:\\sources\\python311\\lib\\site-packages (from plot) (3.7.4.3)\n",
            "Requirement already satisfied: numpy in c:\\sources\\python311\\lib\\site-packages (from plot) (1.24.1)\n",
            "Requirement already satisfied: scipy in c:\\sources\\python311\\lib\\site-packages (from plot) (1.11.2)\n",
            "Requirement already satisfied: pyyaml in c:\\sources\\python311\\lib\\site-packages (from plot) (6.0.1)\n",
            "Requirement already satisfied: contourpy>=1.0.1 in c:\\sources\\python311\\lib\\site-packages (from matplotlib->plot) (1.1.0)\n",
            "Requirement already satisfied: cycler>=0.10 in c:\\sources\\python311\\lib\\site-packages (from matplotlib->plot) (0.11.0)\n",
            "Requirement already satisfied: fonttools>=4.22.0 in c:\\sources\\python311\\lib\\site-packages (from matplotlib->plot) (4.41.1)\n",
            "Requirement already satisfied: kiwisolver>=1.0.1 in c:\\sources\\python311\\lib\\site-packages (from matplotlib->plot) (1.4.4)\n",
            "Requirement already satisfied: packaging>=20.0 in c:\\sources\\python311\\lib\\site-packages (from matplotlib->plot) (23.1)\n",
            "Requirement already satisfied: pillow>=6.2.0 in c:\\sources\\python311\\lib\\site-packages (from matplotlib->plot) (9.3.0)\n",
            "Requirement already satisfied: pyparsing<3.1,>=2.3.1 in c:\\sources\\python311\\lib\\site-packages (from matplotlib->plot) (3.0.9)\n",
            "Requirement already satisfied: python-dateutil>=2.7 in c:\\sources\\python311\\lib\\site-packages (from matplotlib->plot) (2.8.2)\n",
            "Requirement already satisfied: six>=1.5 in c:\\sources\\python311\\lib\\site-packages (from python-dateutil>=2.7->matplotlib->plot) (1.16.0)\n"
          ]
        },
        {
          "name": "stderr",
          "output_type": "stream",
          "text": [
            "\n",
            "[notice] A new release of pip is available: 23.3.2 -> 24.0\n",
            "[notice] To update, run: python.exe -m pip install --upgrade pip\n"
          ]
        },
        {
          "name": "stdout",
          "output_type": "stream",
          "text": [
            "Requirement already satisfied: numpy in c:\\sources\\python311\\lib\\site-packages (1.24.1)\n"
          ]
        },
        {
          "name": "stderr",
          "output_type": "stream",
          "text": [
            "\n",
            "[notice] A new release of pip is available: 23.3.2 -> 24.0\n",
            "[notice] To update, run: python.exe -m pip install --upgrade pip\n"
          ]
        }
      ],
      "source": [
        "!pip install torchattacks\n",
        "!pip install pandas\n",
        "!pip install openpyxl\n",
        "!pip install numpy\n",
        "!pip install plot \n",
        "!pip install numpy"
      ]
    },
    {
      "cell_type": "code",
      "execution_count": 2,
      "metadata": {
        "id": "7TSKaIVFvIoy"
      },
      "outputs": [],
      "source": [
        "import torch\n",
        "import torch.nn as nn\n",
        "import torchvision\n",
        "import torchattacks\n",
        "from torch.optim import lr_scheduler\n",
        "import time"
      ]
    },
    {
      "cell_type": "code",
      "execution_count": 2,
      "metadata": {},
      "outputs": [
        {
          "name": "stderr",
          "output_type": "stream",
          "text": [
            "c:\\Sources\\Python311\\Lib\\site-packages\\torchvision\\datapoints\\__init__.py:12: UserWarning: The torchvision.datapoints and torchvision.transforms.v2 namespaces are still Beta. While we do not expect major breaking changes, some APIs may still change according to user feedback. Please submit any feedback you may have in this issue: https://github.com/pytorch/vision/issues/6753, and you can also check out https://github.com/pytorch/vision/issues/7319 to learn more about the APIs that we suspect might involve future changes. You can silence this warning by calling torchvision.disable_beta_transforms_warning().\n",
            "  warnings.warn(_BETA_TRANSFORMS_WARNING)\n",
            "c:\\Sources\\Python311\\Lib\\site-packages\\torchvision\\transforms\\v2\\__init__.py:54: UserWarning: The torchvision.datapoints and torchvision.transforms.v2 namespaces are still Beta. While we do not expect major breaking changes, some APIs may still change according to user feedback. Please submit any feedback you may have in this issue: https://github.com/pytorch/vision/issues/6753, and you can also check out https://github.com/pytorch/vision/issues/7319 to learn more about the APIs that we suspect might involve future changes. You can silence this warning by calling torchvision.disable_beta_transforms_warning().\n",
            "  warnings.warn(_BETA_TRANSFORMS_WARNING)\n"
          ]
        }
      ],
      "source": [
        "import Sources.DefaultModel as Util\n",
        "import Sources.GTSRBModel as GTSRBModel\n",
        "import Sources.TestUtils as TestUtils"
      ]
    },
    {
      "cell_type": "code",
      "execution_count": 5,
      "metadata": {},
      "outputs": [
        {
          "name": "stdout",
          "output_type": "stream",
          "text": [
            "cuda\n",
            "50\n",
            "31367\n",
            "7842\n",
            "12630\n",
            "31367 7842 12630\n"
          ]
        }
      ],
      "source": [
        "Device = Util.HardwareIdentification()\n",
        "DimImage = 50\n",
        "TrainLoader,ValidationLoader, TestLoader = GTSRBModel.ImportData(1, DimImage)\n",
        "print(len(TrainLoader.dataset), len(ValidationLoader.dataset), len(TestLoader.dataset))"
      ]
    },
    {
      "cell_type": "code",
      "execution_count": null,
      "metadata": {
        "id": "hvTwOOQOvIo0"
      },
      "outputs": [],
      "source": [
        "EPOCHS = 5\n",
        "LEARNING_RATE = 0.0008\n",
        "INPUT_DIM = 3*DimImage*DimImage\n",
        "OUTPUT_DIM = 43\n",
        "Model = GTSRBModel.GTSRB_MODEL(INPUT_DIM,OUTPUT_DIM, Device).to(Device)\n",
        "\n",
        "optimizer = torch.optim.Adam(params=Model.parameters(),lr=LEARNING_RATE)\n",
        "lr_s = lr_scheduler.LinearLR(optimizer,start_factor=1.0,end_factor=0.5,total_iters=10)\n",
        "loss = nn.CrossEntropyLoss()"
      ]
    },
    {
      "cell_type": "code",
      "execution_count": null,
      "metadata": {
        "colab": {
          "base_uri": "https://localhost:8080/"
        },
        "id": "JCwDziPOvIo0",
        "outputId": "f88975a0-7ad0-423a-f419-bf1849612466"
      },
      "outputs": [],
      "source": [
        "#%%script false --no-raise-error\n",
        "Model.compile(train_data=TrainLoader,validation_data=ValidationLoader,epochs=EPOCHS,loss_function=loss,optimizer=optimizer,learning_rate_scheduler=lr_s)\n",
        "ModelPath = 'Models\\\\ModelSignal.torch'\n",
        "torch.save(Model.state_dict(), ModelPath)"
      ]
    },
    {
      "cell_type": "code",
      "execution_count": null,
      "metadata": {},
      "outputs": [],
      "source": [
        "Model.load_state_dict(torch.load('Models\\\\ModelSignal.torch'))"
      ]
    },
    {
      "cell_type": "code",
      "execution_count": null,
      "metadata": {},
      "outputs": [],
      "source": [
        "Util.TestLoop(TestLoader, Model, Device)\n",
        "X, y = next(iter(TestLoader))"
      ]
    },
    {
      "cell_type": "code",
      "execution_count": null,
      "metadata": {},
      "outputs": [],
      "source": [
        "Coef=5\n",
        "Activation=4\n",
        "Prob = 2\n",
        "Similarity = 0.2\n",
        "Init=0\n",
        "lr = 0.2\n",
        "Steps = 100\n",
        "\n",
        "data = []\n",
        "start_time = time.time()\n",
        "data = TestUtils.TestLoopC(Model, Steps, lr, Coef, Activation, Prob, Similarity, Init, X, y, Device, 1000, 0.1, 1.5)\n",
        "end_time = time.time()\n",
        "\n",
        "TestUtils.SaveTime(start_time, end_time, \"Results\\\\GTSRB\\\\ComputationTimeResults.txt\")\n",
        "TestUtils.SaveData(data, \"Results\\\\GTSRB\\\\Results.xlsx\")"
      ]
    },
    {
      "cell_type": "code",
      "execution_count": null,
      "metadata": {},
      "outputs": [],
      "source": [
        "TestUtils.SaveImages(\"Results\\\\GTSRB\\\\InitialImages\\\\\", X, y)"
      ]
    },
    {
      "cell_type": "code",
      "execution_count": null,
      "metadata": {},
      "outputs": [],
      "source": [
        "Coef=5\n",
        "Activation=4\n",
        "Prob = 2\n",
        "Similarity = 0.2\n",
        "Init=0\n",
        "lr = 0.2\n",
        "Steps = 10000\n",
        "\n",
        "TestUtils.SaveLoopC(Model, Steps, lr, Coef, Activation, Prob, Similarity, Init, X, y, Device, 1000, 0.1, 1.5, \"Results\\\\GTSRB\\\\Images\\\\\")"
      ]
    },
    {
      "cell_type": "code",
      "execution_count": null,
      "metadata": {},
      "outputs": [],
      "source": [
        "Coef=5\n",
        "Activation=4\n",
        "Prob = 2\n",
        "Similarity = 0.2\n",
        "Init=0\n",
        "lr = 0.2\n",
        "\n",
        "TestedIterations = [10, 100]\n",
        "\n",
        "for i in range((len(TestedIterations))):\n",
        "    data = []\n",
        "    start_time = time.time()\n",
        "    data = TestUtils.TestLoopC(Model, TestedIterations[i], lr, Coef, Activation, Prob, Similarity, Init, X, y, Device, 1000, 0.1, 1.5)\n",
        "    end_time = time.time()\n",
        "\n",
        "    TestUtils.SaveTime(start_time, end_time, \"Results\\\\GTSRB\\\\TimeXS\" + str(TestedIterations[i]) +\".txt\")\n",
        "    TestUtils.SaveData(data, \"Results\\\\GTSRB\\\\BestXS\" + str(TestedIterations[i]) + \".xlsx\")\n",
        "    "
      ]
    },
    {
      "cell_type": "code",
      "execution_count": null,
      "metadata": {},
      "outputs": [],
      "source": [
        "dataJSMA = []\n",
        "\n",
        "start_time = time.time()\n",
        "Data = TestUtils.TestJSMA(1,1, Model, X, y, Device)\n",
        "end_time = time.time()\n",
        "\n",
        "TestUtils.SaveTime(start_time, end_time, \"Results\\\\GTSRB\\\\TimeJSMAS.txt\")\n",
        "TestUtils.SaveData(Data, \"Results\\\\GTSRB\\\\BestJSMAS.xlsx\")"
      ]
    },
    {
      "cell_type": "code",
      "execution_count": null,
      "metadata": {},
      "outputs": [],
      "source": [
        "TestUtils.SaveJSMA(1,1, Model, X, y, Device, \"Results\\\\GTSRB\\\\JSMAImages\\\\\")"
      ]
    }
  ],
  "metadata": {
    "accelerator": "GPU",
    "colab": {
      "gpuType": "T4",
      "provenance": []
    },
    "kernelspec": {
      "display_name": "Python 3 (ipykernel)",
      "language": "python",
      "name": "python3"
    },
    "language_info": {
      "codemirror_mode": {
        "name": "ipython",
        "version": 3
      },
      "file_extension": ".py",
      "mimetype": "text/x-python",
      "name": "python",
      "nbconvert_exporter": "python",
      "pygments_lexer": "ipython3",
      "version": "3.11.4"
    },
    "orig_nbformat": 4
  },
  "nbformat": 4,
  "nbformat_minor": 0
}
