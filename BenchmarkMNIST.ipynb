{
  "cells": [
    {
      "cell_type": "code",
      "execution_count": null,
      "metadata": {},
      "outputs": [],
      "source": [
        "!pip install torchattacks\n",
        "!pip install pandas\n",
        "!pip install openpyxl\n",
        "!pip install numpy\n",
        "!pip install plot \n",
        "!pip install numpy"
      ]
    },
    {
      "cell_type": "code",
      "execution_count": null,
      "metadata": {
        "id": "7TSKaIVFvIoy"
      },
      "outputs": [],
      "source": [
        "import torch\n",
        "import torch.nn as nn\n",
        "import time\n",
        "import pandas as pd"
      ]
    },
    {
      "cell_type": "code",
      "execution_count": null,
      "metadata": {},
      "outputs": [],
      "source": [
        "import Sources.DefaultModel as Util\n",
        "import Sources.MnistModel as MnistModel\n",
        "import Sources.TestUtils as TestUtils"
      ]
    },
    {
      "cell_type": "code",
      "execution_count": 5,
      "metadata": {},
      "outputs": [
        {
          "name": "stdout",
          "output_type": "stream",
          "text": [
            "cuda\n",
            "60000\n",
            "10000\n",
            "60000 10000\n"
          ]
        }
      ],
      "source": [
        "Device = Util.HardwareIdentification()\n",
        "TrainDataLoaderMNIST,TestDataLoaderMNIST = MnistModel.ImportData(1)\n",
        "print(len(TrainDataLoaderMNIST.dataset), len(TestDataLoaderMNIST.dataset))"
      ]
    },
    {
      "cell_type": "code",
      "execution_count": null,
      "metadata": {
        "id": "hvTwOOQOvIo0"
      },
      "outputs": [],
      "source": [
        "Model = MnistModel.ConvNeuralNet(10)\n",
        "Model = Model.to(Device)\n",
        "Epochs = 40\n",
        "Loss = nn.CrossEntropyLoss()\n",
        "LearningRate = 0.001\n",
        "Optimizer = torch.optim.Adam(Model.parameters(), lr=LearningRate)"
      ]
    },
    {
      "cell_type": "code",
      "execution_count": null,
      "metadata": {
        "colab": {
          "base_uri": "https://localhost:8080/"
        },
        "id": "JCwDziPOvIo0",
        "outputId": "f88975a0-7ad0-423a-f419-bf1849612466"
      },
      "outputs": [],
      "source": [
        "%%script false --no-raise-error\n",
        "for Epoch in range(Epochs):\n",
        "    ReturnLoss = Util.Trainloop(TrainDataLoaderMNIST, Model, Loss, Optimizer, Device)\n",
        "    print('{:.4f}'.format(ReturnLoss))\n",
        "ModelPath = 'Models\\\\ModelMNIST.torch'\n",
        "torch.save(Model.state_dict(), ModelPath)"
      ]
    },
    {
      "cell_type": "code",
      "execution_count": null,
      "metadata": {},
      "outputs": [],
      "source": [
        "Model.load_state_dict(torch.load('Models\\\\ModelMNIST.torch'))"
      ]
    },
    {
      "cell_type": "code",
      "execution_count": null,
      "metadata": {},
      "outputs": [],
      "source": [
        "Util.TestLoop(TestDataLoaderMNIST, Model, Device)\n",
        "X, y = next(iter(TestDataLoaderMNIST))"
      ]
    },
    {
      "cell_type": "code",
      "execution_count": null,
      "metadata": {
        "id": "Wyz9BcjKvIo2"
      },
      "outputs": [],
      "source": [
        "ActivationList = [3, 4]\n",
        "CoefList = [5]\n",
        "CList = [10, 100]\n",
        "ProbList = [4]\n",
        "SimilarityList = [0.2]\n",
        "Init = 0\n",
        "lr = 0.2\n",
        "Steps = 10000\n",
        "\n",
        "data = []\n",
        "for S in SimilarityList:\n",
        "  for P in ProbList:\n",
        "    for C in CList:\n",
        "      for Coef in CoefList:\n",
        "        for Activation in ActivationList:\n",
        "          DataResult, _ = TestUtils.AttackNorms(Model, C, Steps, lr,  Coef, Activation, P, S, Init, X, y, Device)\n",
        "          data += DataResult\n",
        "\n",
        "df = pd.DataFrame(data, columns=['L0 Norm', 'L2 Norm', 'Linf Norm', 'Activation', 'Coef', 'Prob', 'c', 'Similarity', 'Pre', 'Ppred', 'Apred', 'Spre'])\n",
        "df.to_excel(\"Results\\\\Parameters\\\\Parameters.xlsx\")"
      ]
    },
    {
      "cell_type": "code",
      "execution_count": null,
      "metadata": {},
      "outputs": [],
      "source": [
        "Activation = 4\n",
        "Coef = 5\n",
        "Prob = 2\n",
        "Similarity = 0.2\n",
        "Init=1\n",
        "lr = 0.2\n",
        "Steps = 10000\n",
        "\n",
        "\n",
        "data = []\n",
        "start_time = time.time()\n",
        "data = TestUtils.TestLoopC(Model, Steps, lr, Coef, Activation, Prob, Similarity, Init, X, y, Device, 1000, 0.1, 1.5)\n",
        "end_time = time.time()\n",
        "\n",
        "TestUtils.SaveTime(start_time, end_time, \"Results\\\\MNIST\\\\ComputationTimeResults.txt\")\n",
        "TestUtils.SaveData(data, \"Results\\\\MNIST\\\\Results.xlsx\")"
      ]
    },
    {
      "cell_type": "code",
      "execution_count": null,
      "metadata": {},
      "outputs": [],
      "source": [
        "Coef=5\n",
        "Activation=4\n",
        "Prob = 2\n",
        "Similarity = 0.2\n",
        "Init=0\n",
        "lr = 0.2\n",
        "\n",
        "TestedIterations = [1000, 10000]\n",
        "\n",
        "for i in range((len(TestedIterations))):\n",
        "    data = []\n",
        "    start_time = time.time()\n",
        "    data = TestUtils.TestLoopC(Model, TestedIterations[i], lr, Coef, Activation, Prob, Similarity, Init, X, y, Device, 1000, 0.1, 1.5)\n",
        "    end_time = time.time()\n",
        "\n",
        "    TestUtils.SaveTime(start_time, end_time, \"Results\\\\MNIST\\\\TimeXM\" + str(TestedIterations[i]) +\".txt\")\n",
        "    TestUtils.SaveData(data, \"Results\\\\MNIST\\\\ResultXM\" + str(TestedIterations[i]) + \".xlsx\")\n",
        "    "
      ]
    },
    {
      "cell_type": "code",
      "execution_count": null,
      "metadata": {},
      "outputs": [],
      "source": [
        "Coef=5\n",
        "Activation=4\n",
        "Prob = 2\n",
        "Similarity = 0.2\n",
        "Init=0\n",
        "lr = 0.2\n",
        "Steps = 10000\n",
        "\n",
        "TestUtils.SaveLoopC(Model, Steps, lr, Coef, Activation, Prob, Similarity, Init, X, y, Device, 1000, 0.1, 1.5, \"Results\\\\MNIST\\\\Images\\\\\")"
      ]
    },
    {
      "cell_type": "code",
      "execution_count": null,
      "metadata": {},
      "outputs": [],
      "source": [
        "dataJSMA = []\n",
        "\n",
        "start_time = time.time()\n",
        "Data = TestUtils.TestJSMA(1,1, Model, X, y, Device)\n",
        "end_time = time.time()\n",
        "\n",
        "TestUtils.SaveTime(start_time, end_time, \"Results\\\\MNIST\\\\TimeJSMAM.txt\")\n",
        "TestUtils.SaveData(Data, \"Results\\\\MNIST\\\\BestJSMAM.xlsx\")"
      ]
    },
    {
      "cell_type": "code",
      "execution_count": null,
      "metadata": {},
      "outputs": [],
      "source": [
        "Count=0\n",
        "dataCW = []\n",
        "\n",
        "start_time = time.time()\n",
        "Data, AX = TestUtils.TestCW(100, 1, 10, Model, X, y, Device)\n",
        "end_time = time.time()\n",
        "\n",
        "TestUtils.SaveTime(start_time, end_time, \"Results\\\\MNIST\\\\TimeCWM.txt\")\n",
        "TestUtils.SaveData([Data], \"Results\\\\MNIST\\\\BestCWM.xlsx\")"
      ]
    }
  ],
  "metadata": {
    "accelerator": "GPU",
    "colab": {
      "gpuType": "T4",
      "provenance": []
    },
    "kernelspec": {
      "display_name": "Python 3 (ipykernel)",
      "language": "python",
      "name": "python3"
    },
    "language_info": {
      "codemirror_mode": {
        "name": "ipython",
        "version": 3
      },
      "file_extension": ".py",
      "mimetype": "text/x-python",
      "name": "python",
      "nbconvert_exporter": "python",
      "pygments_lexer": "ipython3",
      "version": "3.11.4"
    },
    "orig_nbformat": 4
  },
  "nbformat": 4,
  "nbformat_minor": 0
}
