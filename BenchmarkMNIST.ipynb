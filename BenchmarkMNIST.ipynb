{
  "cells": [
    {
      "cell_type": "code",
      "execution_count": 49,
      "metadata": {},
      "outputs": [
        {
          "name": "stdout",
          "output_type": "stream",
          "text": [
            "Defaulting to user installation because normal site-packages is not writeable\n",
            "Requirement already satisfied: torchattacks in ./.local/lib/python3.10/site-packages (3.5.1)\n",
            "Requirement already satisfied: torchvision>=0.8.2 in ./.local/lib/python3.10/site-packages (from torchattacks) (0.17.0.dev20230911+cu121)\n",
            "Requirement already satisfied: numpy>=1.19.4 in ./.local/lib/python3.10/site-packages (from torchattacks) (1.24.1)\n",
            "Requirement already satisfied: scipy>=0.14.0 in ./.local/lib/python3.10/site-packages (from torchattacks) (1.11.2)\n",
            "Requirement already satisfied: requests~=2.25.1 in ./.local/lib/python3.10/site-packages (from torchattacks) (2.25.1)\n",
            "Requirement already satisfied: torch>=1.7.1 in ./.local/lib/python3.10/site-packages (from torchattacks) (2.2.0.dev20230911+cu121)\n",
            "Requirement already satisfied: tqdm>=4.56.1 in ./.local/lib/python3.10/site-packages (from torchattacks) (4.66.1)\n",
            "Requirement already satisfied: certifi>=2017.4.17 in /usr/lib/python3/dist-packages (from requests~=2.25.1->torchattacks) (2020.6.20)\n",
            "Requirement already satisfied: idna<3,>=2.5 in ./.local/lib/python3.10/site-packages (from requests~=2.25.1->torchattacks) (2.10)\n",
            "Requirement already satisfied: urllib3<1.27,>=1.21.1 in /usr/lib/python3/dist-packages (from requests~=2.25.1->torchattacks) (1.26.5)\n",
            "Requirement already satisfied: chardet<5,>=3.0.2 in /usr/lib/python3/dist-packages (from requests~=2.25.1->torchattacks) (4.0.0)\n",
            "Requirement already satisfied: jinja2 in ./.local/lib/python3.10/site-packages (from torch>=1.7.1->torchattacks) (3.1.2)\n",
            "Requirement already satisfied: pytorch-triton==2.1.0+6e4932cda8 in ./.local/lib/python3.10/site-packages (from torch>=1.7.1->torchattacks) (2.1.0+6e4932cda8)\n",
            "Requirement already satisfied: typing-extensions in ./.local/lib/python3.10/site-packages (from torch>=1.7.1->torchattacks) (4.7.1)\n",
            "Requirement already satisfied: fsspec in ./.local/lib/python3.10/site-packages (from torch>=1.7.1->torchattacks) (2023.4.0)\n",
            "Requirement already satisfied: networkx in ./.local/lib/python3.10/site-packages (from torch>=1.7.1->torchattacks) (3.0rc1)\n",
            "Requirement already satisfied: sympy in ./.local/lib/python3.10/site-packages (from torch>=1.7.1->torchattacks) (1.11.1)\n",
            "Requirement already satisfied: filelock in ./.local/lib/python3.10/site-packages (from torch>=1.7.1->torchattacks) (3.9.0)\n",
            "Requirement already satisfied: pillow!=8.3.*,>=5.3.0 in /usr/lib/python3/dist-packages (from torchvision>=0.8.2->torchattacks) (9.0.1)\n",
            "Requirement already satisfied: MarkupSafe>=2.0 in /usr/lib/python3/dist-packages (from jinja2->torch>=1.7.1->torchattacks) (2.0.1)\n",
            "Requirement already satisfied: mpmath>=0.19 in ./.local/lib/python3.10/site-packages (from sympy->torch>=1.7.1->torchattacks) (1.2.1)\n",
            "Defaulting to user installation because normal site-packages is not writeable\n",
            "Requirement already satisfied: pandas in ./.local/lib/python3.10/site-packages (2.1.4)\n",
            "Requirement already satisfied: python-dateutil>=2.8.2 in ./.local/lib/python3.10/site-packages (from pandas) (2.8.2)\n",
            "Requirement already satisfied: pytz>=2020.1 in /usr/lib/python3/dist-packages (from pandas) (2022.1)\n",
            "Requirement already satisfied: numpy<2,>=1.22.4 in ./.local/lib/python3.10/site-packages (from pandas) (1.24.1)\n",
            "Requirement already satisfied: tzdata>=2022.1 in ./.local/lib/python3.10/site-packages (from pandas) (2023.4)\n",
            "Requirement already satisfied: six>=1.5 in /usr/lib/python3/dist-packages (from python-dateutil>=2.8.2->pandas) (1.16.0)\n",
            "Defaulting to user installation because normal site-packages is not writeable\n",
            "Requirement already satisfied: openpyxl in ./.local/lib/python3.10/site-packages (3.1.2)\n",
            "Requirement already satisfied: et-xmlfile in ./.local/lib/python3.10/site-packages (from openpyxl) (1.1.0)\n",
            "Defaulting to user installation because normal site-packages is not writeable\n",
            "Requirement already satisfied: numpy in ./.local/lib/python3.10/site-packages (1.24.1)\n",
            "Defaulting to user installation because normal site-packages is not writeable\n",
            "Requirement already satisfied: plot in ./.local/lib/python3.10/site-packages (0.6.5)\n",
            "Requirement already satisfied: typing in ./.local/lib/python3.10/site-packages (from plot) (3.7.4.3)\n",
            "Requirement already satisfied: scipy in ./.local/lib/python3.10/site-packages (from plot) (1.11.2)\n",
            "Requirement already satisfied: numpy in ./.local/lib/python3.10/site-packages (from plot) (1.24.1)\n",
            "Requirement already satisfied: matplotlib in ./.local/lib/python3.10/site-packages (from plot) (3.7.3)\n",
            "Requirement already satisfied: pyyaml in /usr/lib/python3/dist-packages (from plot) (5.4.1)\n",
            "Requirement already satisfied: contourpy>=1.0.1 in ./.local/lib/python3.10/site-packages (from matplotlib->plot) (1.1.0)\n",
            "Requirement already satisfied: python-dateutil>=2.7 in ./.local/lib/python3.10/site-packages (from matplotlib->plot) (2.8.2)\n",
            "Requirement already satisfied: fonttools>=4.22.0 in ./.local/lib/python3.10/site-packages (from matplotlib->plot) (4.42.1)\n",
            "Requirement already satisfied: pillow>=6.2.0 in /usr/lib/python3/dist-packages (from matplotlib->plot) (9.0.1)\n",
            "Requirement already satisfied: kiwisolver>=1.0.1 in ./.local/lib/python3.10/site-packages (from matplotlib->plot) (1.4.5)\n",
            "Requirement already satisfied: cycler>=0.10 in ./.local/lib/python3.10/site-packages (from matplotlib->plot) (0.11.0)\n",
            "Requirement already satisfied: pyparsing>=2.3.1 in /usr/lib/python3/dist-packages (from matplotlib->plot) (2.4.7)\n",
            "Requirement already satisfied: packaging>=20.0 in ./.local/lib/python3.10/site-packages (from matplotlib->plot) (23.1)\n",
            "Requirement already satisfied: six>=1.5 in /usr/lib/python3/dist-packages (from python-dateutil>=2.7->matplotlib->plot) (1.16.0)\n",
            "Defaulting to user installation because normal site-packages is not writeable\n",
            "Requirement already satisfied: numpy in ./.local/lib/python3.10/site-packages (1.24.1)\n"
          ]
        }
      ],
      "source": [
        "!pip install torchattacks\n",
        "!pip install pandas\n",
        "!pip install openpyxl\n",
        "!pip install numpy\n",
        "!pip install plot \n",
        "!pip install numpy"
      ]
    },
    {
      "cell_type": "code",
      "execution_count": 50,
      "metadata": {
        "id": "7TSKaIVFvIoy"
      },
      "outputs": [],
      "source": [
        "import torch\n",
        "import torch.nn as nn\n",
        "import time\n",
        "import pandas as pd"
      ]
    },
    {
      "cell_type": "code",
      "execution_count": 51,
      "metadata": {},
      "outputs": [],
      "source": [
        "import Sources.DefaultModel as Util\n",
        "import Sources.MnistModel as MnistModel\n",
        "import Sources.TestUtils as TestUtils"
      ]
    },
    {
      "cell_type": "code",
      "execution_count": 52,
      "metadata": {},
      "outputs": [
        {
          "name": "stdout",
          "output_type": "stream",
          "text": [
            "cuda\n",
            "60000\n",
            "10000\n",
            "60000 10000\n"
          ]
        }
      ],
      "source": [
        "Device = Util.HardwareIdentification()\n",
        "TrainDataLoaderMNIST,TestDataLoaderMNIST = MnistModel.ImportData(1)\n",
        "print(len(TrainDataLoaderMNIST.dataset), len(TestDataLoaderMNIST.dataset))"
      ]
    },
    {
      "cell_type": "code",
      "execution_count": 53,
      "metadata": {
        "id": "hvTwOOQOvIo0"
      },
      "outputs": [],
      "source": [
        "Model = MnistModel.ConvNeuralNet(10)\n",
        "Model = Model.to(Device)\n",
        "Epochs = 40\n",
        "Loss = nn.CrossEntropyLoss()\n",
        "LearningRate = 0.001\n",
        "Optimizer = torch.optim.Adam(Model.parameters(), lr=LearningRate)"
      ]
    },
    {
      "cell_type": "code",
      "execution_count": 54,
      "metadata": {
        "colab": {
          "base_uri": "https://localhost:8080/"
        },
        "id": "JCwDziPOvIo0",
        "outputId": "f88975a0-7ad0-423a-f419-bf1849612466"
      },
      "outputs": [],
      "source": [
        "%%script false --no-raise-error\n",
        "for Epoch in range(Epochs):\n",
        "    ReturnLoss = Util.Trainloop(TrainDataLoaderMNIST, Model, Loss, Optimizer, Device)\n",
        "    print('{:.4f}'.format(ReturnLoss))\n",
        "ModelPath = 'Models/ModelMNIST.torch'\n",
        "torch.save(Model.state_dict(), ModelPath)"
      ]
    },
    {
      "cell_type": "code",
      "execution_count": 55,
      "metadata": {},
      "outputs": [
        {
          "data": {
            "text/plain": [
              "<All keys matched successfully>"
            ]
          },
          "execution_count": 55,
          "metadata": {},
          "output_type": "execute_result"
        }
      ],
      "source": [
        "Model.load_state_dict(torch.load('Models/ModelMNIST.torch'))"
      ]
    },
    {
      "cell_type": "code",
      "execution_count": 56,
      "metadata": {},
      "outputs": [
        {
          "name": "stdout",
          "output_type": "stream",
          "text": [
            "Accuracy: 99.38%\n"
          ]
        }
      ],
      "source": [
        "Util.TestLoop(TestDataLoaderMNIST, Model, Device)\n",
        "X, y = next(iter(TestDataLoaderMNIST))"
      ]
    },
    {
      "cell_type": "code",
      "execution_count": 57,
      "metadata": {
        "id": "Wyz9BcjKvIo2"
      },
      "outputs": [
        {
          "name": "stdout",
          "output_type": "stream",
          "text": [
            "20 2.4217021 0.9959918 3 5 10 4 0.2 7 7 2 7\n",
            "18 3.2274702 0.99604154 4 5 10 4 0.2 7 7 2 7\n",
            "27 2.8095863 0.994486 3 5 100 4 0.2 7 7 2 7\n",
            "22 4.133838 0.9960615 4 5 100 4 0.2 7 7 3 7\n"
          ]
        }
      ],
      "source": [
        "ActivationList = [3, 4]\n",
        "CoefList = [5]\n",
        "CList = [10, 100]\n",
        "ProbList = [4]\n",
        "SimilarityList = [0.2]\n",
        "Init = 0\n",
        "lr = 0.2\n",
        "Steps = 10000\n",
        "\n",
        "data = []\n",
        "for S in SimilarityList:\n",
        "  for P in ProbList:\n",
        "    for C in CList:\n",
        "      for Coef in CoefList:\n",
        "        for Activation in ActivationList:\n",
        "          DataResult, _ = TestUtils.AttackNorms(Model, C, Steps, lr,  Coef, Activation, P, S, Init, X, y, Device)\n",
        "          data += DataResult\n",
        "\n",
        "df = pd.DataFrame(data, columns=['L0 Norm', 'L2 Norm', 'Linf Norm', 'Activation', 'Coef', 'Prob', 'c', 'Similarity', 'Pre', 'Ppred', 'Apred', 'Spre'])\n",
        "df.to_excel(\"Results/Parameters/Parameters.xlsx\")"
      ]
    },
    {
      "cell_type": "code",
      "execution_count": 58,
      "metadata": {},
      "outputs": [
        {
          "name": "stdout",
          "output_type": "stream",
          "text": [
            "32 4.88465 0.9836782 4 5 1000 2 0.2 7 7 3 7\n",
            "25 4.4969134 0.9939383 4 5 666.6666666666666 2 0.2 7 7 9 7\n",
            "40 4.335822 0.9633353 4 5 444.4444444444444 2 0.2 7 7 2 7\n",
            "22 4.2250414 0.99566245 4 5 296.29629629629625 2 0.2 7 7 1 7\n",
            "17 3.834635 0.9964514 4 5 197.53086419753083 2 0.2 7 7 8 7\n",
            "21 3.947553 0.99381864 4 5 131.68724279835388 2 0.2 7 7 1 7\n",
            "13 3.409771 0.99925196 4 5 87.79149519890258 2 0.2 7 7 9 7\n",
            "19 3.539122 0.99852556 4 5 58.527663465935056 2 0.2 7 7 1 7\n",
            "9 2.6828792 0.98189956 4 5 39.01844231062337 2 0.2 7 7 2 7\n",
            "23 3.6430566 0.9964371 4 5 26.012294873748914 2 0.2 7 7 9 7\n",
            "86 3.030816 0.78963935 4 5 17.34152991583261 2 0.2 7 7 1 7\n",
            "12 2.964212 0.99834144 4 5 11.561019943888406 2 0.2 7 7 2 7\n",
            "15 3.2628496 0.995721 4 5 7.707346629258937 2 0.2 7 7 2 7\n",
            "8 2.4544992 0.99756145 4 5 5.138231086172625 2 0.2 7 7 2 7\n",
            "7 2.3990915 0.9993845 4 5 3.42548739078175 2 0.2 7 7 2 7\n",
            "706 5.896355 0.4473731 4 5 2.283658260521167 2 0.2 7 7 2 7\n",
            "706 6.2262874 0.48690236 4 5 1.5224388403474445 2 0.2 7 7 8 7\n",
            "704 5.7821226 0.36176425 4 5 1.0149592268982963 2 0.2 7 7 8 7\n",
            "699 5.5237355 0.22770607 4 5 0.6766394845988642 2 0.2 7 7 2 7\n",
            "705 6.214467 0.25288638 4 5 0.45109298973257617 2 0.2 7 7 2 7\n",
            "697 5.4828315 0.21349385 4 5 0.3007286598217174 2 0.2 7 7 2 7\n",
            "699 5.6450086 0.21711993 4 5 0.20048577321447827 2 0.2 7 7 2 7\n",
            "697 5.4741364 0.20941257 4 5 0.13365718214298553 2 0.2 7 7 2 7\n",
            "[[7, array(2.3990915, dtype=float32), array(0.9993845, dtype=float32), 4, 5, 2, 3.42548739078175, 0.2, 7, 7, 2, 7]]\n"
          ]
        }
      ],
      "source": [
        "Activation = 4\n",
        "Coef = 5\n",
        "Prob = 2\n",
        "Similarity = 0.2\n",
        "Init=1\n",
        "lr = 0.02\n",
        "Steps = 10000\n",
        "\n",
        "\n",
        "data = []\n",
        "start_time = time.time()\n",
        "data = TestUtils.TestLoopC(Model, Steps, lr, Coef, Activation, Prob, Similarity, Init, X, y, Device, 1000, 0.1, 1.5)\n",
        "end_time = time.time()\n",
        "\n",
        "TestUtils.SaveTime(start_time, end_time, \"Results/MNIST/ComputationTimeResults.txt\")\n",
        "TestUtils.SaveData(data, \"Results/MNIST/Results.xlsx\")"
      ]
    },
    {
      "cell_type": "code",
      "execution_count": 59,
      "metadata": {},
      "outputs": [
        {
          "name": "stdout",
          "output_type": "stream",
          "text": [
            "763 13.529208 0.6322329 4 5 1000 2 0.2 7 7 1 7\n",
            "755 13.45069 0.6447298 4 5 666.6666666666666 2 0.2 7 7 1 7\n",
            "758 13.121813 0.6627497 4 5 444.4444444444444 2 0.2 7 7 1 7\n",
            "744 12.114229 0.71204937 4 5 296.29629629629625 2 0.2 7 7 1 7\n",
            "730 11.179966 0.68731594 4 5 197.53086419753083 2 0.2 7 7 1 7\n",
            "648 9.812208 0.6799894 4 5 131.68724279835388 2 0.2 7 7 1 7\n",
            "575 8.435994 0.74999034 4 5 87.79149519890258 2 0.2 7 7 1 7\n",
            "445 6.8470664 0.6789295 4 5 58.527663465935056 2 0.2 7 7 1 7\n",
            "239 4.905822 0.7070337 4 5 39.01844231062337 2 0.2 7 7 8 7\n",
            "272 4.965718 0.5450983 4 5 26.012294873748914 2 0.2 7 7 1 7\n",
            "232 4.906239 0.70526004 4 5 17.34152991583261 2 0.2 7 7 4 7\n",
            "254 4.6250153 0.5961207 4 5 11.561019943888406 2 0.2 7 7 1 7\n",
            "74 3.1214347 0.74433553 4 5 7.707346629258937 2 0.2 7 7 9 7\n",
            "510 5.561542 0.61952513 4 5 5.138231086172625 2 0.2 7 7 8 7\n",
            "563 5.5930467 0.5748867 4 5 3.42548739078175 2 0.2 7 7 8 7\n",
            "708 5.8278885 0.41885537 4 5 2.283658260521167 2 0.2 7 7 2 7\n",
            "703 5.836741 0.38042212 4 5 1.5224388403474445 2 0.2 7 7 2 7\n",
            "698 5.6118956 0.3556069 4 5 1.0149592268982963 2 0.2 7 7 2 7\n",
            "702 5.860909 0.23560154 4 5 0.6766394845988642 2 0.2 7 7 2 7\n",
            "701 5.6705694 0.23062003 4 5 0.45109298973257617 2 0.2 7 7 2 7\n",
            "697 5.4817715 0.21490294 4 5 0.3007286598217174 2 0.2 7 7 2 7\n",
            "697 5.4769793 0.21213695 4 5 0.20048577321447827 2 0.2 7 7 2 7\n",
            "702 5.821683 0.22205561 4 5 0.13365718214298553 2 0.2 7 7 2 7\n",
            "[[74, array(3.1214347, dtype=float32), array(0.74433553, dtype=float32), 4, 5, 2, 7.707346629258937, 0.2, 7, 7, 9, 7]]\n",
            "364 7.5722423 0.91422933 4 5 1000 2 0.2 7 7 2 7\n",
            "264 6.14041 0.8890852 4 5 666.6666666666666 2 0.2 7 7 2 7\n",
            "82 4.122337 0.9258444 4 5 444.4444444444444 2 0.2 7 7 8 7\n",
            "164 5.0155773 0.9152147 4 5 296.29629629629625 2 0.2 7 7 8 7\n",
            "76 3.9302592 0.8596493 4 5 197.53086419753083 2 0.2 7 7 9 7\n",
            "89 4.0937357 0.89209104 4 5 131.68724279835388 2 0.2 7 7 8 7\n",
            "31 3.3710227 0.97927284 4 5 87.79149519890258 2 0.2 7 7 1 7\n",
            "45 3.2125385 0.8689836 4 5 58.527663465935056 2 0.2 7 7 1 7\n",
            "10 1.9719268 0.8387302 4 5 39.01844231062337 2 0.2 7 7 2 7\n",
            "11 2.161922 0.93951637 4 5 26.012294873748914 2 0.2 7 7 2 7\n",
            "52 3.075646 0.82735634 4 5 17.34152991583261 2 0.2 7 7 1 7\n",
            "35 2.9494321 0.91960526 4 5 11.561019943888406 2 0.2 7 7 9 7\n",
            "24 3.315546 0.9783276 4 5 7.707346629258937 2 0.2 7 7 9 7\n",
            "23 2.707886 0.98672295 4 5 5.138231086172625 2 0.2 7 7 9 7\n",
            "14 2.5570447 0.9832819 4 5 3.42548739078175 2 0.2 7 7 9 7\n",
            "8 1.9875727 0.9320924 4 5 2.283658260521167 2 0.2 7 7 2 7\n",
            "702 5.6664534 0.36008632 4 5 1.5224388403474445 2 0.2 7 7 2 7\n",
            "704 5.9094186 0.258827 4 5 1.0149592268982963 2 0.2 7 7 2 7\n",
            "699 5.5252438 0.23275435 4 5 0.6766394845988642 2 0.2 7 7 2 7\n",
            "697 5.492377 0.22197664 4 5 0.45109298973257617 2 0.2 7 7 2 7\n",
            "697 5.481351 0.21406448 4 5 0.3007286598217174 2 0.2 7 7 2 7\n",
            "704 6.0063844 0.23204765 4 5 0.20048577321447827 2 0.2 7 7 2 7\n",
            "698 5.4781218 0.2097956 4 5 0.13365718214298553 2 0.2 7 7 2 7\n",
            "[[8, array(1.9875727, dtype=float32), array(0.9320924, dtype=float32), 4, 5, 2, 2.283658260521167, 0.2, 7, 7, 2, 7]]\n"
          ]
        }
      ],
      "source": [
        "Coef=5\n",
        "Activation=4\n",
        "Prob = 2\n",
        "Similarity = 0.2\n",
        "Init=1\n",
        "lr = 0.02\n",
        "\n",
        "TestedIterations = [100, 1000]\n",
        "\n",
        "for i in range((len(TestedIterations))):\n",
        "    data = []\n",
        "    start_time = time.time()\n",
        "    data = TestUtils.TestLoopC(Model, TestedIterations[i], lr, Coef, Activation, Prob, Similarity, Init, X, y, Device, 1000, 0.1, 1.5)\n",
        "    end_time = time.time()\n",
        "\n",
        "    TestUtils.SaveTime(start_time, end_time, \"Results/MNIST/TimeXM\" + str(TestedIterations[i]) +\".txt\")\n",
        "    TestUtils.SaveData(data, \"Results/MNIST/ResultXM\" + str(TestedIterations[i]) + \".xlsx\")\n",
        "    "
      ]
    },
    {
      "cell_type": "code",
      "execution_count": 60,
      "metadata": {},
      "outputs": [],
      "source": [
        "TestUtils.SaveImages(\"Results/MNIST/InitialImages/\", X, y)"
      ]
    },
    {
      "cell_type": "code",
      "execution_count": 61,
      "metadata": {},
      "outputs": [
        {
          "name": "stdout",
          "output_type": "stream",
          "text": [
            "38 4.935331 0.96344393 4 5 1000 2 0.2 7 7 8 7\n",
            "23 3.970373 0.9639157 4 5 666.6666666666666 2 0.2 7 7 2 7\n",
            "27 4.325328 0.9935932 4 5 444.4444444444444 2 0.2 7 7 8 7\n",
            "30 4.5365605 0.98776686 4 5 296.29629629629625 2 0.2 7 7 1 7\n",
            "19 3.908887 0.9921688 4 5 197.53086419753083 2 0.2 7 7 2 7\n",
            "27 3.8938026 0.986916 4 5 131.68724279835388 2 0.2 7 7 8 7\n",
            "15 3.247142 0.99358124 4 5 87.79149519890258 2 0.2 7 7 2 7\n",
            "16 3.174768 0.98426914 4 5 58.527663465935056 2 0.2 7 7 9 7\n",
            "16 3.6187434 0.99935055 4 5 39.01844231062337 2 0.2 7 7 2 7\n",
            "21 3.445422 0.9993062 4 5 26.012294873748914 2 0.2 7 7 9 7\n",
            "10 2.8755581 0.9999648 4 5 17.34152991583261 2 0.2 7 7 2 7\n",
            "13 2.920763 0.9942975 4 5 11.561019943888406 2 0.2 7 7 2 7\n",
            "9 2.902559 0.9903768 4 5 7.707346629258937 2 0.2 7 7 9 7\n",
            "9 2.429898 0.9835472 4 5 5.138231086172625 2 0.2 7 7 2 7\n",
            "5 2.0726795 0.97225964 4 5 3.42548739078175 2 0.2 7 7 2 7\n",
            "708 6.547648 0.4364003 4 5 2.283658260521167 2 0.2 7 7 8 7\n",
            "9 2.437407 0.99927425 4 5 1.5224388403474445 2 0.2 7 7 2 7\n",
            "706 6.305149 0.36603624 4 5 1.0149592268982963 2 0.2 7 7 8 7\n",
            "703 5.8803306 0.2570895 4 5 0.6766394845988642 2 0.2 7 7 2 7\n",
            "697 5.49762 0.2234653 4 5 0.45109298973257617 2 0.2 7 7 2 7\n",
            "702 5.830262 0.2272473 4 5 0.3007286598217174 2 0.2 7 7 2 7\n",
            "699 5.6447363 0.21709114 4 5 0.20048577321447827 2 0.2 7 7 2 7\n",
            "699 5.643098 0.21665576 4 5 0.13365718214298553 2 0.2 7 7 2 7\n"
          ]
        }
      ],
      "source": [
        "Coef=5\n",
        "Activation=4\n",
        "Prob = 2\n",
        "Similarity = 0.2\n",
        "Init=1\n",
        "lr = 0.02\n",
        "Steps = 10000\n",
        "\n",
        "TestUtils.SaveLoopC(Model, Steps, lr, Coef, Activation, Prob, Similarity, Init, X, y, Device, 1000, 0.1, 1.5, \"Results/MNIST/Images/\")"
      ]
    },
    {
      "cell_type": "code",
      "execution_count": 62,
      "metadata": {},
      "outputs": [
        {
          "name": "stdout",
          "output_type": "stream",
          "text": [
            "66 7.831178 1.0 0 0 0 0 0 7 7 8 7\n",
            "[[66, array(7.831178, dtype=float32), array(1., dtype=float32), 0, 0, 0, 0, 0, 7, 7, 8, 7]]\n"
          ]
        }
      ],
      "source": [
        "dataJSMA = []\n",
        "\n",
        "start_time = time.time()\n",
        "Data = TestUtils.TestJSMA(1,1, Model, X, y, Device)\n",
        "end_time = time.time()\n",
        "\n",
        "TestUtils.SaveTime(start_time, end_time, \"Results/MNIST/TimeJSMAM.txt\")\n",
        "TestUtils.SaveData(Data, \"Results/MNIST/BestJSMAM.xlsx\")"
      ]
    },
    {
      "cell_type": "code",
      "execution_count": 64,
      "metadata": {},
      "outputs": [
        {
          "name": "stdout",
          "output_type": "stream",
          "text": [
            "66 7.831178 1.0 0 0 0 0 0 7 7 8 7\n"
          ]
        },
        {
          "data": {
            "text/plain": [
              "[[]]"
            ]
          },
          "execution_count": 64,
          "metadata": {},
          "output_type": "execute_result"
        }
      ],
      "source": [
        "TestUtils.SaveJSMA(1,1, Model, X, y, Device, \"Results/MNIST/JSMAImages/\")"
      ]
    },
    {
      "cell_type": "code",
      "execution_count": 63,
      "metadata": {},
      "outputs": [
        {
          "name": "stdout",
          "output_type": "stream",
          "text": [
            "10\n",
            "Attack iteration 0\n",
            "Forced equal: tensor(0.) Equal count: tensor(603, device='cuda:0') tensor(784.) torch.Size([1, 1, 28, 28])\n",
            "Forced equal: tensor(8.) Equal count: tensor(624, device='cuda:0') tensor(776.) torch.Size([1, 1, 28, 28])\n",
            "Forced equal: tensor(16.) Equal count: tensor(626, device='cuda:0') tensor(768.) torch.Size([1, 1, 28, 28])\n",
            "Forced equal: tensor(24.) Equal count: tensor(628, device='cuda:0') tensor(760.) torch.Size([1, 1, 28, 28])\n",
            "Forced equal: tensor(32.) Equal count: tensor(627, device='cuda:0') tensor(752.) torch.Size([1, 1, 28, 28])\n",
            "Forced equal: tensor(40.) Equal count: tensor(631, device='cuda:0') tensor(744.) torch.Size([1, 1, 28, 28])\n",
            "Forced equal: tensor(48.) Equal count: tensor(631, device='cuda:0') tensor(736.) torch.Size([1, 1, 28, 28])\n",
            "Forced equal: tensor(56.) Equal count: tensor(631, device='cuda:0') tensor(728.) torch.Size([1, 1, 28, 28])\n",
            "Forced equal: tensor(64.) Equal count: tensor(631, device='cuda:0') tensor(720.) torch.Size([1, 1, 28, 28])\n",
            "Forced equal: tensor(72.) Equal count: tensor(631, device='cuda:0') tensor(712.) torch.Size([1, 1, 28, 28])\n",
            "Forced equal: tensor(80.) Equal count: tensor(631, device='cuda:0') tensor(704.) torch.Size([1, 1, 28, 28])\n",
            "Forced equal: tensor(88.) Equal count: tensor(631, device='cuda:0') tensor(696.) torch.Size([1, 1, 28, 28])\n",
            "Forced equal: tensor(96.) Equal count: tensor(631, device='cuda:0') tensor(688.) torch.Size([1, 1, 28, 28])\n",
            "Forced equal: tensor(104.) Equal count: tensor(631, device='cuda:0') tensor(680.) torch.Size([1, 1, 28, 28])\n",
            "Forced equal: tensor(112.) Equal count: tensor(631, device='cuda:0') tensor(672.) torch.Size([1, 1, 28, 28])\n",
            "Forced equal: tensor(120.) Equal count: tensor(631, device='cuda:0') tensor(664.) torch.Size([1, 1, 28, 28])\n",
            "Forced equal: tensor(128.) Equal count: tensor(631, device='cuda:0') tensor(656.) torch.Size([1, 1, 28, 28])\n",
            "Forced equal: tensor(136.) Equal count: tensor(631, device='cuda:0') tensor(648.) torch.Size([1, 1, 28, 28])\n",
            "Forced equal: tensor(144.) Equal count: tensor(631, device='cuda:0') tensor(640.) torch.Size([1, 1, 28, 28])\n",
            "Forced equal: tensor(152.) Equal count: tensor(631, device='cuda:0') tensor(632.) torch.Size([1, 1, 28, 28])\n",
            "Forced equal: tensor(160.) Equal count: tensor(624, device='cuda:0') tensor(624.) torch.Size([1, 1, 28, 28])\n",
            "Forced equal: tensor(168.) Equal count: tensor(616, device='cuda:0') tensor(616.) torch.Size([1, 1, 28, 28])\n",
            "Forced equal: tensor(176.) Equal count: tensor(608, device='cuda:0') tensor(608.) torch.Size([1, 1, 28, 28])\n",
            "Forced equal: tensor(184.) Equal count: tensor(600, device='cuda:0') tensor(600.) torch.Size([1, 1, 28, 28])\n",
            "Forced equal: tensor(192.) Equal count: tensor(592, device='cuda:0') tensor(592.) torch.Size([1, 1, 28, 28])\n",
            "Forced equal: tensor(200.) Equal count: tensor(584, device='cuda:0') tensor(584.) torch.Size([1, 1, 28, 28])\n",
            "Forced equal: tensor(208.) Equal count: tensor(576, device='cuda:0') tensor(576.) torch.Size([1, 1, 28, 28])\n",
            "Forced equal: tensor(216.) Equal count: tensor(568, device='cuda:0') tensor(568.) torch.Size([1, 1, 28, 28])\n",
            "Forced equal: tensor(224.) Equal count: tensor(560, device='cuda:0') tensor(560.) torch.Size([1, 1, 28, 28])\n",
            "Forced equal: tensor(232.) Equal count: tensor(552, device='cuda:0') tensor(552.) torch.Size([1, 1, 28, 28])\n",
            "Forced equal: tensor(240.) Equal count: tensor(544, device='cuda:0') tensor(544.) torch.Size([1, 1, 28, 28])\n",
            "Forced equal: tensor(247.) Equal count: tensor(537, device='cuda:0') tensor(537.) torch.Size([1, 1, 28, 28])\n",
            "Forced equal: tensor(254.) Equal count: tensor(530, device='cuda:0') tensor(530.) torch.Size([1, 1, 28, 28])\n",
            "Forced equal: tensor(261.) Equal count: tensor(523, device='cuda:0') tensor(523.) torch.Size([1, 1, 28, 28])\n",
            "Forced equal: tensor(268.) Equal count: tensor(516, device='cuda:0') tensor(516.) torch.Size([1, 1, 28, 28])\n",
            "Forced equal: tensor(275.) Equal count: tensor(509, device='cuda:0') tensor(509.) torch.Size([1, 1, 28, 28])\n",
            "Forced equal: tensor(282.) Equal count: tensor(502, device='cuda:0') tensor(502.) torch.Size([1, 1, 28, 28])\n",
            "Forced equal: tensor(289.) Equal count: tensor(495, device='cuda:0') tensor(495.) torch.Size([1, 1, 28, 28])\n",
            "Forced equal: tensor(296.) Equal count: tensor(488, device='cuda:0') tensor(488.) torch.Size([1, 1, 28, 28])\n",
            "Forced equal: tensor(303.) Equal count: tensor(481, device='cuda:0') tensor(481.) torch.Size([1, 1, 28, 28])\n",
            "Forced equal: tensor(310.) Equal count: tensor(474, device='cuda:0') tensor(474.) torch.Size([1, 1, 28, 28])\n",
            "Forced equal: tensor(317.) Equal count: tensor(467, device='cuda:0') tensor(467.) torch.Size([1, 1, 28, 28])\n",
            "Forced equal: tensor(324.) Equal count: tensor(460, device='cuda:0') tensor(460.) torch.Size([1, 1, 28, 28])\n",
            "Forced equal: tensor(331.) Equal count: tensor(453, device='cuda:0') tensor(453.) torch.Size([1, 1, 28, 28])\n",
            "Forced equal: tensor(338.) Equal count: tensor(446, device='cuda:0') tensor(446.) torch.Size([1, 1, 28, 28])\n",
            "Forced equal: tensor(345.) Equal count: tensor(439, device='cuda:0') tensor(439.) torch.Size([1, 1, 28, 28])\n",
            "Forced equal: tensor(352.) Equal count: tensor(432, device='cuda:0') tensor(432.) torch.Size([1, 1, 28, 28])\n",
            "Forced equal: tensor(359.) Equal count: tensor(425, device='cuda:0') tensor(425.) torch.Size([1, 1, 28, 28])\n",
            "Forced equal: tensor(366.) Equal count: tensor(418, device='cuda:0') tensor(418.) torch.Size([1, 1, 28, 28])\n",
            "Forced equal: tensor(373.) Equal count: tensor(411, device='cuda:0') tensor(411.) torch.Size([1, 1, 28, 28])\n",
            "Forced equal: tensor(380.) Equal count: tensor(404, device='cuda:0') tensor(404.) torch.Size([1, 1, 28, 28])\n",
            "Forced equal: tensor(387.) Equal count: tensor(397, device='cuda:0') tensor(397.) torch.Size([1, 1, 28, 28])\n",
            "Forced equal: tensor(393.) Equal count: tensor(391, device='cuda:0') tensor(391.) torch.Size([1, 1, 28, 28])\n",
            "Forced equal: tensor(399.) Equal count: tensor(385, device='cuda:0') tensor(385.) torch.Size([1, 1, 28, 28])\n",
            "Forced equal: tensor(405.) Equal count: tensor(379, device='cuda:0') tensor(379.) torch.Size([1, 1, 28, 28])\n",
            "Forced equal: tensor(411.) Equal count: tensor(373, device='cuda:0') tensor(373.) torch.Size([1, 1, 28, 28])\n",
            "Forced equal: tensor(417.) Equal count: tensor(367, device='cuda:0') tensor(367.) torch.Size([1, 1, 28, 28])\n",
            "Forced equal: tensor(423.) Equal count: tensor(361, device='cuda:0') tensor(361.) torch.Size([1, 1, 28, 28])\n",
            "Forced equal: tensor(429.) Equal count: tensor(355, device='cuda:0') tensor(355.) torch.Size([1, 1, 28, 28])\n",
            "Forced equal: tensor(435.) Equal count: tensor(349, device='cuda:0') tensor(349.) torch.Size([1, 1, 28, 28])\n",
            "Forced equal: tensor(441.) Equal count: tensor(343, device='cuda:0') tensor(343.) torch.Size([1, 1, 28, 28])\n",
            "Forced equal: tensor(447.) Equal count: tensor(337, device='cuda:0') tensor(337.) torch.Size([1, 1, 28, 28])\n",
            "Forced equal: tensor(453.) Equal count: tensor(331, device='cuda:0') tensor(331.) torch.Size([1, 1, 28, 28])\n",
            "Forced equal: tensor(459.) Equal count: tensor(325, device='cuda:0') tensor(325.) torch.Size([1, 1, 28, 28])\n",
            "Forced equal: tensor(465.) Equal count: tensor(319, device='cuda:0') tensor(319.) torch.Size([1, 1, 28, 28])\n",
            "Forced equal: tensor(471.) Equal count: tensor(313, device='cuda:0') tensor(313.) torch.Size([1, 1, 28, 28])\n",
            "Forced equal: tensor(477.) Equal count: tensor(307, device='cuda:0') tensor(307.) torch.Size([1, 1, 28, 28])\n",
            "Forced equal: tensor(483.) Equal count: tensor(301, device='cuda:0') tensor(301.) torch.Size([1, 1, 28, 28])\n",
            "Forced equal: tensor(489.) Equal count: tensor(295, device='cuda:0') tensor(295.) torch.Size([1, 1, 28, 28])\n",
            "Forced equal: tensor(495.) Equal count: tensor(289, device='cuda:0') tensor(289.) torch.Size([1, 1, 28, 28])\n",
            "Forced equal: tensor(501.) Equal count: tensor(283, device='cuda:0') tensor(283.) torch.Size([1, 1, 28, 28])\n",
            "Forced equal: tensor(507.) Equal count: tensor(277, device='cuda:0') tensor(277.) torch.Size([1, 1, 28, 28])\n",
            "Forced equal: tensor(512.) Equal count: tensor(272, device='cuda:0') tensor(272.) torch.Size([1, 1, 28, 28])\n",
            "Forced equal: tensor(517.) Equal count: tensor(267, device='cuda:0') tensor(267.) torch.Size([1, 1, 28, 28])\n",
            "Forced equal: tensor(522.) Equal count: tensor(262, device='cuda:0') tensor(262.) torch.Size([1, 1, 28, 28])\n",
            "Forced equal: tensor(527.) Equal count: tensor(257, device='cuda:0') tensor(257.) torch.Size([1, 1, 28, 28])\n",
            "Forced equal: tensor(532.) Equal count: tensor(252, device='cuda:0') tensor(252.) torch.Size([1, 1, 28, 28])\n",
            "Forced equal: tensor(537.) Equal count: tensor(247, device='cuda:0') tensor(247.) torch.Size([1, 1, 28, 28])\n",
            "Forced equal: tensor(542.) Equal count: tensor(242, device='cuda:0') tensor(242.) torch.Size([1, 1, 28, 28])\n",
            "Forced equal: tensor(547.) Equal count: tensor(237, device='cuda:0') tensor(237.) torch.Size([1, 1, 28, 28])\n",
            "Forced equal: tensor(552.) Equal count: tensor(232, device='cuda:0') tensor(232.) torch.Size([1, 1, 28, 28])\n",
            "Forced equal: tensor(557.) Equal count: tensor(227, device='cuda:0') tensor(227.) torch.Size([1, 1, 28, 28])\n",
            "Forced equal: tensor(562.) Equal count: tensor(222, device='cuda:0') tensor(222.) torch.Size([1, 1, 28, 28])\n",
            "Forced equal: tensor(567.) Equal count: tensor(217, device='cuda:0') tensor(217.) torch.Size([1, 1, 28, 28])\n",
            "Forced equal: tensor(572.) Equal count: tensor(212, device='cuda:0') tensor(212.) torch.Size([1, 1, 28, 28])\n",
            "Forced equal: tensor(577.) Equal count: tensor(207, device='cuda:0') tensor(207.) torch.Size([1, 1, 28, 28])\n",
            "Forced equal: tensor(582.) Equal count: tensor(202, device='cuda:0') tensor(202.) torch.Size([1, 1, 28, 28])\n",
            "Forced equal: tensor(587.) Equal count: tensor(197, device='cuda:0') tensor(197.) torch.Size([1, 1, 28, 28])\n",
            "Forced equal: tensor(592.) Equal count: tensor(192, device='cuda:0') tensor(192.) torch.Size([1, 1, 28, 28])\n",
            "Forced equal: tensor(597.) Equal count: tensor(187, device='cuda:0') tensor(187.) torch.Size([1, 1, 28, 28])\n",
            "Forced equal: tensor(602.) Equal count: tensor(182, device='cuda:0') tensor(182.) torch.Size([1, 1, 28, 28])\n",
            "Forced equal: tensor(607.) Equal count: tensor(177, device='cuda:0') tensor(177.) torch.Size([1, 1, 28, 28])\n",
            "Forced equal: tensor(611.) Equal count: tensor(173, device='cuda:0') tensor(173.) torch.Size([1, 1, 28, 28])\n",
            "Forced equal: tensor(615.) Equal count: tensor(169, device='cuda:0') tensor(169.) torch.Size([1, 1, 28, 28])\n",
            "Forced equal: tensor(619.) Equal count: tensor(165, device='cuda:0') tensor(165.) torch.Size([1, 1, 28, 28])\n",
            "Forced equal: tensor(623.) Equal count: tensor(161, device='cuda:0') tensor(161.) torch.Size([1, 1, 28, 28])\n",
            "Forced equal: tensor(627.) Equal count: tensor(157, device='cuda:0') tensor(157.) torch.Size([1, 1, 28, 28])\n",
            "Forced equal: tensor(631.) Equal count: tensor(153, device='cuda:0') tensor(153.) torch.Size([1, 1, 28, 28])\n",
            "Forced equal: tensor(635.) Equal count: tensor(149, device='cuda:0') tensor(149.) torch.Size([1, 1, 28, 28])\n",
            "Forced equal: tensor(639.) Equal count: tensor(145, device='cuda:0') tensor(145.) torch.Size([1, 1, 28, 28])\n",
            "Forced equal: tensor(643.) Equal count: tensor(141, device='cuda:0') tensor(141.) torch.Size([1, 1, 28, 28])\n",
            "Forced equal: tensor(647.) Equal count: tensor(137, device='cuda:0') tensor(137.) torch.Size([1, 1, 28, 28])\n",
            "Forced equal: tensor(651.) Equal count: tensor(133, device='cuda:0') tensor(133.) torch.Size([1, 1, 28, 28])\n",
            "Forced equal: tensor(655.) Equal count: tensor(129, device='cuda:0') tensor(129.) torch.Size([1, 1, 28, 28])\n",
            "Forced equal: tensor(659.) Equal count: tensor(125, device='cuda:0') tensor(125.) torch.Size([1, 1, 28, 28])\n",
            "Forced equal: tensor(663.) Equal count: tensor(121, device='cuda:0') tensor(121.) torch.Size([1, 1, 28, 28])\n",
            "Forced equal: tensor(667.) Equal count: tensor(117, device='cuda:0') tensor(117.) torch.Size([1, 1, 28, 28])\n",
            "Forced equal: tensor(671.) Equal count: tensor(113, device='cuda:0') tensor(113.) torch.Size([1, 1, 28, 28])\n",
            "Forced equal: tensor(675.) Equal count: tensor(109, device='cuda:0') tensor(109.) torch.Size([1, 1, 28, 28])\n",
            "Forced equal: tensor(679.) Equal count: tensor(105, device='cuda:0') tensor(105.) torch.Size([1, 1, 28, 28])\n",
            "Forced equal: tensor(683.) Equal count: tensor(101, device='cuda:0') tensor(101.) torch.Size([1, 1, 28, 28])\n",
            "Forced equal: tensor(684.) Equal count: tensor(100, device='cuda:0') tensor(100.) torch.Size([1, 1, 28, 28])\n",
            "Forced equal: tensor(685.) Equal count: tensor(99, device='cuda:0') tensor(99.) torch.Size([1, 1, 28, 28])\n",
            "Forced equal: tensor(686.) Equal count: tensor(98, device='cuda:0') tensor(98.) torch.Size([1, 1, 28, 28])\n",
            "Forced equal: tensor(687.) Equal count: tensor(97, device='cuda:0') tensor(97.) torch.Size([1, 1, 28, 28])\n",
            "Forced equal: tensor(688.) Equal count: tensor(96, device='cuda:0') tensor(96.) torch.Size([1, 1, 28, 28])\n",
            "Forced equal: tensor(689.) Equal count: tensor(95, device='cuda:0') tensor(95.) torch.Size([1, 1, 28, 28])\n",
            "Forced equal: tensor(690.) Equal count: tensor(94, device='cuda:0') tensor(94.) torch.Size([1, 1, 28, 28])\n",
            "Forced equal: tensor(691.) Equal count: tensor(93, device='cuda:0') tensor(93.) torch.Size([1, 1, 28, 28])\n",
            "Forced equal: tensor(692.) Equal count: tensor(92, device='cuda:0') tensor(92.) torch.Size([1, 1, 28, 28])\n",
            "Forced equal: tensor(693.) Equal count: tensor(91, device='cuda:0') tensor(91.) torch.Size([1, 1, 28, 28])\n",
            "Forced equal: tensor(694.) Equal count: tensor(90, device='cuda:0') tensor(90.) torch.Size([1, 1, 28, 28])\n",
            "Forced equal: tensor(695.) Equal count: tensor(89, device='cuda:0') tensor(89.) torch.Size([1, 1, 28, 28])\n",
            "Forced equal: tensor(696.) Equal count: tensor(88, device='cuda:0') tensor(88.) torch.Size([1, 1, 28, 28])\n",
            "Forced equal: tensor(697.) Equal count: tensor(87, device='cuda:0') tensor(87.) torch.Size([1, 1, 28, 28])\n",
            "Forced equal: tensor(698.) Equal count: tensor(86, device='cuda:0') tensor(86.) torch.Size([1, 1, 28, 28])\n",
            "Forced equal: tensor(699.) Equal count: tensor(85, device='cuda:0') tensor(85.) torch.Size([1, 1, 28, 28])\n",
            "Forced equal: tensor(700.) Equal count: tensor(84, device='cuda:0') tensor(84.) torch.Size([1, 1, 28, 28])\n",
            "Forced equal: tensor(701.) Equal count: tensor(83, device='cuda:0') tensor(83.) torch.Size([1, 1, 28, 28])\n",
            "Forced equal: tensor(702.) Equal count: tensor(82, device='cuda:0') tensor(82.) torch.Size([1, 1, 28, 28])\n",
            "Forced equal: tensor(703.) Equal count: tensor(81, device='cuda:0') tensor(81.) torch.Size([1, 1, 28, 28])\n",
            "Forced equal: tensor(704.) Equal count: tensor(80, device='cuda:0') tensor(80.) torch.Size([1, 1, 28, 28])\n",
            "Forced equal: tensor(705.) Equal count: tensor(79, device='cuda:0') tensor(79.) torch.Size([1, 1, 28, 28])\n",
            "Forced equal: tensor(706.) Equal count: tensor(78, device='cuda:0') tensor(78.) torch.Size([1, 1, 28, 28])\n",
            "Forced equal: tensor(707.) Equal count: tensor(77, device='cuda:0') tensor(77.) torch.Size([1, 1, 28, 28])\n",
            "Forced equal: tensor(708.) Equal count: tensor(76, device='cuda:0') tensor(76.) torch.Size([1, 1, 28, 28])\n",
            "Forced equal: tensor(709.) Equal count: tensor(75, device='cuda:0') tensor(75.) torch.Size([1, 1, 28, 28])\n",
            "Forced equal: tensor(710.) Equal count: tensor(74, device='cuda:0') tensor(74.) torch.Size([1, 1, 28, 28])\n",
            "Forced equal: tensor(711.) Equal count: tensor(73, device='cuda:0') tensor(73.) torch.Size([1, 1, 28, 28])\n",
            "Forced equal: tensor(712.) Equal count: tensor(72, device='cuda:0') tensor(72.) torch.Size([1, 1, 28, 28])\n",
            "Forced equal: tensor(713.) Equal count: tensor(71, device='cuda:0') tensor(71.) torch.Size([1, 1, 28, 28])\n",
            "Forced equal: tensor(714.) Equal count: tensor(70, device='cuda:0') tensor(70.) torch.Size([1, 1, 28, 28])\n",
            "Forced equal: tensor(715.) Equal count: tensor(69, device='cuda:0') tensor(69.) torch.Size([1, 1, 28, 28])\n",
            "Forced equal: tensor(716.) Equal count: tensor(68, device='cuda:0') tensor(68.) torch.Size([1, 1, 28, 28])\n",
            "Forced equal: tensor(717.) Equal count: tensor(67, device='cuda:0') tensor(67.) torch.Size([1, 1, 28, 28])\n",
            "Forced equal: tensor(718.) Equal count: tensor(66, device='cuda:0') tensor(66.) torch.Size([1, 1, 28, 28])\n",
            "Forced equal: tensor(719.) Equal count: tensor(65, device='cuda:0') tensor(65.) torch.Size([1, 1, 28, 28])\n",
            "Forced equal: tensor(720.) Equal count: tensor(64, device='cuda:0') tensor(64.) torch.Size([1, 1, 28, 28])\n",
            "Forced equal: tensor(721.) Equal count: tensor(63, device='cuda:0') tensor(63.) torch.Size([1, 1, 28, 28])\n",
            "Forced equal: tensor(722.) Equal count: tensor(62, device='cuda:0') tensor(62.) torch.Size([1, 1, 28, 28])\n",
            "Forced equal: tensor(723.) Equal count: tensor(61, device='cuda:0') tensor(61.) torch.Size([1, 1, 28, 28])\n",
            "Forced equal: tensor(724.) Equal count: tensor(60, device='cuda:0') tensor(60.) torch.Size([1, 1, 28, 28])\n",
            "Forced equal: tensor(725.) Equal count: tensor(59, device='cuda:0') tensor(59.) torch.Size([1, 1, 28, 28])\n",
            "Forced equal: tensor(726.) Equal count: tensor(58, device='cuda:0') tensor(58.) torch.Size([1, 1, 28, 28])\n",
            "Forced equal: tensor(727.) Equal count: tensor(57, device='cuda:0') tensor(57.) torch.Size([1, 1, 28, 28])\n",
            "Forced equal: tensor(728.) Equal count: tensor(56, device='cuda:0') tensor(56.) torch.Size([1, 1, 28, 28])\n",
            "Forced equal: tensor(729.) Equal count: tensor(55, device='cuda:0') tensor(55.) torch.Size([1, 1, 28, 28])\n",
            "Forced equal: tensor(730.) Equal count: tensor(54, device='cuda:0') tensor(54.) torch.Size([1, 1, 28, 28])\n",
            "Forced equal: tensor(731.) Equal count: tensor(53, device='cuda:0') tensor(53.) torch.Size([1, 1, 28, 28])\n",
            "Forced equal: tensor(732.) Equal count: tensor(52, device='cuda:0') tensor(52.) torch.Size([1, 1, 28, 28])\n",
            "Forced equal: tensor(733.) Equal count: tensor(51, device='cuda:0') tensor(51.) torch.Size([1, 1, 28, 28])\n",
            "Forced equal: tensor(734.) Equal count: tensor(50, device='cuda:0') tensor(50.) torch.Size([1, 1, 28, 28])\n",
            "Forced equal: tensor(735.) Equal count: tensor(49, device='cuda:0') tensor(49.) torch.Size([1, 1, 28, 28])\n",
            "Forced equal: tensor(736.) Equal count: tensor(48, device='cuda:0') tensor(48.) torch.Size([1, 1, 28, 28])\n",
            "Forced equal: tensor(737.) Equal count: tensor(47, device='cuda:0') tensor(47.) torch.Size([1, 1, 28, 28])\n",
            "Forced equal: tensor(738.) Equal count: tensor(46, device='cuda:0') tensor(46.) torch.Size([1, 1, 28, 28])\n",
            "Forced equal: tensor(739.) Equal count: tensor(45, device='cuda:0') tensor(45.) torch.Size([1, 1, 28, 28])\n",
            "Forced equal: tensor(740.) Equal count: tensor(44, device='cuda:0') tensor(44.) torch.Size([1, 1, 28, 28])\n",
            "Forced equal: tensor(741.) Equal count: tensor(43, device='cuda:0') tensor(43.) torch.Size([1, 1, 28, 28])\n",
            "Forced equal: tensor(742.) Equal count: tensor(42, device='cuda:0') tensor(42.) torch.Size([1, 1, 28, 28])\n",
            "Forced equal: tensor(743.) Equal count: tensor(41, device='cuda:0') tensor(41.) torch.Size([1, 1, 28, 28])\n",
            "Forced equal: tensor(744.) Equal count: tensor(40, device='cuda:0') tensor(40.) torch.Size([1, 1, 28, 28])\n",
            "Forced equal: tensor(745.) Equal count: tensor(39, device='cuda:0') tensor(39.) torch.Size([1, 1, 28, 28])\n",
            "Forced equal: tensor(746.) Equal count: tensor(38, device='cuda:0') tensor(38.) torch.Size([1, 1, 28, 28])\n",
            "Forced equal: tensor(747.) Equal count: tensor(37, device='cuda:0') tensor(37.) torch.Size([1, 1, 28, 28])\n",
            "Forced equal: tensor(748.) Equal count: tensor(36, device='cuda:0') tensor(36.) torch.Size([1, 1, 28, 28])\n",
            "Forced equal: tensor(749.) Equal count: tensor(35, device='cuda:0') tensor(35.) torch.Size([1, 1, 28, 28])\n",
            "Forced equal: tensor(750.) Equal count: tensor(34, device='cuda:0') tensor(34.) torch.Size([1, 1, 28, 28])\n",
            "Forced equal: tensor(751.) Equal count: tensor(33, device='cuda:0') tensor(33.) torch.Size([1, 1, 28, 28])\n",
            "Forced equal: tensor(752.) Equal count: tensor(32, device='cuda:0') tensor(32.) torch.Size([1, 1, 28, 28])\n",
            "Forced equal: tensor(753.) Equal count: tensor(31, device='cuda:0') tensor(31.) torch.Size([1, 1, 28, 28])\n",
            "Forced equal: tensor(754.) Equal count: tensor(30, device='cuda:0') tensor(30.) torch.Size([1, 1, 28, 28])\n",
            "Forced equal: tensor(755.) Equal count: tensor(29, device='cuda:0') tensor(29.) torch.Size([1, 1, 28, 28])\n",
            "Forced equal: tensor(756.) Equal count: tensor(28, device='cuda:0') tensor(28.) torch.Size([1, 1, 28, 28])\n",
            "Forced equal: tensor(757.) Equal count: tensor(27, device='cuda:0') tensor(27.) torch.Size([1, 1, 28, 28])\n",
            "Forced equal: tensor(758.) Equal count: tensor(26, device='cuda:0') tensor(26.) torch.Size([1, 1, 28, 28])\n",
            "Forced equal: tensor(759.) Equal count: tensor(25, device='cuda:0') tensor(25.) torch.Size([1, 1, 28, 28])\n",
            "Forced equal: tensor(760.) Equal count: tensor(24, device='cuda:0') tensor(24.) torch.Size([1, 1, 28, 28])\n",
            "Forced equal: tensor(761.) Equal count: tensor(23, device='cuda:0') tensor(23.) torch.Size([1, 1, 28, 28])\n",
            "Forced equal: tensor(762.) Equal count: tensor(22, device='cuda:0') tensor(22.) torch.Size([1, 1, 28, 28])\n",
            "Forced equal: tensor(763.) Equal count: tensor(21, device='cuda:0') tensor(21.) torch.Size([1, 1, 28, 28])\n",
            "Forced equal: tensor(764.) Equal count: tensor(20, device='cuda:0') tensor(20.) torch.Size([1, 1, 28, 28])\n",
            "Forced equal: tensor(765.) Equal count: tensor(19, device='cuda:0') tensor(19.) torch.Size([1, 1, 28, 28])\n",
            "Forced equal: tensor(766.) Equal count: tensor(18, device='cuda:0') tensor(18.) torch.Size([1, 1, 28, 28])\n",
            "Forced equal: tensor(767.) Equal count: tensor(17, device='cuda:0') tensor(17.) torch.Size([1, 1, 28, 28])\n",
            "Forced equal: tensor(768.) Equal count: tensor(16, device='cuda:0') tensor(16.) torch.Size([1, 1, 28, 28])\n",
            "Forced equal: tensor(769.) Equal count: tensor(15, device='cuda:0') tensor(15.) torch.Size([1, 1, 28, 28])\n",
            "Forced equal: tensor(770.) Equal count: tensor(14, device='cuda:0') tensor(14.) torch.Size([1, 1, 28, 28])\n",
            "Forced equal: tensor(771.) Equal count: tensor(13, device='cuda:0') tensor(13.) torch.Size([1, 1, 28, 28])\n",
            "Forced equal: tensor(772.) Equal count: tensor(12, device='cuda:0') tensor(12.) torch.Size([1, 1, 28, 28])\n",
            "Forced equal: tensor(773.) Equal count: tensor(11, device='cuda:0') tensor(11.) torch.Size([1, 1, 28, 28])\n",
            "Forced equal: tensor(774.) Equal count: tensor(10, device='cuda:0') tensor(10.) torch.Size([1, 1, 28, 28])\n",
            "Forced equal: tensor(775.) Equal count: tensor(9, device='cuda:0') tensor(9.) torch.Size([1, 1, 28, 28])\n",
            "Forced equal: tensor(776.) Equal count: tensor(8, device='cuda:0') tensor(8.) torch.Size([1, 1, 28, 28])\n",
            "Forced equal: tensor(777.) Equal count: tensor(7, device='cuda:0') tensor(7.) torch.Size([1, 1, 28, 28])\n",
            "Forced equal: tensor(778.) Equal count: tensor(6, device='cuda:0') tensor(6.) torch.Size([1, 1, 28, 28])\n",
            "6 3.1651306 1.3465041 0 0 0 0 0 7 7 2 7\n",
            "[[6, array(3.1651306, dtype=float32), array(1.3465041, dtype=float32), 0, 0, 0, 0, 0, 7, 7, 2, 7]]\n"
          ]
        }
      ],
      "source": [
        "Count=0\n",
        "dataCW = []\n",
        "\n",
        "start_time = time.time()\n",
        "Data, AX = TestUtils.TestCW(1000, 1, 10, Model, X, y, Device)\n",
        "end_time = time.time()\n",
        "\n",
        "TestUtils.SaveTime(start_time, end_time, \"Results/MNIST/TimeCWM.txt\")\n",
        "TestUtils.SaveData([Data], \"Results/MNIST/BestCWM.xlsx\")"
      ]
    }
  ],
  "metadata": {
    "accelerator": "GPU",
    "colab": {
      "gpuType": "T4",
      "provenance": []
    },
    "kernelspec": {
      "display_name": "Python 3 (ipykernel)",
      "language": "python",
      "name": "python3"
    },
    "language_info": {
      "codemirror_mode": {
        "name": "ipython",
        "version": 3
      },
      "file_extension": ".py",
      "mimetype": "text/x-python",
      "name": "python",
      "nbconvert_exporter": "python",
      "pygments_lexer": "ipython3",
      "version": "3.10.12"
    },
    "orig_nbformat": 4
  },
  "nbformat": 4,
  "nbformat_minor": 0
}
