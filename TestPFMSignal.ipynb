{
  "cells": [
    {
      "cell_type": "code",
      "execution_count": 1,
      "metadata": {},
      "outputs": [
        {
          "name": "stdout",
          "output_type": "stream",
          "text": [
            "Requirement already satisfied: torchattacks in c:\\sources\\python311\\lib\\site-packages (3.5.1)\n",
            "Requirement already satisfied: torch>=1.7.1 in c:\\sources\\python311\\lib\\site-packages (from torchattacks) (2.0.1+cu118)\n",
            "Requirement already satisfied: torchvision>=0.8.2 in c:\\sources\\python311\\lib\\site-packages (from torchattacks) (0.15.2+cu118)\n",
            "Requirement already satisfied: scipy>=0.14.0 in c:\\sources\\python311\\lib\\site-packages (from torchattacks) (1.11.2)\n",
            "Requirement already satisfied: tqdm>=4.56.1 in c:\\sources\\python311\\lib\\site-packages (from torchattacks) (4.66.1)\n",
            "Requirement already satisfied: requests~=2.25.1 in c:\\sources\\python311\\lib\\site-packages (from torchattacks) (2.25.1)\n",
            "Requirement already satisfied: numpy>=1.19.4 in c:\\sources\\python311\\lib\\site-packages (from torchattacks) (1.24.1)\n",
            "Requirement already satisfied: chardet<5,>=3.0.2 in c:\\sources\\python311\\lib\\site-packages (from requests~=2.25.1->torchattacks) (4.0.0)\n",
            "Requirement already satisfied: idna<3,>=2.5 in c:\\sources\\python311\\lib\\site-packages (from requests~=2.25.1->torchattacks) (2.10)\n",
            "Requirement already satisfied: urllib3<1.27,>=1.21.1 in c:\\sources\\python311\\lib\\site-packages (from requests~=2.25.1->torchattacks) (1.26.13)\n",
            "Requirement already satisfied: certifi>=2017.4.17 in c:\\sources\\python311\\lib\\site-packages (from requests~=2.25.1->torchattacks) (2022.12.7)\n",
            "Requirement already satisfied: filelock in c:\\sources\\python311\\lib\\site-packages (from torch>=1.7.1->torchattacks) (3.9.0)\n",
            "Requirement already satisfied: typing-extensions in c:\\sources\\python311\\lib\\site-packages (from torch>=1.7.1->torchattacks) (4.4.0)\n",
            "Requirement already satisfied: sympy in c:\\sources\\python311\\lib\\site-packages (from torch>=1.7.1->torchattacks) (1.11.1)\n",
            "Requirement already satisfied: networkx in c:\\sources\\python311\\lib\\site-packages (from torch>=1.7.1->torchattacks) (3.0)\n",
            "Requirement already satisfied: jinja2 in c:\\sources\\python311\\lib\\site-packages (from torch>=1.7.1->torchattacks) (3.1.2)\n",
            "Requirement already satisfied: pillow!=8.3.*,>=5.3.0 in c:\\sources\\python311\\lib\\site-packages (from torchvision>=0.8.2->torchattacks) (9.3.0)\n",
            "Requirement already satisfied: colorama in c:\\sources\\python311\\lib\\site-packages (from tqdm>=4.56.1->torchattacks) (0.4.6)\n",
            "Requirement already satisfied: MarkupSafe>=2.0 in c:\\sources\\python311\\lib\\site-packages (from jinja2->torch>=1.7.1->torchattacks) (2.1.2)\n",
            "Requirement already satisfied: mpmath>=0.19 in c:\\sources\\python311\\lib\\site-packages (from sympy->torch>=1.7.1->torchattacks) (1.2.1)\n"
          ]
        },
        {
          "name": "stderr",
          "output_type": "stream",
          "text": [
            "\n",
            "[notice] A new release of pip is available: 23.3.2 -> 24.0\n",
            "[notice] To update, run: python.exe -m pip install --upgrade pip\n"
          ]
        },
        {
          "name": "stdout",
          "output_type": "stream",
          "text": [
            "Requirement already satisfied: pandas in c:\\sources\\python311\\lib\\site-packages (2.0.3)\n",
            "Requirement already satisfied: python-dateutil>=2.8.2 in c:\\sources\\python311\\lib\\site-packages (from pandas) (2.8.2)\n",
            "Requirement already satisfied: pytz>=2020.1 in c:\\sources\\python311\\lib\\site-packages (from pandas) (2023.3)\n",
            "Requirement already satisfied: tzdata>=2022.1 in c:\\sources\\python311\\lib\\site-packages (from pandas) (2023.3)\n",
            "Requirement already satisfied: numpy>=1.21.0 in c:\\sources\\python311\\lib\\site-packages (from pandas) (1.24.1)\n",
            "Requirement already satisfied: six>=1.5 in c:\\sources\\python311\\lib\\site-packages (from python-dateutil>=2.8.2->pandas) (1.16.0)\n"
          ]
        },
        {
          "name": "stderr",
          "output_type": "stream",
          "text": [
            "\n",
            "[notice] A new release of pip is available: 23.3.2 -> 24.0\n",
            "[notice] To update, run: python.exe -m pip install --upgrade pip\n"
          ]
        },
        {
          "name": "stdout",
          "output_type": "stream",
          "text": [
            "Requirement already satisfied: openpyxl in c:\\sources\\python311\\lib\\site-packages (3.1.2)"
          ]
        },
        {
          "name": "stderr",
          "output_type": "stream",
          "text": [
            "\n",
            "[notice] A new release of pip is available: 23.3.2 -> 24.0\n",
            "[notice] To update, run: python.exe -m pip install --upgrade pip\n"
          ]
        },
        {
          "name": "stdout",
          "output_type": "stream",
          "text": [
            "\n",
            "Requirement already satisfied: et-xmlfile in c:\\sources\\python311\\lib\\site-packages (from openpyxl) (1.1.0)\n",
            "Requirement already satisfied: numpy in c:\\sources\\python311\\lib\\site-packages (1.24.1)\n"
          ]
        },
        {
          "name": "stderr",
          "output_type": "stream",
          "text": [
            "\n",
            "[notice] A new release of pip is available: 23.3.2 -> 24.0\n",
            "[notice] To update, run: python.exe -m pip install --upgrade pip\n"
          ]
        },
        {
          "name": "stdout",
          "output_type": "stream",
          "text": [
            "Requirement already satisfied: plot in c:\\sources\\python311\\lib\\site-packages (0.6.5)\n",
            "Requirement already satisfied: matplotlib in c:\\sources\\python311\\lib\\site-packages (from plot) (3.7.2)\n",
            "Requirement already satisfied: typing in c:\\sources\\python311\\lib\\site-packages (from plot) (3.7.4.3)\n",
            "Requirement already satisfied: numpy in c:\\sources\\python311\\lib\\site-packages (from plot) (1.24.1)\n",
            "Requirement already satisfied: scipy in c:\\sources\\python311\\lib\\site-packages (from plot) (1.11.2)\n",
            "Requirement already satisfied: pyyaml in c:\\sources\\python311\\lib\\site-packages (from plot) (6.0.1)\n",
            "Requirement already satisfied: contourpy>=1.0.1 in c:\\sources\\python311\\lib\\site-packages (from matplotlib->plot) (1.1.0)\n",
            "Requirement already satisfied: cycler>=0.10 in c:\\sources\\python311\\lib\\site-packages (from matplotlib->plot) (0.11.0)\n",
            "Requirement already satisfied: fonttools>=4.22.0 in c:\\sources\\python311\\lib\\site-packages (from matplotlib->plot) (4.41.1)\n",
            "Requirement already satisfied: kiwisolver>=1.0.1 in c:\\sources\\python311\\lib\\site-packages (from matplotlib->plot) (1.4.4)\n",
            "Requirement already satisfied: packaging>=20.0 in c:\\sources\\python311\\lib\\site-packages (from matplotlib->plot) (23.1)\n",
            "Requirement already satisfied: pillow>=6.2.0 in c:\\sources\\python311\\lib\\site-packages (from matplotlib->plot) (9.3.0)\n",
            "Requirement already satisfied: pyparsing<3.1,>=2.3.1 in c:\\sources\\python311\\lib\\site-packages (from matplotlib->plot) (3.0.9)\n",
            "Requirement already satisfied: python-dateutil>=2.7 in c:\\sources\\python311\\lib\\site-packages (from matplotlib->plot) (2.8.2)\n",
            "Requirement already satisfied: six>=1.5 in c:\\sources\\python311\\lib\\site-packages (from python-dateutil>=2.7->matplotlib->plot) (1.16.0)\n"
          ]
        },
        {
          "name": "stderr",
          "output_type": "stream",
          "text": [
            "\n",
            "[notice] A new release of pip is available: 23.3.2 -> 24.0\n",
            "[notice] To update, run: python.exe -m pip install --upgrade pip\n"
          ]
        },
        {
          "name": "stdout",
          "output_type": "stream",
          "text": [
            "Requirement already satisfied: numpy in c:\\sources\\python311\\lib\\site-packages (1.24.1)\n"
          ]
        },
        {
          "name": "stderr",
          "output_type": "stream",
          "text": [
            "\n",
            "[notice] A new release of pip is available: 23.3.2 -> 24.0\n",
            "[notice] To update, run: python.exe -m pip install --upgrade pip\n"
          ]
        }
      ],
      "source": [
        "!pip install torchattacks\n",
        "!pip install pandas\n",
        "!pip install openpyxl\n",
        "!pip install numpy\n",
        "!pip install plot \n",
        "!pip install numpy"
      ]
    },
    {
      "cell_type": "code",
      "execution_count": 2,
      "metadata": {
        "id": "7TSKaIVFvIoy"
      },
      "outputs": [],
      "source": [
        "import torch\n",
        "import torch.nn as nn\n",
        "import torchvision\n",
        "import torchattacks\n",
        "from torch.optim import lr_scheduler\n",
        "import time\n",
        "import pandas as pd"
      ]
    },
    {
      "cell_type": "code",
      "execution_count": 3,
      "metadata": {},
      "outputs": [
        {
          "name": "stderr",
          "output_type": "stream",
          "text": [
            "c:\\Sources\\Python311\\Lib\\site-packages\\torchvision\\datapoints\\__init__.py:12: UserWarning: The torchvision.datapoints and torchvision.transforms.v2 namespaces are still Beta. While we do not expect major breaking changes, some APIs may still change according to user feedback. Please submit any feedback you may have in this issue: https://github.com/pytorch/vision/issues/6753, and you can also check out https://github.com/pytorch/vision/issues/7319 to learn more about the APIs that we suspect might involve future changes. You can silence this warning by calling torchvision.disable_beta_transforms_warning().\n",
            "  warnings.warn(_BETA_TRANSFORMS_WARNING)\n",
            "c:\\Sources\\Python311\\Lib\\site-packages\\torchvision\\transforms\\v2\\__init__.py:54: UserWarning: The torchvision.datapoints and torchvision.transforms.v2 namespaces are still Beta. While we do not expect major breaking changes, some APIs may still change according to user feedback. Please submit any feedback you may have in this issue: https://github.com/pytorch/vision/issues/6753, and you can also check out https://github.com/pytorch/vision/issues/7319 to learn more about the APIs that we suspect might involve future changes. You can silence this warning by calling torchvision.disable_beta_transforms_warning().\n",
            "  warnings.warn(_BETA_TRANSFORMS_WARNING)\n"
          ]
        }
      ],
      "source": [
        "import DefaultModel as Util\n",
        "import GTSRBModel as GTSRBModel\n",
        "import TestUtils"
      ]
    },
    {
      "cell_type": "code",
      "execution_count": 4,
      "metadata": {},
      "outputs": [
        {
          "name": "stderr",
          "output_type": "stream",
          "text": [
            "c:\\Sources\\Python311\\Lib\\site-packages\\torchvision\\transforms\\v2\\_deprecated.py:41: UserWarning: The transform `ToTensor()` is deprecated and will be removed in a future release. Instead, please use `transforms.Compose([transforms.ToImageTensor(), transforms.ConvertImageDtype()])`.\n",
            "  warnings.warn(\n"
          ]
        },
        {
          "name": "stdout",
          "output_type": "stream",
          "text": [
            "cuda\n",
            "50\n",
            "31367\n",
            "7842\n",
            "12630\n"
          ]
        }
      ],
      "source": [
        "Device = Util.HardwareIdentification()\n",
        "DimImage = 50\n",
        "TrainLoader,ValidationLoader, TestLoader = GTSRBModel.ImportData(1, DimImage)"
      ]
    },
    {
      "cell_type": "code",
      "execution_count": 12,
      "metadata": {
        "id": "hvTwOOQOvIo0"
      },
      "outputs": [],
      "source": [
        "EPOCHS = 5\n",
        "LEARNING_RATE = 0.0008\n",
        "INPUT_DIM = 3*DimImage*DimImage\n",
        "OUTPUT_DIM = 43\n",
        "Model = GTSRBModel.GTSRB_MODEL(INPUT_DIM,OUTPUT_DIM, Device).to(Device)\n",
        "\n",
        "optimizer = torch.optim.Adam(params=Model.parameters(),lr=LEARNING_RATE)\n",
        "lr_s = lr_scheduler.LinearLR(optimizer,start_factor=1.0,end_factor=0.5,total_iters=10)\n",
        "loss = nn.CrossEntropyLoss()"
      ]
    },
    {
      "cell_type": "code",
      "execution_count": 13,
      "metadata": {
        "colab": {
          "base_uri": "https://localhost:8080/"
        },
        "id": "JCwDziPOvIo0",
        "outputId": "f88975a0-7ad0-423a-f419-bf1849612466"
      },
      "outputs": [
        {
          "name": "stdout",
          "output_type": "stream",
          "text": [
            "training started ...\n"
          ]
        },
        {
          "name": "stderr",
          "output_type": "stream",
          "text": [
            "Epoch [0/5], Step [2/491], Learning Rate [0.0008], Loss [3.8259], Accuracy [0.0677]:   1%|\u001b[32m          \u001b[0m| 3/491 [00:15<42:14,  5.19s/it]\n"
          ]
        },
        {
          "ename": "KeyboardInterrupt",
          "evalue": "",
          "output_type": "error",
          "traceback": [
            "\u001b[1;31m---------------------------------------------------------------------------\u001b[0m",
            "\u001b[1;31mKeyboardInterrupt\u001b[0m                         Traceback (most recent call last)",
            "Cell \u001b[1;32mIn[13], line 2\u001b[0m\n\u001b[0;32m      1\u001b[0m \u001b[38;5;66;03m#%%script false --no-raise-error\u001b[39;00m\n\u001b[1;32m----> 2\u001b[0m \u001b[43mModel\u001b[49m\u001b[38;5;241;43m.\u001b[39;49m\u001b[43mcompile\u001b[49m\u001b[43m(\u001b[49m\u001b[43mtrain_data\u001b[49m\u001b[38;5;241;43m=\u001b[39;49m\u001b[43mTrainLoader\u001b[49m\u001b[43m,\u001b[49m\u001b[43mvalidation_data\u001b[49m\u001b[38;5;241;43m=\u001b[39;49m\u001b[43mValidationLoader\u001b[49m\u001b[43m,\u001b[49m\u001b[43mepochs\u001b[49m\u001b[38;5;241;43m=\u001b[39;49m\u001b[43mEPOCHS\u001b[49m\u001b[43m,\u001b[49m\u001b[43mloss_function\u001b[49m\u001b[38;5;241;43m=\u001b[39;49m\u001b[43mloss\u001b[49m\u001b[43m,\u001b[49m\u001b[43moptimizer\u001b[49m\u001b[38;5;241;43m=\u001b[39;49m\u001b[43moptimizer\u001b[49m\u001b[43m,\u001b[49m\u001b[43mlearning_rate_scheduler\u001b[49m\u001b[38;5;241;43m=\u001b[39;49m\u001b[43mlr_s\u001b[49m\u001b[43m)\u001b[49m\n\u001b[0;32m      3\u001b[0m ModelPath \u001b[38;5;241m=\u001b[39m \u001b[38;5;124m'\u001b[39m\u001b[38;5;124mModels\u001b[39m\u001b[38;5;130;01m\\\\\u001b[39;00m\u001b[38;5;124mModelSignal.torch\u001b[39m\u001b[38;5;124m'\u001b[39m\n\u001b[0;32m      4\u001b[0m torch\u001b[38;5;241m.\u001b[39msave(Model\u001b[38;5;241m.\u001b[39mstate_dict(), ModelPath)\n",
            "File \u001b[1;32mc:\\Users\\pfmai\\Desktop\\L0_Attack\\GTSRBModel.py:204\u001b[0m, in \u001b[0;36mGTSRB_MODEL.compile\u001b[1;34m(self, train_data, validation_data, epochs, loss_function, optimizer, learning_rate_scheduler)\u001b[0m\n\u001b[0;32m    201\u001b[0m prediction \u001b[38;5;241m=\u001b[39m \u001b[38;5;28mself\u001b[39m\u001b[38;5;241m.\u001b[39mforward(\u001b[38;5;28minput\u001b[39m)\n\u001b[0;32m    203\u001b[0m _, predicted \u001b[38;5;241m=\u001b[39m torch\u001b[38;5;241m.\u001b[39mmax(prediction, \u001b[38;5;241m1\u001b[39m)\n\u001b[1;32m--> 204\u001b[0m correct_predictions \u001b[38;5;241m+\u001b[39m\u001b[38;5;241m=\u001b[39m \u001b[43m(\u001b[49m\u001b[43mpredicted\u001b[49m\u001b[43m \u001b[49m\u001b[38;5;241;43m==\u001b[39;49m\u001b[43m \u001b[49m\u001b[43mlabel\u001b[49m\u001b[43m)\u001b[49m\u001b[38;5;241;43m.\u001b[39;49m\u001b[43msum\u001b[49m\u001b[43m(\u001b[49m\u001b[43m)\u001b[49m\u001b[38;5;241;43m.\u001b[39;49m\u001b[43mitem\u001b[49m\u001b[43m(\u001b[49m\u001b[43m)\u001b[49m\n\u001b[0;32m    205\u001b[0m total_examples \u001b[38;5;241m+\u001b[39m\u001b[38;5;241m=\u001b[39m label\u001b[38;5;241m.\u001b[39msize(\u001b[38;5;241m0\u001b[39m)\n\u001b[0;32m    206\u001b[0m l \u001b[38;5;241m=\u001b[39m loss_function(prediction,label)\n",
            "\u001b[1;31mKeyboardInterrupt\u001b[0m: "
          ]
        }
      ],
      "source": [
        "#%%script false --no-raise-error\n",
        "Model.compile(train_data=TrainLoader,validation_data=ValidationLoader,epochs=EPOCHS,loss_function=loss,optimizer=optimizer,learning_rate_scheduler=lr_s)\n",
        "ModelPath = 'Models\\\\ModelSignal.torch'\n",
        "torch.save(Model.state_dict(), ModelPath)"
      ]
    },
    {
      "cell_type": "code",
      "execution_count": 7,
      "metadata": {},
      "outputs": [
        {
          "data": {
            "text/plain": [
              "<All keys matched successfully>"
            ]
          },
          "execution_count": 7,
          "metadata": {},
          "output_type": "execute_result"
        }
      ],
      "source": [
        "Model.load_state_dict(torch.load('Models\\\\ModelSignal.torch'))"
      ]
    },
    {
      "cell_type": "code",
      "execution_count": 8,
      "metadata": {},
      "outputs": [
        {
          "name": "stdout",
          "output_type": "stream",
          "text": [
            "Accuracy: 48.88%\n"
          ]
        }
      ],
      "source": [
        "Util.TestLoop(TestLoader, Model, Device)\n",
        "X, y = next(iter(TestLoader))"
      ]
    },
    {
      "cell_type": "code",
      "execution_count": 9,
      "metadata": {},
      "outputs": [
        {
          "name": "stdout",
          "output_type": "stream",
          "text": [
            "0 0.0 0.0 4 5 1000 2 0.2 16 42 42 10\n",
            "0 0.0 0.0 4 5 666.6666666666666 2 0.2 16 42 42 10\n",
            "0 0.0 0.0 4 5 444.4444444444444 2 0.2 16 42 42 10\n",
            "0 0.0 0.0 4 5 296.29629629629625 2 0.2 16 42 42 10\n",
            "0 0.0 0.0 4 5 197.53086419753083 2 0.2 16 42 42 10\n",
            "0 0.0 0.0 4 5 131.68724279835388 2 0.2 16 42 42 10\n",
            "0 0.0 0.0 4 5 87.79149519890258 2 0.2 16 42 42 10\n",
            "0 0.0 0.0 4 5 58.527663465935056 2 0.2 16 42 42 10\n",
            "0 0.0 0.0 4 5 39.01844231062337 2 0.2 16 42 42 10\n",
            "0 0.0 0.0 4 5 26.012294873748914 2 0.2 16 42 42 10\n",
            "0 0.0 0.0 4 5 17.34152991583261 2 0.2 16 42 42 10\n",
            "0 0.0 0.0 4 5 11.561019943888406 2 0.2 16 42 42 10\n",
            "0 0.0 0.0 4 5 7.707346629258937 2 0.2 16 42 42 10\n",
            "0 0.0 0.0 4 5 5.138231086172625 2 0.2 16 42 42 10\n",
            "0 0.0 0.0 4 5 3.42548739078175 2 0.2 16 42 42 10\n",
            "0 0.0 0.0 4 5 2.283658260521167 2 0.2 16 42 42 10\n",
            "0 0.0 0.0 4 5 1.5224388403474445 2 0.2 16 42 42 10\n",
            "0 0.0 0.0 4 5 1.0149592268982963 2 0.2 16 42 42 10\n",
            "0 0.0 0.0 4 5 0.6766394845988642 2 0.2 16 42 42 10\n",
            "0 0.0 0.0 4 5 0.45109298973257617 2 0.2 16 42 42 10\n",
            "0 0.0 0.0 4 5 0.3007286598217174 2 0.2 16 42 42 10\n",
            "0 0.0 0.0 4 5 0.20048577321447827 2 0.2 16 42 42 10\n",
            "0 0.0 0.0 4 5 0.13365718214298553 2 0.2 16 42 42 10\n",
            "[[0, array(0., dtype=float32), array(0., dtype=float32), 4, 5, 2, 1000, 0.2, 16, 42, 42, 10]]\n"
          ]
        }
      ],
      "source": [
        "Coef=5\n",
        "Activation=4\n",
        "Prob = 2\n",
        "Similarity = 0.2\n",
        "Init=0\n",
        "lr = 0.2\n",
        "Steps = 100\n",
        "\n",
        "data = []\n",
        "start_time = time.time()\n",
        "data = TestUtils.TestLoopC(Model, Steps, lr, Coef, Activation, Prob, Similarity, Init, X, y, Device, 1000, 0.1, 1.5)\n",
        "end_time = time.time()\n",
        "\n",
        "TestUtils.SaveTime(start_time, end_time, \"Results\\\\GTSRB\\\\ComputationTimeResults.txt\")\n",
        "TestUtils.SaveData(data, \"Results\\\\GTSRB\\\\Results.xlsx\")"
      ]
    },
    {
      "cell_type": "code",
      "execution_count": 10,
      "metadata": {},
      "outputs": [],
      "source": [
        "TestUtils.SaveImages(\"Results\\\\GTSRB\\\\InitialImages\\\\\", X, y)"
      ]
    },
    {
      "cell_type": "code",
      "execution_count": 11,
      "metadata": {},
      "outputs": [
        {
          "name": "stdout",
          "output_type": "stream",
          "text": [
            "0 0.0 0.0 4 5 1000 2 0.2 16 42 42 10\n",
            "0 0.0 0.0 4 5 666.6666666666666 2 0.2 16 42 42 10\n",
            "0 0.0 0.0 4 5 444.4444444444444 2 0.2 16 42 42 10\n",
            "0 0.0 0.0 4 5 296.29629629629625 2 0.2 16 42 42 10\n",
            "0 0.0 0.0 4 5 197.53086419753083 2 0.2 16 42 42 10\n",
            "0 0.0 0.0 4 5 131.68724279835388 2 0.2 16 42 42 10\n",
            "0 0.0 0.0 4 5 87.79149519890258 2 0.2 16 42 42 10\n",
            "0 0.0 0.0 4 5 58.527663465935056 2 0.2 16 42 42 10\n",
            "0 0.0 0.0 4 5 39.01844231062337 2 0.2 16 42 42 10\n",
            "0 0.0 0.0 4 5 26.012294873748914 2 0.2 16 42 42 10\n",
            "0 0.0 0.0 4 5 17.34152991583261 2 0.2 16 42 42 10\n",
            "0 0.0 0.0 4 5 11.561019943888406 2 0.2 16 42 42 10\n",
            "0 0.0 0.0 4 5 7.707346629258937 2 0.2 16 42 42 10\n",
            "0 0.0 0.0 4 5 5.138231086172625 2 0.2 16 42 42 10\n",
            "0 0.0 0.0 4 5 3.42548739078175 2 0.2 16 42 42 10\n",
            "0 0.0 0.0 4 5 2.283658260521167 2 0.2 16 42 42 10\n",
            "0 0.0 0.0 4 5 1.5224388403474445 2 0.2 16 42 42 10\n",
            "0 0.0 0.0 4 5 1.0149592268982963 2 0.2 16 42 42 10\n",
            "0 0.0 0.0 4 5 0.6766394845988642 2 0.2 16 42 42 10\n"
          ]
        },
        {
          "ename": "KeyboardInterrupt",
          "evalue": "",
          "output_type": "error",
          "traceback": [
            "\u001b[1;31m---------------------------------------------------------------------------\u001b[0m",
            "\u001b[1;31mKeyboardInterrupt\u001b[0m                         Traceback (most recent call last)",
            "Cell \u001b[1;32mIn[11], line 9\u001b[0m\n\u001b[0;32m      6\u001b[0m lr \u001b[38;5;241m=\u001b[39m \u001b[38;5;241m0.2\u001b[39m\n\u001b[0;32m      7\u001b[0m Steps \u001b[38;5;241m=\u001b[39m \u001b[38;5;241m100\u001b[39m\n\u001b[1;32m----> 9\u001b[0m \u001b[43mTestUtils\u001b[49m\u001b[38;5;241;43m.\u001b[39;49m\u001b[43mSaveLoopC\u001b[49m\u001b[43m(\u001b[49m\u001b[43mModel\u001b[49m\u001b[43m,\u001b[49m\u001b[43m \u001b[49m\u001b[43mSteps\u001b[49m\u001b[43m,\u001b[49m\u001b[43m \u001b[49m\u001b[43mlr\u001b[49m\u001b[43m,\u001b[49m\u001b[43m \u001b[49m\u001b[43mCoef\u001b[49m\u001b[43m,\u001b[49m\u001b[43m \u001b[49m\u001b[43mActivation\u001b[49m\u001b[43m,\u001b[49m\u001b[43m \u001b[49m\u001b[43mProb\u001b[49m\u001b[43m,\u001b[49m\u001b[43m \u001b[49m\u001b[43mSimilarity\u001b[49m\u001b[43m,\u001b[49m\u001b[43m \u001b[49m\u001b[43mInit\u001b[49m\u001b[43m,\u001b[49m\u001b[43m \u001b[49m\u001b[43mX\u001b[49m\u001b[43m,\u001b[49m\u001b[43m \u001b[49m\u001b[43my\u001b[49m\u001b[43m,\u001b[49m\u001b[43m \u001b[49m\u001b[43mDevice\u001b[49m\u001b[43m,\u001b[49m\u001b[43m \u001b[49m\u001b[38;5;241;43m1000\u001b[39;49m\u001b[43m,\u001b[49m\u001b[43m \u001b[49m\u001b[38;5;241;43m0.1\u001b[39;49m\u001b[43m,\u001b[49m\u001b[43m \u001b[49m\u001b[38;5;241;43m1.5\u001b[39;49m\u001b[43m,\u001b[49m\u001b[43m \u001b[49m\u001b[38;5;124;43m\"\u001b[39;49m\u001b[38;5;124;43mResults\u001b[39;49m\u001b[38;5;130;43;01m\\\\\u001b[39;49;00m\u001b[38;5;124;43mGTSRB\u001b[39;49m\u001b[38;5;130;43;01m\\\\\u001b[39;49;00m\u001b[38;5;124;43mImages\u001b[39;49m\u001b[38;5;130;43;01m\\\\\u001b[39;49;00m\u001b[38;5;124;43m\"\u001b[39;49m\u001b[43m)\u001b[49m\n",
            "File \u001b[1;32mc:\\Users\\pfmai\\Desktop\\L0_Attack\\TestUtils.py:112\u001b[0m, in \u001b[0;36mSaveLoopC\u001b[1;34m(Model, steps, lr, Coef, Activation, P, S, Init, X, y, Device, Start, End, Factor, MyPath)\u001b[0m\n\u001b[0;32m    110\u001b[0m C \u001b[38;5;241m=\u001b[39m Start\n\u001b[0;32m    111\u001b[0m \u001b[38;5;28;01mwhile\u001b[39;00m(C \u001b[38;5;241m>\u001b[39m End):\n\u001b[1;32m--> 112\u001b[0m     Norms, Images \u001b[38;5;241m=\u001b[39m \u001b[43mAttackNorms\u001b[49m\u001b[43m(\u001b[49m\u001b[43mModel\u001b[49m\u001b[43m,\u001b[49m\u001b[43m \u001b[49m\u001b[43mC\u001b[49m\u001b[43m,\u001b[49m\u001b[43m \u001b[49m\u001b[43msteps\u001b[49m\u001b[43m,\u001b[49m\u001b[43m \u001b[49m\u001b[43mlr\u001b[49m\u001b[43m,\u001b[49m\u001b[43m \u001b[49m\u001b[43mCoef\u001b[49m\u001b[43m,\u001b[49m\u001b[43m \u001b[49m\u001b[43mActivation\u001b[49m\u001b[43m,\u001b[49m\u001b[43m \u001b[49m\u001b[43mP\u001b[49m\u001b[43m,\u001b[49m\u001b[43m \u001b[49m\u001b[43mS\u001b[49m\u001b[43m,\u001b[49m\u001b[43m \u001b[49m\u001b[43mInit\u001b[49m\u001b[43m,\u001b[49m\u001b[43m \u001b[49m\u001b[43mX\u001b[49m\u001b[43m,\u001b[49m\u001b[43m \u001b[49m\u001b[43my\u001b[49m\u001b[43m,\u001b[49m\u001b[43m \u001b[49m\u001b[43mDevice\u001b[49m\u001b[43m)\u001b[49m\n\u001b[0;32m    113\u001b[0m     \u001b[38;5;28;01mif\u001b[39;00m NormsData \u001b[38;5;241m==\u001b[39m []:\n\u001b[0;32m    114\u001b[0m         NormsData \u001b[38;5;241m=\u001b[39m Norms\n",
            "File \u001b[1;32mc:\\Users\\pfmai\\Desktop\\L0_Attack\\TestUtils.py:35\u001b[0m, in \u001b[0;36mAttackNorms\u001b[1;34m(Model, C, steps, lr, Coef, Activation, P, S, Init, X, y, Device)\u001b[0m\n\u001b[0;32m     33\u001b[0m Images \u001b[38;5;241m=\u001b[39m []\n\u001b[0;32m     34\u001b[0m atk \u001b[38;5;241m=\u001b[39m Maillard\u001b[38;5;241m.\u001b[39mPFM(Model, c\u001b[38;5;241m=\u001b[39mC, steps\u001b[38;5;241m=\u001b[39msteps, lr\u001b[38;5;241m=\u001b[39mlr, Coef\u001b[38;5;241m=\u001b[39mCoef, Activation\u001b[38;5;241m=\u001b[39mActivation, Prob \u001b[38;5;241m=\u001b[39m P, Similarity \u001b[38;5;241m=\u001b[39m S, Init\u001b[38;5;241m=\u001b[39mInit)\n\u001b[1;32m---> 35\u001b[0m AdvPFM \u001b[38;5;241m=\u001b[39m \u001b[43matk\u001b[49m\u001b[43m(\u001b[49m\u001b[43mX\u001b[49m\u001b[43m,\u001b[49m\u001b[43m \u001b[49m\u001b[43my\u001b[49m\u001b[43m)\u001b[49m\n\u001b[0;32m     36\u001b[0m \u001b[38;5;28;01mfor\u001b[39;00m idx \u001b[38;5;129;01min\u001b[39;00m \u001b[38;5;28mrange\u001b[39m(\u001b[38;5;28mlen\u001b[39m(X)):\n\u001b[0;32m     37\u001b[0m     TPred \u001b[38;5;241m=\u001b[39m y[idx:idx\u001b[38;5;241m+\u001b[39m\u001b[38;5;241m1\u001b[39m]\n",
            "File \u001b[1;32mc:\\Users\\pfmai\\Desktop\\L0_Attack\\Maillard.py:474\u001b[0m, in \u001b[0;36mAttack.__call__\u001b[1;34m(self, images, labels, *args, **kwargs)\u001b[0m\n\u001b[0;32m    472\u001b[0m \u001b[38;5;28mself\u001b[39m\u001b[38;5;241m.\u001b[39m_change_model_mode(given_training)\n\u001b[0;32m    473\u001b[0m images \u001b[38;5;241m=\u001b[39m \u001b[38;5;28mself\u001b[39m\u001b[38;5;241m.\u001b[39m_check_inputs(images)\n\u001b[1;32m--> 474\u001b[0m adv_images \u001b[38;5;241m=\u001b[39m \u001b[38;5;28;43mself\u001b[39;49m\u001b[38;5;241;43m.\u001b[39;49m\u001b[43mforward\u001b[49m\u001b[43m(\u001b[49m\u001b[43mimages\u001b[49m\u001b[43m,\u001b[49m\u001b[43m \u001b[49m\u001b[43mlabels\u001b[49m\u001b[43m,\u001b[49m\u001b[43m \u001b[49m\u001b[38;5;241;43m*\u001b[39;49m\u001b[43margs\u001b[49m\u001b[43m,\u001b[49m\u001b[43m \u001b[49m\u001b[38;5;241;43m*\u001b[39;49m\u001b[38;5;241;43m*\u001b[39;49m\u001b[43mkwargs\u001b[49m\u001b[43m)\u001b[49m\n\u001b[0;32m    475\u001b[0m adv_images \u001b[38;5;241m=\u001b[39m \u001b[38;5;28mself\u001b[39m\u001b[38;5;241m.\u001b[39m_check_outputs(adv_images)\n\u001b[0;32m    476\u001b[0m \u001b[38;5;28mself\u001b[39m\u001b[38;5;241m.\u001b[39m_recover_model_mode(given_training)\n",
            "File \u001b[1;32mc:\\Users\\pfmai\\Desktop\\L0_Attack\\Maillard.py:661\u001b[0m, in \u001b[0;36mPFM.forward\u001b[1;34m(self, images, labels)\u001b[0m\n\u001b[0;32m    658\u001b[0m cost \u001b[38;5;241m=\u001b[39m L2_loss \u001b[38;5;241m+\u001b[39m \u001b[38;5;28mself\u001b[39m\u001b[38;5;241m.\u001b[39mc\u001b[38;5;241m*\u001b[39mf_loss\n\u001b[0;32m    660\u001b[0m optimizer\u001b[38;5;241m.\u001b[39mzero_grad()\n\u001b[1;32m--> 661\u001b[0m \u001b[43mcost\u001b[49m\u001b[38;5;241;43m.\u001b[39;49m\u001b[43mbackward\u001b[49m\u001b[43m(\u001b[49m\u001b[43m)\u001b[49m\n\u001b[0;32m    662\u001b[0m optimizer\u001b[38;5;241m.\u001b[39mstep()\n\u001b[0;32m    664\u001b[0m \u001b[38;5;66;03m# Update adversarial images\u001b[39;00m\n",
            "File \u001b[1;32mc:\\Sources\\Python311\\Lib\\site-packages\\torch\\_tensor.py:487\u001b[0m, in \u001b[0;36mTensor.backward\u001b[1;34m(self, gradient, retain_graph, create_graph, inputs)\u001b[0m\n\u001b[0;32m    477\u001b[0m \u001b[38;5;28;01mif\u001b[39;00m has_torch_function_unary(\u001b[38;5;28mself\u001b[39m):\n\u001b[0;32m    478\u001b[0m     \u001b[38;5;28;01mreturn\u001b[39;00m handle_torch_function(\n\u001b[0;32m    479\u001b[0m         Tensor\u001b[38;5;241m.\u001b[39mbackward,\n\u001b[0;32m    480\u001b[0m         (\u001b[38;5;28mself\u001b[39m,),\n\u001b[1;32m   (...)\u001b[0m\n\u001b[0;32m    485\u001b[0m         inputs\u001b[38;5;241m=\u001b[39minputs,\n\u001b[0;32m    486\u001b[0m     )\n\u001b[1;32m--> 487\u001b[0m \u001b[43mtorch\u001b[49m\u001b[38;5;241;43m.\u001b[39;49m\u001b[43mautograd\u001b[49m\u001b[38;5;241;43m.\u001b[39;49m\u001b[43mbackward\u001b[49m\u001b[43m(\u001b[49m\n\u001b[0;32m    488\u001b[0m \u001b[43m    \u001b[49m\u001b[38;5;28;43mself\u001b[39;49m\u001b[43m,\u001b[49m\u001b[43m \u001b[49m\u001b[43mgradient\u001b[49m\u001b[43m,\u001b[49m\u001b[43m \u001b[49m\u001b[43mretain_graph\u001b[49m\u001b[43m,\u001b[49m\u001b[43m \u001b[49m\u001b[43mcreate_graph\u001b[49m\u001b[43m,\u001b[49m\u001b[43m \u001b[49m\u001b[43minputs\u001b[49m\u001b[38;5;241;43m=\u001b[39;49m\u001b[43minputs\u001b[49m\n\u001b[0;32m    489\u001b[0m \u001b[43m\u001b[49m\u001b[43m)\u001b[49m\n",
            "File \u001b[1;32mc:\\Sources\\Python311\\Lib\\site-packages\\torch\\autograd\\__init__.py:200\u001b[0m, in \u001b[0;36mbackward\u001b[1;34m(tensors, grad_tensors, retain_graph, create_graph, grad_variables, inputs)\u001b[0m\n\u001b[0;32m    195\u001b[0m     retain_graph \u001b[38;5;241m=\u001b[39m create_graph\n\u001b[0;32m    197\u001b[0m \u001b[38;5;66;03m# The reason we repeat same the comment below is that\u001b[39;00m\n\u001b[0;32m    198\u001b[0m \u001b[38;5;66;03m# some Python versions print out the first line of a multi-line function\u001b[39;00m\n\u001b[0;32m    199\u001b[0m \u001b[38;5;66;03m# calls in the traceback and some print out the last line\u001b[39;00m\n\u001b[1;32m--> 200\u001b[0m \u001b[43mVariable\u001b[49m\u001b[38;5;241;43m.\u001b[39;49m\u001b[43m_execution_engine\u001b[49m\u001b[38;5;241;43m.\u001b[39;49m\u001b[43mrun_backward\u001b[49m\u001b[43m(\u001b[49m\u001b[43m  \u001b[49m\u001b[38;5;66;43;03m# Calls into the C++ engine to run the backward pass\u001b[39;49;00m\n\u001b[0;32m    201\u001b[0m \u001b[43m    \u001b[49m\u001b[43mtensors\u001b[49m\u001b[43m,\u001b[49m\u001b[43m \u001b[49m\u001b[43mgrad_tensors_\u001b[49m\u001b[43m,\u001b[49m\u001b[43m \u001b[49m\u001b[43mretain_graph\u001b[49m\u001b[43m,\u001b[49m\u001b[43m \u001b[49m\u001b[43mcreate_graph\u001b[49m\u001b[43m,\u001b[49m\u001b[43m \u001b[49m\u001b[43minputs\u001b[49m\u001b[43m,\u001b[49m\n\u001b[0;32m    202\u001b[0m \u001b[43m    \u001b[49m\u001b[43mallow_unreachable\u001b[49m\u001b[38;5;241;43m=\u001b[39;49m\u001b[38;5;28;43;01mTrue\u001b[39;49;00m\u001b[43m,\u001b[49m\u001b[43m \u001b[49m\u001b[43maccumulate_grad\u001b[49m\u001b[38;5;241;43m=\u001b[39;49m\u001b[38;5;28;43;01mTrue\u001b[39;49;00m\u001b[43m)\u001b[49m\n",
            "\u001b[1;31mKeyboardInterrupt\u001b[0m: "
          ]
        }
      ],
      "source": [
        "Coef=5\n",
        "Activation=4\n",
        "Prob = 2\n",
        "Similarity = 0.2\n",
        "Init=0\n",
        "lr = 0.2\n",
        "Steps = 10000\n",
        "\n",
        "TestUtils.SaveLoopC(Model, Steps, lr, Coef, Activation, Prob, Similarity, Init, X, y, Device, 1000, 0.1, 1.5, \"Results\\\\GTSRB\\\\Images\\\\\")"
      ]
    },
    {
      "cell_type": "code",
      "execution_count": null,
      "metadata": {},
      "outputs": [
        {
          "name": "stdout",
          "output_type": "stream",
          "text": [
            "0 0.0 0.0 4 5 1000 2 0.2 16 16 16 16\n",
            "0 0.0 0.0 4 5 1000 2 0.2 1 1 1 1\n",
            "0 0.0 0.0 4 5 666.6666666666666 2 0.2 16 16 16 16\n",
            "0 0.0 0.0 4 5 666.6666666666666 2 0.2 1 1 1 1\n",
            "4074 15.420169 0.28282496 4 5 444.4444444444444 2 0.2 16 16 40 16\n",
            "2508 13.061081 0.35559306 4 5 444.4444444444444 2 0.2 1 1 21 1\n",
            "0 0.0 0.0 4 5 296.29629629629625 2 0.2 16 16 16 16\n",
            "932 6.9787984 0.26837155 4 5 296.29629629629625 2 0.2 1 1 21 1\n",
            "0 0.0 0.0 4 5 197.53086419753083 2 0.2 16 16 16 16\n",
            "0 0.0 0.0 4 5 197.53086419753083 2 0.2 1 1 1 1\n",
            "0 0.0 0.0 4 5 131.68724279835388 2 0.2 16 16 16 16\n",
            "0 0.0 0.0 4 5 131.68724279835388 2 0.2 1 1 1 1\n",
            "0 0.0 0.0 4 5 87.79149519890258 2 0.2 16 16 16 16\n",
            "0 0.0 0.0 4 5 87.79149519890258 2 0.2 1 1 1 1\n",
            "0 0.0 0.0 4 5 58.527663465935056 2 0.2 16 16 16 16\n",
            "0 0.0 0.0 4 5 58.527663465935056 2 0.2 1 1 1 1\n",
            "0 0.0 0.0 4 5 39.01844231062337 2 0.2 16 16 16 16\n",
            "0 0.0 0.0 4 5 39.01844231062337 2 0.2 1 1 1 1\n",
            "0 0.0 0.0 4 5 26.012294873748914 2 0.2 16 16 16 16\n",
            "0 0.0 0.0 4 5 26.012294873748914 2 0.2 1 1 1 1\n",
            "0 0.0 0.0 4 5 17.34152991583261 2 0.2 16 16 16 16\n",
            "0 0.0 0.0 4 5 17.34152991583261 2 0.2 1 1 1 1\n",
            "0 0.0 0.0 4 5 11.561019943888406 2 0.2 16 16 16 16\n",
            "0 0.0 0.0 4 5 11.561019943888406 2 0.2 1 1 1 1\n",
            "0 0.0 0.0 4 5 7.707346629258937 2 0.2 16 16 16 16\n",
            "0 0.0 0.0 4 5 7.707346629258937 2 0.2 1 1 1 1\n",
            "0 0.0 0.0 4 5 5.138231086172625 2 0.2 16 16 16 16\n",
            "0 0.0 0.0 4 5 5.138231086172625 2 0.2 1 1 1 1\n",
            "0 0.0 0.0 4 5 3.42548739078175 2 0.2 16 16 16 16\n",
            "0 0.0 0.0 4 5 3.42548739078175 2 0.2 1 1 1 1\n",
            "0 0.0 0.0 4 5 2.283658260521167 2 0.2 16 16 16 16\n",
            "0 0.0 0.0 4 5 2.283658260521167 2 0.2 1 1 1 1\n",
            "0 0.0 0.0 4 5 1.5224388403474445 2 0.2 16 16 16 16\n",
            "0 0.0 0.0 4 5 1.5224388403474445 2 0.2 1 1 1 1\n",
            "0 0.0 0.0 4 5 1.0149592268982963 2 0.2 16 16 16 16\n",
            "0 0.0 0.0 4 5 1.0149592268982963 2 0.2 1 1 1 1\n",
            "0 0.0 0.0 4 5 0.6766394845988642 2 0.2 16 16 16 16\n",
            "0 0.0 0.0 4 5 0.6766394845988642 2 0.2 1 1 1 1\n",
            "0 0.0 0.0 4 5 0.45109298973257617 2 0.2 16 16 16 16\n",
            "0 0.0 0.0 4 5 0.45109298973257617 2 0.2 1 1 1 1\n",
            "0 0.0 0.0 4 5 0.3007286598217174 2 0.2 16 16 16 16\n",
            "0 0.0 0.0 4 5 0.3007286598217174 2 0.2 1 1 1 1\n",
            "0 0.0 0.0 4 5 0.20048577321447827 2 0.2 16 16 16 16\n",
            "0 0.0 0.0 4 5 0.20048577321447827 2 0.2 1 1 1 1\n",
            "0 0.0 0.0 4 5 0.13365718214298553 2 0.2 16 16 16 16\n",
            "0 0.0 0.0 4 5 0.13365718214298553 2 0.2 1 1 1 1\n",
            "[[0, array(0., dtype=float32), array(0., dtype=float32), 4, 5, 2, 1000, 0.2, 16, 16, 16, 16], [0, array(0., dtype=float32), array(0., dtype=float32), 4, 5, 2, 1000, 0.2, 1, 1, 1, 1]]\n",
            "612 7.315545 0.46566954 4 5 1000 2 0.2 16 16 20 16\n",
            "317 6.5954604 0.62307864 4 5 1000 2 0.2 1 1 5 1\n",
            "764 10.777282 0.613193 4 5 666.6666666666666 2 0.2 16 16 40 16\n",
            "205 6.441264 0.67430687 4 5 666.6666666666666 2 0.2 1 1 5 1\n",
            "684 9.570717 0.5993724 4 5 444.4444444444444 2 0.2 16 16 5 16\n",
            "237 5.235273 0.58614856 4 5 444.4444444444444 2 0.2 1 1 5 1\n",
            "267 6.486676 0.603809 4 5 296.29629629629625 2 0.2 16 16 40 16\n",
            "105 5.092656 0.6642556 4 5 296.29629629629625 2 0.2 1 1 5 1\n",
            "71 2.5664089 0.53370285 4 5 197.53086419753083 2 0.2 16 16 7 16\n",
            "64 3.875047 0.8720752 4 5 197.53086419753083 2 0.2 1 1 5 1\n",
            "78 2.5216427 0.47895285 4 5 131.68724279835388 2 0.2 16 16 7 16\n",
            "95 3.6142888 0.567103 4 5 131.68724279835388 2 0.2 1 1 5 1\n",
            "65 2.789744 0.5608884 4 5 87.79149519890258 2 0.2 16 16 7 16\n",
            "94 4.0413284 0.692341 4 5 87.79149519890258 2 0.2 1 1 5 1\n",
            "100 2.6510127 0.40217704 4 5 58.527663465935056 2 0.2 16 16 7 16\n",
            "67 3.1617608 0.6470803 4 5 58.527663465935056 2 0.2 1 1 5 1\n",
            "143 3.509875 0.4826576 4 5 39.01844231062337 2 0.2 16 16 41 16\n",
            "143 4.052901 0.56223786 4 5 39.01844231062337 2 0.2 1 1 5 1\n",
            "0 0.0 0.0 4 5 26.012294873748914 2 0.2 16 16 16 16\n",
            "109 3.383589 0.5666982 4 5 26.012294873748914 2 0.2 1 1 5 1\n",
            "36 2.5403047 0.678194 4 5 17.34152991583261 2 0.2 16 16 7 16\n",
            "30 3.19777 0.8962498 4 5 17.34152991583261 2 0.2 1 1 5 1\n",
            "0 0.0 0.0 4 5 11.561019943888406 2 0.2 16 16 16 16\n",
            "0 0.0 0.0 4 5 11.561019943888406 2 0.2 1 1 1 1\n",
            "598 5.3165026 0.31523448 4 5 7.707346629258937 2 0.2 16 16 40 16\n",
            "0 0.0 0.0 4 5 7.707346629258937 2 0.2 1 1 1 1\n",
            "1798 9.243098 0.26815286 4 5 5.138231086172625 2 0.2 16 16 20 16\n",
            "0 0.0 0.0 4 5 5.138231086172625 2 0.2 1 1 1 1\n",
            "0 0.0 0.0 4 5 3.42548739078175 2 0.2 16 16 16 16\n",
            "0 0.0 0.0 4 5 3.42548739078175 2 0.2 1 1 1 1\n",
            "0 0.0 0.0 4 5 2.283658260521167 2 0.2 16 16 16 16\n",
            "0 0.0 0.0 4 5 2.283658260521167 2 0.2 1 1 1 1\n",
            "0 0.0 0.0 4 5 1.5224388403474445 2 0.2 16 16 16 16\n",
            "0 0.0 0.0 4 5 1.5224388403474445 2 0.2 1 1 1 1\n",
            "0 0.0 0.0 4 5 1.0149592268982963 2 0.2 16 16 16 16\n",
            "0 0.0 0.0 4 5 1.0149592268982963 2 0.2 1 1 1 1\n",
            "0 0.0 0.0 4 5 0.6766394845988642 2 0.2 16 16 16 16\n",
            "0 0.0 0.0 4 5 0.6766394845988642 2 0.2 1 1 1 1\n",
            "0 0.0 0.0 4 5 0.45109298973257617 2 0.2 16 16 16 16\n",
            "0 0.0 0.0 4 5 0.45109298973257617 2 0.2 1 1 1 1\n",
            "0 0.0 0.0 4 5 0.3007286598217174 2 0.2 16 16 16 16\n",
            "0 0.0 0.0 4 5 0.3007286598217174 2 0.2 1 1 1 1\n",
            "0 0.0 0.0 4 5 0.20048577321447827 2 0.2 16 16 16 16\n",
            "0 0.0 0.0 4 5 0.20048577321447827 2 0.2 1 1 1 1\n",
            "0 0.0 0.0 4 5 0.13365718214298553 2 0.2 16 16 16 16\n",
            "0 0.0 0.0 4 5 0.13365718214298553 2 0.2 1 1 1 1\n",
            "[[36, array(2.5403047, dtype=float32), array(0.678194, dtype=float32), 4, 5, 2, 17.34152991583261, 0.2, 16, 16, 7, 16], [30, array(3.19777, dtype=float32), array(0.8962498, dtype=float32), 4, 5, 2, 17.34152991583261, 0.2, 1, 1, 5, 1]]\n"
          ]
        }
      ],
      "source": [
        "Coef=5\n",
        "Activation=4\n",
        "Prob = 2\n",
        "Similarity = 0.2\n",
        "Init=0\n",
        "lr = 0.2\n",
        "\n",
        "TestedIterations = [10, 100]\n",
        "\n",
        "for i in range((len(TestedIterations))):\n",
        "    data = []\n",
        "    start_time = time.time()\n",
        "    data = TestUtils.TestLoopC(Model, TestedIterations[i], lr, Coef, Activation, Prob, Similarity, Init, X, y, Device, 1000, 0.1, 1.5)\n",
        "    end_time = time.time()\n",
        "\n",
        "    TestUtils.SaveTime(start_time, end_time, \"Results\\\\GTSRB\\\\TimeXS\" + str(TestedIterations[i]) +\".txt\")\n",
        "    TestUtils.SaveData(data, \"Results\\\\GTSRB\\\\BestXS\" + str(TestedIterations[i]) + \".xlsx\")\n",
        "    "
      ]
    },
    {
      "cell_type": "code",
      "execution_count": null,
      "metadata": {},
      "outputs": [
        {
          "name": "stdout",
          "output_type": "stream",
          "text": [
            "4 1.8661683 0.99607843 0 0 0 0 0 16 15 7 15\n",
            "[[4, array(1.8661683, dtype=float32), array(0.99607843, dtype=float32), 0, 0, 0, 0, 0, 16, 15, 7, 15]]\n"
          ]
        }
      ],
      "source": [
        "dataJSMA = []\n",
        "\n",
        "start_time = time.time()\n",
        "Data = TestUtils.TestJSMA(1,1, Model, X, y, Device)\n",
        "end_time = time.time()\n",
        "\n",
        "TestUtils.SaveTime(start_time, end_time, \"Results\\\\GTSRB\\\\TimeJSMAS.txt\")\n",
        "TestUtils.SaveData(Data, \"Results\\\\GTSRB\\\\BestJSMAS.xlsx\")"
      ]
    },
    {
      "cell_type": "code",
      "execution_count": null,
      "metadata": {},
      "outputs": [
        {
          "name": "stdout",
          "output_type": "stream",
          "text": [
            "4 1.8661683 0.99607843 0 0 0 0 0 16 15 7 15\n"
          ]
        },
        {
          "data": {
            "text/plain": [
              "[[]]"
            ]
          },
          "execution_count": 17,
          "metadata": {},
          "output_type": "execute_result"
        }
      ],
      "source": [
        "TestUtils.SaveJSMA(1,1, Model, X, y, Device, \"Results\\\\GTSRB\\\\JSMAImages\\\\\")"
      ]
    }
  ],
  "metadata": {
    "accelerator": "GPU",
    "colab": {
      "gpuType": "T4",
      "provenance": []
    },
    "kernelspec": {
      "display_name": "Python 3 (ipykernel)",
      "language": "python",
      "name": "python3"
    },
    "language_info": {
      "codemirror_mode": {
        "name": "ipython",
        "version": 3
      },
      "file_extension": ".py",
      "mimetype": "text/x-python",
      "name": "python",
      "nbconvert_exporter": "python",
      "pygments_lexer": "ipython3",
      "version": "3.11.4"
    },
    "orig_nbformat": 4
  },
  "nbformat": 4,
  "nbformat_minor": 0
}
