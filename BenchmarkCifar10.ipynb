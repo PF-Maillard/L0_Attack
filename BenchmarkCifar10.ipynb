{
  "cells": [
    {
      "cell_type": "code",
      "execution_count": 1,
      "metadata": {},
      "outputs": [
        {
          "name": "stdout",
          "output_type": "stream",
          "text": [
            "Defaulting to user installation because normal site-packages is not writeable\n",
            "Requirement already satisfied: torchattacks in ./.local/lib/python3.10/site-packages (3.5.1)\n",
            "Requirement already satisfied: tqdm>=4.56.1 in ./.local/lib/python3.10/site-packages (from torchattacks) (4.66.1)\n",
            "Requirement already satisfied: torchvision>=0.8.2 in ./.local/lib/python3.10/site-packages (from torchattacks) (0.17.0.dev20230911+cu121)\n",
            "Requirement already satisfied: torch>=1.7.1 in ./.local/lib/python3.10/site-packages (from torchattacks) (2.2.0.dev20230911+cu121)\n",
            "Requirement already satisfied: numpy>=1.19.4 in ./.local/lib/python3.10/site-packages (from torchattacks) (1.24.1)\n",
            "Requirement already satisfied: scipy>=0.14.0 in ./.local/lib/python3.10/site-packages (from torchattacks) (1.11.2)\n",
            "Requirement already satisfied: requests~=2.25.1 in ./.local/lib/python3.10/site-packages (from torchattacks) (2.25.1)\n",
            "Requirement already satisfied: chardet<5,>=3.0.2 in /usr/lib/python3/dist-packages (from requests~=2.25.1->torchattacks) (4.0.0)\n",
            "Requirement already satisfied: idna<3,>=2.5 in ./.local/lib/python3.10/site-packages (from requests~=2.25.1->torchattacks) (2.10)\n",
            "Requirement already satisfied: certifi>=2017.4.17 in /usr/lib/python3/dist-packages (from requests~=2.25.1->torchattacks) (2020.6.20)\n",
            "Requirement already satisfied: urllib3<1.27,>=1.21.1 in /usr/lib/python3/dist-packages (from requests~=2.25.1->torchattacks) (1.26.5)\n",
            "Requirement already satisfied: sympy in ./.local/lib/python3.10/site-packages (from torch>=1.7.1->torchattacks) (1.11.1)\n",
            "Requirement already satisfied: filelock in ./.local/lib/python3.10/site-packages (from torch>=1.7.1->torchattacks) (3.9.0)\n",
            "Requirement already satisfied: networkx in ./.local/lib/python3.10/site-packages (from torch>=1.7.1->torchattacks) (3.0rc1)\n",
            "Requirement already satisfied: jinja2 in ./.local/lib/python3.10/site-packages (from torch>=1.7.1->torchattacks) (3.1.2)\n",
            "Requirement already satisfied: pytorch-triton==2.1.0+6e4932cda8 in ./.local/lib/python3.10/site-packages (from torch>=1.7.1->torchattacks) (2.1.0+6e4932cda8)\n",
            "Requirement already satisfied: fsspec in ./.local/lib/python3.10/site-packages (from torch>=1.7.1->torchattacks) (2023.4.0)\n",
            "Requirement already satisfied: typing-extensions in ./.local/lib/python3.10/site-packages (from torch>=1.7.1->torchattacks) (4.7.1)\n",
            "Requirement already satisfied: pillow!=8.3.*,>=5.3.0 in /usr/lib/python3/dist-packages (from torchvision>=0.8.2->torchattacks) (9.0.1)\n",
            "Requirement already satisfied: MarkupSafe>=2.0 in /usr/lib/python3/dist-packages (from jinja2->torch>=1.7.1->torchattacks) (2.0.1)\n",
            "Requirement already satisfied: mpmath>=0.19 in ./.local/lib/python3.10/site-packages (from sympy->torch>=1.7.1->torchattacks) (1.2.1)\n",
            "Defaulting to user installation because normal site-packages is not writeable\n",
            "Requirement already satisfied: pandas in ./.local/lib/python3.10/site-packages (2.1.4)\n",
            "Requirement already satisfied: pytz>=2020.1 in /usr/lib/python3/dist-packages (from pandas) (2022.1)\n",
            "Requirement already satisfied: numpy<2,>=1.22.4 in ./.local/lib/python3.10/site-packages (from pandas) (1.24.1)\n",
            "Requirement already satisfied: tzdata>=2022.1 in ./.local/lib/python3.10/site-packages (from pandas) (2023.4)\n",
            "Requirement already satisfied: python-dateutil>=2.8.2 in ./.local/lib/python3.10/site-packages (from pandas) (2.8.2)\n",
            "Requirement already satisfied: six>=1.5 in /usr/lib/python3/dist-packages (from python-dateutil>=2.8.2->pandas) (1.16.0)\n",
            "Defaulting to user installation because normal site-packages is not writeable\n",
            "Requirement already satisfied: openpyxl in ./.local/lib/python3.10/site-packages (3.1.2)\n",
            "Requirement already satisfied: et-xmlfile in ./.local/lib/python3.10/site-packages (from openpyxl) (1.1.0)\n",
            "Defaulting to user installation because normal site-packages is not writeable\n",
            "Requirement already satisfied: numpy in ./.local/lib/python3.10/site-packages (1.24.1)\n",
            "Defaulting to user installation because normal site-packages is not writeable\n",
            "Requirement already satisfied: plot in ./.local/lib/python3.10/site-packages (0.6.5)\n",
            "Requirement already satisfied: matplotlib in ./.local/lib/python3.10/site-packages (from plot) (3.7.3)\n",
            "Requirement already satisfied: scipy in ./.local/lib/python3.10/site-packages (from plot) (1.11.2)\n",
            "Requirement already satisfied: numpy in ./.local/lib/python3.10/site-packages (from plot) (1.24.1)\n",
            "Requirement already satisfied: pyyaml in /usr/lib/python3/dist-packages (from plot) (5.4.1)\n",
            "Requirement already satisfied: typing in ./.local/lib/python3.10/site-packages (from plot) (3.7.4.3)\n",
            "Requirement already satisfied: cycler>=0.10 in ./.local/lib/python3.10/site-packages (from matplotlib->plot) (0.11.0)\n",
            "Requirement already satisfied: contourpy>=1.0.1 in ./.local/lib/python3.10/site-packages (from matplotlib->plot) (1.1.0)\n",
            "Requirement already satisfied: packaging>=20.0 in ./.local/lib/python3.10/site-packages (from matplotlib->plot) (23.1)\n",
            "Requirement already satisfied: pillow>=6.2.0 in /usr/lib/python3/dist-packages (from matplotlib->plot) (9.0.1)\n",
            "Requirement already satisfied: fonttools>=4.22.0 in ./.local/lib/python3.10/site-packages (from matplotlib->plot) (4.42.1)\n",
            "Requirement already satisfied: python-dateutil>=2.7 in ./.local/lib/python3.10/site-packages (from matplotlib->plot) (2.8.2)\n",
            "Requirement already satisfied: kiwisolver>=1.0.1 in ./.local/lib/python3.10/site-packages (from matplotlib->plot) (1.4.5)\n",
            "Requirement already satisfied: pyparsing>=2.3.1 in /usr/lib/python3/dist-packages (from matplotlib->plot) (2.4.7)\n",
            "Requirement already satisfied: six>=1.5 in /usr/lib/python3/dist-packages (from python-dateutil>=2.7->matplotlib->plot) (1.16.0)\n",
            "Defaulting to user installation because normal site-packages is not writeable\n",
            "Requirement already satisfied: numpy in ./.local/lib/python3.10/site-packages (1.24.1)\n"
          ]
        }
      ],
      "source": [
        "!pip install torchattacks\n",
        "!pip install pandas\n",
        "!pip install openpyxl\n",
        "!pip install numpy\n",
        "!pip install plot \n",
        "!pip install numpy"
      ]
    },
    {
      "cell_type": "code",
      "execution_count": 2,
      "metadata": {
        "id": "7TSKaIVFvIoy"
      },
      "outputs": [],
      "source": [
        "import torch\n",
        "import torch.nn as nn\n",
        "import time"
      ]
    },
    {
      "cell_type": "code",
      "execution_count": 3,
      "metadata": {},
      "outputs": [],
      "source": [
        "import Sources.DefaultModel as Util\n",
        "import Sources.Cifar10Model as Cifar10Model\n",
        "import Sources.TestUtils as TestUtils"
      ]
    },
    {
      "cell_type": "code",
      "execution_count": 4,
      "metadata": {},
      "outputs": [
        {
          "name": "stdout",
          "output_type": "stream",
          "text": [
            "cuda\n",
            "Files already downloaded and verified\n",
            "Files already downloaded and verified\n",
            "50000\n",
            "10000\n",
            "50000 10000\n"
          ]
        }
      ],
      "source": [
        "Device = Util.HardwareIdentification()\n",
        "TrainDataLoaderCifar10,TestDataLoaderCifar10 = Cifar10Model.ImportData(1000)\n",
        "print(len(TrainDataLoaderCifar10.dataset), len(TestDataLoaderCifar10.dataset))"
      ]
    },
    {
      "cell_type": "code",
      "execution_count": 5,
      "metadata": {},
      "outputs": [],
      "source": [
        "Model = Cifar10Model.Cifar10CNN()\n",
        "Model = Model.to(Device)\n",
        "Epochs = 40\n",
        "Loss = nn.CrossEntropyLoss()\n",
        "LearningRate = 0.0001\n",
        "Optimizer = torch.optim.Adam(Model.parameters(), lr=LearningRate)"
      ]
    },
    {
      "cell_type": "code",
      "execution_count": 6,
      "metadata": {
        "colab": {
          "base_uri": "https://localhost:8080/"
        },
        "id": "JCwDziPOvIo0",
        "outputId": "f88975a0-7ad0-423a-f419-bf1849612466"
      },
      "outputs": [],
      "source": [
        "%%script false --no-raise-error\n",
        "for Epoch in range(Epochs):\n",
        "    ReturnLoss = Util.Trainloop(TrainDataLoaderCifar10, Model, Loss, Optimizer, Device)\n",
        "    print('{:.4f}'.format(ReturnLoss))\n",
        "ModelPath = 'Models/ModelCifar10.torch'\n",
        "torch.save(Model.state_dict(), ModelPath)"
      ]
    },
    {
      "cell_type": "code",
      "execution_count": 7,
      "metadata": {},
      "outputs": [
        {
          "data": {
            "text/plain": [
              "<All keys matched successfully>"
            ]
          },
          "execution_count": 7,
          "metadata": {},
          "output_type": "execute_result"
        }
      ],
      "source": [
        "Model.load_state_dict(torch.load('Models/ModelCifar10.torch'))"
      ]
    },
    {
      "cell_type": "code",
      "execution_count": 8,
      "metadata": {},
      "outputs": [
        {
          "name": "stdout",
          "output_type": "stream",
          "text": [
            "Accuracy: 79.06%\n"
          ]
        }
      ],
      "source": [
        "Util.TestLoop(TestDataLoaderCifar10, Model, Device)\n",
        "X, y = next(iter(TestDataLoaderCifar10))"
      ]
    },
    {
      "cell_type": "code",
      "execution_count": 9,
      "metadata": {},
      "outputs": [],
      "source": [
        "Activation = 4\n",
        "Coef = 5\n",
        "Prob = 2\n",
        "Similarity = 0.2\n",
        "Init=0\n",
        "Steps = 10000\n",
        "lr = 0.2\n",
        "\n",
        "data = []\n",
        "start_time = time.time()\n",
        "data = TestUtils.TestLoopC(Model, Steps, lr, Coef, Activation, Prob, Similarity, Init, X, y, Device, 1000, 1, 1.5)\n",
        "end_time = time.time()\n",
        "\n",
        "TestUtils.SaveTime(start_time, end_time, \"Results/CIFAR10/ComputationTimeResults.txt\")\n",
        "TestUtils.SaveData(data, \"Results/CIFAR10/Results.xlsx\")"
      ]
    },
    {
      "cell_type": "code",
      "execution_count": null,
      "metadata": {},
      "outputs": [],
      "source": [
        "Coef=5\n",
        "Activation=4\n",
        "Prob = 2\n",
        "Similarity = 0.2\n",
        "Init=0\n",
        "lr = 0.2\n",
        "\n",
        "TestedIterations = [100, 1000]\n",
        "\n",
        "for i in range((len(TestedIterations))):\n",
        "    print(TestedIterations[i])\n",
        "    data = []\n",
        "    start_time = time.time()\n",
        "    data = TestUtils.TestLoopC(Model, TestedIterations[i], lr, Coef, Activation, Prob, Similarity, Init, X, y, Device, 1000, 0.1, 1.5)\n",
        "    end_time = time.time()\n",
        "\n",
        "    TestUtils.SaveTime(start_time, end_time, \"Results/CIFAR10/TimeXC\" + str(TestedIterations[i]) +\".txt\")\n",
        "    TestUtils.SaveData(data, \"Results/CIFAR10/ResultsXC\" + str(TestedIterations[i]) + \".xlsx\")"
      ]
    },
    {
      "cell_type": "code",
      "execution_count": null,
      "metadata": {},
      "outputs": [],
      "source": [
        "TestUtils.SaveImages(\"Results/CIFAR10/InitialImages/\", X, y)"
      ]
    },
    {
      "cell_type": "code",
      "execution_count": null,
      "metadata": {},
      "outputs": [],
      "source": [
        "Coef=5\n",
        "Activation=4\n",
        "Prob = 2\n",
        "Similarity = 0.2\n",
        "Init=0\n",
        "lr = 0.2\n",
        "Steps = 10000\n",
        "\n",
        "TestUtils.SaveLoopC(Model, Steps, lr, Coef, Activation, Prob, Similarity, Init, X, y, Device, 1000, 0.1, 1.5, \"Results/CIFAR10/Images/\")"
      ]
    },
    {
      "cell_type": "code",
      "execution_count": null,
      "metadata": {},
      "outputs": [],
      "source": [
        "dataJSMA = []\n",
        "\n",
        "start_time = time.time()\n",
        "Data = TestUtils.TestJSMA(1,1, Model, X, y, Device)\n",
        "end_time = time.time()\n",
        "\n",
        "TestUtils.SaveTime(start_time, end_time, \"Results/CIFAR10/TimeJSMAC.txt\")\n",
        "TestUtils.SaveData(Data, \"Results/CIFAR10/BestJSMAC.xlsx\")"
      ]
    },
    {
      "cell_type": "code",
      "execution_count": null,
      "metadata": {},
      "outputs": [],
      "source": [
        "TestUtils.SaveJSMA(1,1, Model, X, y, Device, \"Results/CIFAR10/JSMAImages/\")"
      ]
    },
    {
      "cell_type": "code",
      "execution_count": null,
      "metadata": {},
      "outputs": [],
      "source": [
        "Count=0\n",
        "dataCW = []\n",
        "\n",
        "start_time = time.time()\n",
        "Data, AX = TestUtils.TestCW(1000, 1, 10, Model, X, y, Device, image_size=32, num_channels = 3)\n",
        "end_time = time.time()\n",
        "\n",
        "TestUtils.SaveTime(start_time, end_time, \"Results/CIFAR10/TimeCCW.txt\")\n",
        "TestUtils.SaveData([Data], \"Results/CIFAR10/BestCCW.xlsx\")"
      ]
    }
  ],
  "metadata": {
    "accelerator": "GPU",
    "colab": {
      "gpuType": "T4",
      "provenance": []
    },
    "kernelspec": {
      "display_name": "Python 3 (ipykernel)",
      "language": "python",
      "name": "python3"
    },
    "orig_nbformat": 4
  },
  "nbformat": 4,
  "nbformat_minor": 0
}
